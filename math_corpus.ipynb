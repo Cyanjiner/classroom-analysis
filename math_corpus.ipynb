{
  "nbformat": 4,
  "nbformat_minor": 0,
  "metadata": {
    "colab": {
      "provenance": [],
      "authorship_tag": "ABX9TyOtmL9yqEDyCguXs/Ud11s2",
      "include_colab_link": true
    },
    "kernelspec": {
      "name": "python3",
      "display_name": "Python 3"
    },
    "language_info": {
      "name": "python"
    }
  },
  "cells": [
    {
      "cell_type": "markdown",
      "metadata": {
        "id": "view-in-github",
        "colab_type": "text"
      },
      "source": [
        "<a href=\"https://colab.research.google.com/github/Cyanjiner/classroom-analysis/blob/main/math_corpus.ipynb\" target=\"_parent\"><img src=\"https://colab.research.google.com/assets/colab-badge.svg\" alt=\"Open In Colab\"/></a>"
      ]
    },
    {
      "cell_type": "code",
      "execution_count": 1,
      "metadata": {
        "colab": {
          "base_uri": "https://localhost:8080/"
        },
        "id": "Coy_LFvPFiMw",
        "outputId": "1c4126da-8e50-45f2-9b5a-84bcfb75b45e"
      },
      "outputs": [
        {
          "output_type": "stream",
          "name": "stdout",
          "text": [
            "Mounted at /content/drive\n"
          ]
        }
      ],
      "source": [
        "# Colab workspace\n",
        "from google.colab import drive\n",
        "drive.mount('/content/drive')"
      ]
    },
    {
      "cell_type": "code",
      "source": [
        "ROOT_FOLDER = \"/content/drive/My Drive/transcript_analysis/\"\n",
        "DATA_FOLDER = ROOT_FOLDER + \"data/\"\n",
        "\n",
        "RAW_FOLDER = DATA_FOLDER + \"raw/\"\n",
        "CLEAN_FOLDER = DATA_FOLDER + \"clean/\"\n",
        "MODELS_FOLDER = ROOT_FOLDER + \"models/\"\n",
        "LOG_DIR = MODELS_FOLDER + \"runs/\""
      ],
      "metadata": {
        "id": "xcbIgMjXFw-k"
      },
      "execution_count": 2,
      "outputs": []
    },
    {
      "cell_type": "code",
      "source": [
        "import pandas as pd\n",
        "from numpy import NaN\n",
        "import re"
      ],
      "metadata": {
        "id": "4rqEZY7sGWSU"
      },
      "execution_count": 24,
      "outputs": []
    },
    {
      "cell_type": "markdown",
      "source": [
        "# Load all math corpora\n",
        "\n",
        "- ✅ `ssdf` (`ccss_text.csv`) -- Common Core State Standards\n",
        "\n",
        "- ✅ `imdf` (`IM_text.csv`) | `math_lang/imdf_sentence_level.csv` -- [Illustrative Mathematics](https://illustrativemathematics.blog/2020/03/26/im-talking-math/)\n",
        "\n",
        "- ✅ `tdf` (`talk_math.csv`) & `math_lang/talk_math_all.csv | talk_math_sentence.csv`\n",
        "\n",
        "- `sfdf` (`SFUSD/sfusd_mathtalks.csv`) -- San Francisco Unified School District (SFUSD) Elementary (grade 3-5) Math Talks Bank [orginal resource link](?)\n",
        "\n",
        "- ✅ `edf` (`engageNY/full_lesson_text.csv`)\n",
        "\n",
        "- 🤔 (pending for usage) `gdf` (`math_glossary.csv`) -- [CCSS Mathematics Glossary](https://web.archive.org/web/20220206180509/http://www.corestandards.org/Math/Content/mathematics-glossary/)"
      ],
      "metadata": {
        "id": "SwdabcmfGPnn"
      }
    },
    {
      "cell_type": "code",
      "source": [
        "ssdf = pd.read_csv(DATA_FOLDER + \"ccss_text.csv\") \n",
        "imdf = pd.read_csv(DATA_FOLDER + \"IM_text.csv\")\n",
        "tdf = pd.read_csv(DATA_FOLDER + \"talk_math.csv\")\n",
        "tdf2 = pd.read_csv(DATA_FOLDER + \"tdf2.csv\")\n",
        "gdf = pd.read_csv(DATA_FOLDER + \"math_glossary.csv\")\n",
        "sfdf = pd.read_csv(DATA_FOLDER + \"SFUSD/sfusd_mathtalks.csv\")\n",
        "edf = pd.read_csv(DATA_FOLDER + \"engageNY/full_lesson_text.csv\")"
      ],
      "metadata": {
        "id": "7P0xZ7yFGNG8"
      },
      "execution_count": 156,
      "outputs": []
    },
    {
      "cell_type": "markdown",
      "source": [
        "## Talking Math"
      ],
      "metadata": {
        "id": "b103-XZNc3O-"
      }
    },
    {
      "cell_type": "code",
      "source": [
        "tdf2.head()"
      ],
      "metadata": {
        "colab": {
          "base_uri": "https://localhost:8080/",
          "height": 206
        },
        "id": "TC8VBnrMc9Xk",
        "outputId": "5091c8bc-ff6c-44d1-d940-8b9dfa0491ac"
      },
      "execution_count": 763,
      "outputs": [
        {
          "output_type": "execute_result",
          "data": {
            "text/plain": [
              "  grade          lesson            standard  \\\n",
              "0     K  Invitational 1                  NA   \n",
              "1     1  Invitational 1     (K.MD and 1.MD)   \n",
              "2     2  Invitational 1  (1.MD and 2.MD.10)   \n",
              "3     3  Invitational 1              (2.MD)   \n",
              "4     4  Invitational 1                3.MD   \n",
              "\n",
              "                                                text  \n",
              "0  [What kinds of toys do you see?, What can you ...  \n",
              "1  [How many toys are round? How many have straig...  \n",
              "2  [Complete the sentences:, There are 2 more ___...  \n",
              "3  [Pick four kinds of toys and count them. , If ...  \n",
              "4  [These are the lengths of the cars in the pict...  "
            ],
            "text/html": [
              "\n",
              "  <div id=\"df-3a0c2965-088b-4de3-8a88-785f505fe766\">\n",
              "    <div class=\"colab-df-container\">\n",
              "      <div>\n",
              "<style scoped>\n",
              "    .dataframe tbody tr th:only-of-type {\n",
              "        vertical-align: middle;\n",
              "    }\n",
              "\n",
              "    .dataframe tbody tr th {\n",
              "        vertical-align: top;\n",
              "    }\n",
              "\n",
              "    .dataframe thead th {\n",
              "        text-align: right;\n",
              "    }\n",
              "</style>\n",
              "<table border=\"1\" class=\"dataframe\">\n",
              "  <thead>\n",
              "    <tr style=\"text-align: right;\">\n",
              "      <th></th>\n",
              "      <th>grade</th>\n",
              "      <th>lesson</th>\n",
              "      <th>standard</th>\n",
              "      <th>text</th>\n",
              "    </tr>\n",
              "  </thead>\n",
              "  <tbody>\n",
              "    <tr>\n",
              "      <th>0</th>\n",
              "      <td>K</td>\n",
              "      <td>Invitational 1</td>\n",
              "      <td>NA</td>\n",
              "      <td>[What kinds of toys do you see?, What can you ...</td>\n",
              "    </tr>\n",
              "    <tr>\n",
              "      <th>1</th>\n",
              "      <td>1</td>\n",
              "      <td>Invitational 1</td>\n",
              "      <td>(K.MD and 1.MD)</td>\n",
              "      <td>[How many toys are round? How many have straig...</td>\n",
              "    </tr>\n",
              "    <tr>\n",
              "      <th>2</th>\n",
              "      <td>2</td>\n",
              "      <td>Invitational 1</td>\n",
              "      <td>(1.MD and 2.MD.10)</td>\n",
              "      <td>[Complete the sentences:, There are 2 more ___...</td>\n",
              "    </tr>\n",
              "    <tr>\n",
              "      <th>3</th>\n",
              "      <td>3</td>\n",
              "      <td>Invitational 1</td>\n",
              "      <td>(2.MD)</td>\n",
              "      <td>[Pick four kinds of toys and count them. , If ...</td>\n",
              "    </tr>\n",
              "    <tr>\n",
              "      <th>4</th>\n",
              "      <td>4</td>\n",
              "      <td>Invitational 1</td>\n",
              "      <td>3.MD</td>\n",
              "      <td>[These are the lengths of the cars in the pict...</td>\n",
              "    </tr>\n",
              "  </tbody>\n",
              "</table>\n",
              "</div>\n",
              "      <button class=\"colab-df-convert\" onclick=\"convertToInteractive('df-3a0c2965-088b-4de3-8a88-785f505fe766')\"\n",
              "              title=\"Convert this dataframe to an interactive table.\"\n",
              "              style=\"display:none;\">\n",
              "        \n",
              "  <svg xmlns=\"http://www.w3.org/2000/svg\" height=\"24px\"viewBox=\"0 0 24 24\"\n",
              "       width=\"24px\">\n",
              "    <path d=\"M0 0h24v24H0V0z\" fill=\"none\"/>\n",
              "    <path d=\"M18.56 5.44l.94 2.06.94-2.06 2.06-.94-2.06-.94-.94-2.06-.94 2.06-2.06.94zm-11 1L8.5 8.5l.94-2.06 2.06-.94-2.06-.94L8.5 2.5l-.94 2.06-2.06.94zm10 10l.94 2.06.94-2.06 2.06-.94-2.06-.94-.94-2.06-.94 2.06-2.06.94z\"/><path d=\"M17.41 7.96l-1.37-1.37c-.4-.4-.92-.59-1.43-.59-.52 0-1.04.2-1.43.59L10.3 9.45l-7.72 7.72c-.78.78-.78 2.05 0 2.83L4 21.41c.39.39.9.59 1.41.59.51 0 1.02-.2 1.41-.59l7.78-7.78 2.81-2.81c.8-.78.8-2.07 0-2.86zM5.41 20L4 18.59l7.72-7.72 1.47 1.35L5.41 20z\"/>\n",
              "  </svg>\n",
              "      </button>\n",
              "      \n",
              "  <style>\n",
              "    .colab-df-container {\n",
              "      display:flex;\n",
              "      flex-wrap:wrap;\n",
              "      gap: 12px;\n",
              "    }\n",
              "\n",
              "    .colab-df-convert {\n",
              "      background-color: #E8F0FE;\n",
              "      border: none;\n",
              "      border-radius: 50%;\n",
              "      cursor: pointer;\n",
              "      display: none;\n",
              "      fill: #1967D2;\n",
              "      height: 32px;\n",
              "      padding: 0 0 0 0;\n",
              "      width: 32px;\n",
              "    }\n",
              "\n",
              "    .colab-df-convert:hover {\n",
              "      background-color: #E2EBFA;\n",
              "      box-shadow: 0px 1px 2px rgba(60, 64, 67, 0.3), 0px 1px 3px 1px rgba(60, 64, 67, 0.15);\n",
              "      fill: #174EA6;\n",
              "    }\n",
              "\n",
              "    [theme=dark] .colab-df-convert {\n",
              "      background-color: #3B4455;\n",
              "      fill: #D2E3FC;\n",
              "    }\n",
              "\n",
              "    [theme=dark] .colab-df-convert:hover {\n",
              "      background-color: #434B5C;\n",
              "      box-shadow: 0px 1px 3px 1px rgba(0, 0, 0, 0.15);\n",
              "      filter: drop-shadow(0px 1px 2px rgba(0, 0, 0, 0.3));\n",
              "      fill: #FFFFFF;\n",
              "    }\n",
              "  </style>\n",
              "\n",
              "      <script>\n",
              "        const buttonEl =\n",
              "          document.querySelector('#df-3a0c2965-088b-4de3-8a88-785f505fe766 button.colab-df-convert');\n",
              "        buttonEl.style.display =\n",
              "          google.colab.kernel.accessAllowed ? 'block' : 'none';\n",
              "\n",
              "        async function convertToInteractive(key) {\n",
              "          const element = document.querySelector('#df-3a0c2965-088b-4de3-8a88-785f505fe766');\n",
              "          const dataTable =\n",
              "            await google.colab.kernel.invokeFunction('convertToInteractive',\n",
              "                                                     [key], {});\n",
              "          if (!dataTable) return;\n",
              "\n",
              "          const docLinkHtml = 'Like what you see? Visit the ' +\n",
              "            '<a target=\"_blank\" href=https://colab.research.google.com/notebooks/data_table.ipynb>data table notebook</a>'\n",
              "            + ' to learn more about interactive tables.';\n",
              "          element.innerHTML = '';\n",
              "          dataTable['output_type'] = 'display_data';\n",
              "          await google.colab.output.renderOutput(dataTable, element);\n",
              "          const docLink = document.createElement('div');\n",
              "          docLink.innerHTML = docLinkHtml;\n",
              "          element.appendChild(docLink);\n",
              "        }\n",
              "      </script>\n",
              "    </div>\n",
              "  </div>\n",
              "  "
            ]
          },
          "metadata": {},
          "execution_count": 763
        }
      ]
    },
    {
      "cell_type": "markdown",
      "source": [
        "### Clean up Talking Math"
      ],
      "metadata": {
        "id": "0Pm9ipffIsrQ"
      }
    },
    {
      "cell_type": "code",
      "source": [
        "import re"
      ],
      "metadata": {
        "id": "uNJGify8IrTK"
      },
      "execution_count": 152,
      "outputs": []
    },
    {
      "cell_type": "code",
      "source": [
        "with open(DATA_FOLDER + \"talking_math.txt\", \"r\") as file:\n",
        "  tm_text = file.read()"
      ],
      "metadata": {
        "id": "H1Xe1rhBnMF9"
      },
      "execution_count": 157,
      "outputs": []
    },
    {
      "cell_type": "code",
      "source": [
        "def extract_paren_substring(string):\n",
        "    start = string.index(\"(\")\n",
        "    end = string.index(\")\")\n",
        "    substring = string[start+1:end]\n",
        "    return string.replace('('+ substring + ')', \"\"), substring"
      ],
      "metadata": {
        "id": "UPJF4s0nZHGS"
      },
      "execution_count": 167,
      "outputs": []
    },
    {
      "cell_type": "code",
      "source": [
        "extract_paren_substring('(5.NF.B.7) How much juice could all of the oranges in the picture produce?')"
      ],
      "metadata": {
        "colab": {
          "base_uri": "https://localhost:8080/"
        },
        "id": "rBJByVtxZJqU",
        "outputId": "38421033-74f2-414f-c2fe-b41a79c0cbc8"
      },
      "execution_count": 68,
      "outputs": [
        {
          "output_type": "execute_result",
          "data": {
            "text/plain": [
              "(' How much juice could all of the oranges in the picture produce?',\n",
              " '5.NF.B.7')"
            ]
          },
          "metadata": {},
          "execution_count": 68
        }
      ]
    },
    {
      "cell_type": "code",
      "source": [
        "def split_grade_section(lesson_text):\n",
        "  grade_content = re.split(r\"(Grade K+|Grade \\d+)\", lesson_text)[1:]\n",
        "  grade_dict = {}\n",
        "  for j in range(len(grade_content)):\n",
        "    g_content = grade_content[j]\n",
        "    if j % 2 == 0: # even index --> grade_content[j] is the separator\n",
        "      index = grade_content[j]\n",
        "      #g_text = grade_content[j+1].strip().split('\\n')\n",
        "      g_text = re.sub(r'\\s+', ' ', grade_content[j+1])\n",
        "      g_text = re.sub('Talking Math','', g_text)\n",
        "      text_list = re.split(r'(?<=[.!?]\\s)+',g_text) # split by punctuation characters\n",
        "      # filtering out empty string & any element w/ \"Talking Math\" from the g_text list\n",
        "      text_list = list(filter(None, text_list))\n",
        "      #get standard if there is one\n",
        "      for i in range(len(text_list)):\n",
        "         if  '(' and ')' in text_list[i]:\n",
        "           new_s, standard = extract_paren_substring(text_list[i])\n",
        "           text_list[i] = new_s\n",
        "         else:\n",
        "           standard = 'NA'\n",
        "         result = {'standard': standard, \"text\": [text for text in text_list if text.strip()]}\n",
        "\n",
        "      grade_dict[index] = result\n",
        "      #grade_dict[index] = grade_content[j+1]\n",
        "  return grade_dict"
      ],
      "metadata": {
        "id": "qVfbE4LRGZmy"
      },
      "execution_count": 168,
      "outputs": []
    },
    {
      "cell_type": "code",
      "source": [
        "main_section = re.split(r\"(Invitational \\d+|Day \\d+)\", tm_text)\n",
        "lesson = []\n",
        "text = []\n",
        "for i, content in enumerate(main_section[1:]):\n",
        "  if i % 2 != 0: \n",
        "    lesson_text = content # if even index --> content is the text follows by lesson\n",
        "    grade_dict = split_grade_section(lesson_text)\n",
        "    text.append(grade_dict)\n",
        "  else: # if odd index --> content is the separator (i.e. lesson index)\n",
        "    lesson_name = content\n",
        "    lesson.append(lesson_name)\n",
        "d = {'lesson': lesson, \"text\": text}"
      ],
      "metadata": {
        "id": "iG-JIRo9oH5b"
      },
      "execution_count": 169,
      "outputs": []
    },
    {
      "cell_type": "code",
      "source": [
        "d['text'][1]"
      ],
      "metadata": {
        "colab": {
          "base_uri": "https://localhost:8080/"
        },
        "id": "Wje0tQQ0cr8W",
        "outputId": "1e9fbbc1-fe27-41d7-bc83-7ab237e6429e"
      },
      "execution_count": 185,
      "outputs": [
        {
          "output_type": "execute_result",
          "data": {
            "text/plain": [
              "{'Grade 4': {'standard': '3.MD',\n",
              "  'text': [' These are the lengths of the cars in the picture, organized by color: Turquoise 1 ¾ inch Yellow 1 ¼ inch Red 1 ½ inch Green 1 ¾ inch Orange 1 ¾ inch Describe how you would make a line plot about the length of the cars. ']},\n",
              " 'Grade 5': {'standard': '4.MD.4',\n",
              "  'text': [' These are the lengths of the blocks in the picture, organized by color: Turquoise 1 ¼ inch Yellow 1 ½ inch Red 1 ½ inch Green 1 ⅜ inch Orange 1 ½ inch Describe how you would make a line plot of this data about the length of the cars. ']}}"
            ]
          },
          "metadata": {},
          "execution_count": 185
        }
      ]
    },
    {
      "cell_type": "code",
      "source": [
        "d['text'][1]['Grade 4']['text'][0][83]"
      ],
      "metadata": {
        "colab": {
          "base_uri": "https://localhost:8080/",
          "height": 35
        },
        "id": "oQrQALSWnv7E",
        "outputId": "41991088-3f37-453b-f41a-3ed25d5458f9"
      },
      "execution_count": 183,
      "outputs": [
        {
          "output_type": "execute_result",
          "data": {
            "text/plain": [
              "'¾'"
            ],
            "application/vnd.google.colaboratory.intrinsic+json": {
              "type": "string"
            }
          },
          "metadata": {},
          "execution_count": 183
        }
      ]
    },
    {
      "cell_type": "code",
      "source": [
        "n = len(d['lesson'])\n",
        "talk_math_dict = []\n",
        "for i in range(n):\n",
        "  lesson_index = d['lesson'][i]\n",
        "  grade_dict = d['text'][i]\n",
        "  for grade, values in grade_dict.items():\n",
        "    grade_name = grade.split(\" \")[1]\n",
        "    standard = values['standard']\n",
        "    text = values['text']\n",
        "    talk_math_dict.append({'grade': grade_name, 'lesson':lesson_index, 'standard': standard, 'text': text})"
      ],
      "metadata": {
        "id": "Qy7JTi2yeQvR"
      },
      "execution_count": 186,
      "outputs": []
    },
    {
      "cell_type": "code",
      "source": [
        "tdf2 = pd.DataFrame(talk_math_dict)"
      ],
      "metadata": {
        "id": "rlCwHS91g-lM"
      },
      "execution_count": 189,
      "outputs": []
    },
    {
      "cell_type": "code",
      "source": [
        "tdf2.head()"
      ],
      "metadata": {
        "colab": {
          "base_uri": "https://localhost:8080/",
          "height": 206
        },
        "id": "hPX9uohN5Or_",
        "outputId": "b59140a2-1fe4-440c-bf1b-1ec78c4fa9ab"
      },
      "execution_count": 190,
      "outputs": [
        {
          "output_type": "execute_result",
          "data": {
            "text/plain": [
              "  grade          lesson          standard  \\\n",
              "0     K  Invitational 1                NA   \n",
              "1     1  Invitational 1     K.MD and 1.MD   \n",
              "2     2  Invitational 1  1.MD and 2.MD.10   \n",
              "3     3  Invitational 1              2.MD   \n",
              "4     4  Invitational 1              3.MD   \n",
              "\n",
              "                                                text  \n",
              "0  [ What kinds of toys do you see? , What can yo...  \n",
              "1  [ How many toys are round? , How many have str...  \n",
              "2  [ Complete the sentences: There are 2 more ___...  \n",
              "3  [ Pick four kinds of toys and count them. , If...  \n",
              "4  [ These are the lengths of the cars in the pic...  "
            ],
            "text/html": [
              "\n",
              "  <div id=\"df-16c949e6-73ea-42dd-ac14-6aef858d80dc\">\n",
              "    <div class=\"colab-df-container\">\n",
              "      <div>\n",
              "<style scoped>\n",
              "    .dataframe tbody tr th:only-of-type {\n",
              "        vertical-align: middle;\n",
              "    }\n",
              "\n",
              "    .dataframe tbody tr th {\n",
              "        vertical-align: top;\n",
              "    }\n",
              "\n",
              "    .dataframe thead th {\n",
              "        text-align: right;\n",
              "    }\n",
              "</style>\n",
              "<table border=\"1\" class=\"dataframe\">\n",
              "  <thead>\n",
              "    <tr style=\"text-align: right;\">\n",
              "      <th></th>\n",
              "      <th>grade</th>\n",
              "      <th>lesson</th>\n",
              "      <th>standard</th>\n",
              "      <th>text</th>\n",
              "    </tr>\n",
              "  </thead>\n",
              "  <tbody>\n",
              "    <tr>\n",
              "      <th>0</th>\n",
              "      <td>K</td>\n",
              "      <td>Invitational 1</td>\n",
              "      <td>NA</td>\n",
              "      <td>[ What kinds of toys do you see? , What can yo...</td>\n",
              "    </tr>\n",
              "    <tr>\n",
              "      <th>1</th>\n",
              "      <td>1</td>\n",
              "      <td>Invitational 1</td>\n",
              "      <td>K.MD and 1.MD</td>\n",
              "      <td>[ How many toys are round? , How many have str...</td>\n",
              "    </tr>\n",
              "    <tr>\n",
              "      <th>2</th>\n",
              "      <td>2</td>\n",
              "      <td>Invitational 1</td>\n",
              "      <td>1.MD and 2.MD.10</td>\n",
              "      <td>[ Complete the sentences: There are 2 more ___...</td>\n",
              "    </tr>\n",
              "    <tr>\n",
              "      <th>3</th>\n",
              "      <td>3</td>\n",
              "      <td>Invitational 1</td>\n",
              "      <td>2.MD</td>\n",
              "      <td>[ Pick four kinds of toys and count them. , If...</td>\n",
              "    </tr>\n",
              "    <tr>\n",
              "      <th>4</th>\n",
              "      <td>4</td>\n",
              "      <td>Invitational 1</td>\n",
              "      <td>3.MD</td>\n",
              "      <td>[ These are the lengths of the cars in the pic...</td>\n",
              "    </tr>\n",
              "  </tbody>\n",
              "</table>\n",
              "</div>\n",
              "      <button class=\"colab-df-convert\" onclick=\"convertToInteractive('df-16c949e6-73ea-42dd-ac14-6aef858d80dc')\"\n",
              "              title=\"Convert this dataframe to an interactive table.\"\n",
              "              style=\"display:none;\">\n",
              "        \n",
              "  <svg xmlns=\"http://www.w3.org/2000/svg\" height=\"24px\"viewBox=\"0 0 24 24\"\n",
              "       width=\"24px\">\n",
              "    <path d=\"M0 0h24v24H0V0z\" fill=\"none\"/>\n",
              "    <path d=\"M18.56 5.44l.94 2.06.94-2.06 2.06-.94-2.06-.94-.94-2.06-.94 2.06-2.06.94zm-11 1L8.5 8.5l.94-2.06 2.06-.94-2.06-.94L8.5 2.5l-.94 2.06-2.06.94zm10 10l.94 2.06.94-2.06 2.06-.94-2.06-.94-.94-2.06-.94 2.06-2.06.94z\"/><path d=\"M17.41 7.96l-1.37-1.37c-.4-.4-.92-.59-1.43-.59-.52 0-1.04.2-1.43.59L10.3 9.45l-7.72 7.72c-.78.78-.78 2.05 0 2.83L4 21.41c.39.39.9.59 1.41.59.51 0 1.02-.2 1.41-.59l7.78-7.78 2.81-2.81c.8-.78.8-2.07 0-2.86zM5.41 20L4 18.59l7.72-7.72 1.47 1.35L5.41 20z\"/>\n",
              "  </svg>\n",
              "      </button>\n",
              "      \n",
              "  <style>\n",
              "    .colab-df-container {\n",
              "      display:flex;\n",
              "      flex-wrap:wrap;\n",
              "      gap: 12px;\n",
              "    }\n",
              "\n",
              "    .colab-df-convert {\n",
              "      background-color: #E8F0FE;\n",
              "      border: none;\n",
              "      border-radius: 50%;\n",
              "      cursor: pointer;\n",
              "      display: none;\n",
              "      fill: #1967D2;\n",
              "      height: 32px;\n",
              "      padding: 0 0 0 0;\n",
              "      width: 32px;\n",
              "    }\n",
              "\n",
              "    .colab-df-convert:hover {\n",
              "      background-color: #E2EBFA;\n",
              "      box-shadow: 0px 1px 2px rgba(60, 64, 67, 0.3), 0px 1px 3px 1px rgba(60, 64, 67, 0.15);\n",
              "      fill: #174EA6;\n",
              "    }\n",
              "\n",
              "    [theme=dark] .colab-df-convert {\n",
              "      background-color: #3B4455;\n",
              "      fill: #D2E3FC;\n",
              "    }\n",
              "\n",
              "    [theme=dark] .colab-df-convert:hover {\n",
              "      background-color: #434B5C;\n",
              "      box-shadow: 0px 1px 3px 1px rgba(0, 0, 0, 0.15);\n",
              "      filter: drop-shadow(0px 1px 2px rgba(0, 0, 0, 0.3));\n",
              "      fill: #FFFFFF;\n",
              "    }\n",
              "  </style>\n",
              "\n",
              "      <script>\n",
              "        const buttonEl =\n",
              "          document.querySelector('#df-16c949e6-73ea-42dd-ac14-6aef858d80dc button.colab-df-convert');\n",
              "        buttonEl.style.display =\n",
              "          google.colab.kernel.accessAllowed ? 'block' : 'none';\n",
              "\n",
              "        async function convertToInteractive(key) {\n",
              "          const element = document.querySelector('#df-16c949e6-73ea-42dd-ac14-6aef858d80dc');\n",
              "          const dataTable =\n",
              "            await google.colab.kernel.invokeFunction('convertToInteractive',\n",
              "                                                     [key], {});\n",
              "          if (!dataTable) return;\n",
              "\n",
              "          const docLinkHtml = 'Like what you see? Visit the ' +\n",
              "            '<a target=\"_blank\" href=https://colab.research.google.com/notebooks/data_table.ipynb>data table notebook</a>'\n",
              "            + ' to learn more about interactive tables.';\n",
              "          element.innerHTML = '';\n",
              "          dataTable['output_type'] = 'display_data';\n",
              "          await google.colab.output.renderOutput(dataTable, element);\n",
              "          const docLink = document.createElement('div');\n",
              "          docLink.innerHTML = docLinkHtml;\n",
              "          element.appendChild(docLink);\n",
              "        }\n",
              "      </script>\n",
              "    </div>\n",
              "  </div>\n",
              "  "
            ]
          },
          "metadata": {},
          "execution_count": 190
        }
      ]
    },
    {
      "cell_type": "code",
      "source": [
        "#from google.colab import files\n",
        "#tdf2.to_csv(\"tdf2.csv\")\n",
        "#files.download('tdf2.csv')\n",
        "tdf2.to_csv(DATA_FOLDER + \"math_lang/talk_math_all.csv\")"
      ],
      "metadata": {
        "id": "RZpafvXD5ti3"
      },
      "execution_count": 200,
      "outputs": []
    },
    {
      "cell_type": "markdown",
      "source": [
        "### Talking Math -- Sentence Level"
      ],
      "metadata": {
        "id": "r9-ggngfR-BG"
      }
    },
    {
      "cell_type": "code",
      "source": [
        "tdf2 # filter by grade 3 view"
      ],
      "metadata": {
        "colab": {
          "base_uri": "https://localhost:8080/",
          "height": 398
        },
        "id": "2HIOhDcaSD14",
        "outputId": "e7dfce09-516f-463c-a964-30d87af9c5b1"
      },
      "execution_count": 203,
      "outputs": [
        {
          "output_type": "execute_result",
          "data": {
            "text/plain": [
              "    grade          lesson          standard  \\\n",
              "0       K  Invitational 1                NA   \n",
              "1       1  Invitational 1     K.MD and 1.MD   \n",
              "2       2  Invitational 1  1.MD and 2.MD.10   \n",
              "3       3  Invitational 1              2.MD   \n",
              "4       4  Invitational 1              3.MD   \n",
              "..    ...             ...               ...   \n",
              "644     1          Day 95          1.MD.A.2   \n",
              "645     2          Day 95          2.MD.A.1   \n",
              "646     3          Day 95          3.MD.B.4   \n",
              "647     4          Day 95          4.MD.A.1   \n",
              "648     5          Day 95          5.MD.A.1   \n",
              "\n",
              "                                                  text  \n",
              "0    [ What kinds of toys do you see? , What can yo...  \n",
              "1    [ How many toys are round? , How many have str...  \n",
              "2    [ Complete the sentences: There are 2 more ___...  \n",
              "3    [ Pick four kinds of toys and count them. , If...  \n",
              "4    [ These are the lengths of the cars in the pic...  \n",
              "..                                                 ...  \n",
              "644  [ Find some of these objects in your home. , H...  \n",
              "645  [ There are rulers in this picture. , What can...  \n",
              "646  [ Find 3 of the objects similar to those in th...  \n",
              "647  [ The longer paint brushes in the picture are ...  \n",
              "648  [ If all the pencils in the picture were lined...  \n",
              "\n",
              "[649 rows x 4 columns]"
            ],
            "text/html": [
              "\n",
              "  <div id=\"df-f799f1a9-5eb0-4f71-ba08-e3d4a2e5515f\">\n",
              "    <div class=\"colab-df-container\">\n",
              "      <div>\n",
              "<style scoped>\n",
              "    .dataframe tbody tr th:only-of-type {\n",
              "        vertical-align: middle;\n",
              "    }\n",
              "\n",
              "    .dataframe tbody tr th {\n",
              "        vertical-align: top;\n",
              "    }\n",
              "\n",
              "    .dataframe thead th {\n",
              "        text-align: right;\n",
              "    }\n",
              "</style>\n",
              "<table border=\"1\" class=\"dataframe\">\n",
              "  <thead>\n",
              "    <tr style=\"text-align: right;\">\n",
              "      <th></th>\n",
              "      <th>grade</th>\n",
              "      <th>lesson</th>\n",
              "      <th>standard</th>\n",
              "      <th>text</th>\n",
              "    </tr>\n",
              "  </thead>\n",
              "  <tbody>\n",
              "    <tr>\n",
              "      <th>0</th>\n",
              "      <td>K</td>\n",
              "      <td>Invitational 1</td>\n",
              "      <td>NA</td>\n",
              "      <td>[ What kinds of toys do you see? , What can yo...</td>\n",
              "    </tr>\n",
              "    <tr>\n",
              "      <th>1</th>\n",
              "      <td>1</td>\n",
              "      <td>Invitational 1</td>\n",
              "      <td>K.MD and 1.MD</td>\n",
              "      <td>[ How many toys are round? , How many have str...</td>\n",
              "    </tr>\n",
              "    <tr>\n",
              "      <th>2</th>\n",
              "      <td>2</td>\n",
              "      <td>Invitational 1</td>\n",
              "      <td>1.MD and 2.MD.10</td>\n",
              "      <td>[ Complete the sentences: There are 2 more ___...</td>\n",
              "    </tr>\n",
              "    <tr>\n",
              "      <th>3</th>\n",
              "      <td>3</td>\n",
              "      <td>Invitational 1</td>\n",
              "      <td>2.MD</td>\n",
              "      <td>[ Pick four kinds of toys and count them. , If...</td>\n",
              "    </tr>\n",
              "    <tr>\n",
              "      <th>4</th>\n",
              "      <td>4</td>\n",
              "      <td>Invitational 1</td>\n",
              "      <td>3.MD</td>\n",
              "      <td>[ These are the lengths of the cars in the pic...</td>\n",
              "    </tr>\n",
              "    <tr>\n",
              "      <th>...</th>\n",
              "      <td>...</td>\n",
              "      <td>...</td>\n",
              "      <td>...</td>\n",
              "      <td>...</td>\n",
              "    </tr>\n",
              "    <tr>\n",
              "      <th>644</th>\n",
              "      <td>1</td>\n",
              "      <td>Day 95</td>\n",
              "      <td>1.MD.A.2</td>\n",
              "      <td>[ Find some of these objects in your home. , H...</td>\n",
              "    </tr>\n",
              "    <tr>\n",
              "      <th>645</th>\n",
              "      <td>2</td>\n",
              "      <td>Day 95</td>\n",
              "      <td>2.MD.A.1</td>\n",
              "      <td>[ There are rulers in this picture. , What can...</td>\n",
              "    </tr>\n",
              "    <tr>\n",
              "      <th>646</th>\n",
              "      <td>3</td>\n",
              "      <td>Day 95</td>\n",
              "      <td>3.MD.B.4</td>\n",
              "      <td>[ Find 3 of the objects similar to those in th...</td>\n",
              "    </tr>\n",
              "    <tr>\n",
              "      <th>647</th>\n",
              "      <td>4</td>\n",
              "      <td>Day 95</td>\n",
              "      <td>4.MD.A.1</td>\n",
              "      <td>[ The longer paint brushes in the picture are ...</td>\n",
              "    </tr>\n",
              "    <tr>\n",
              "      <th>648</th>\n",
              "      <td>5</td>\n",
              "      <td>Day 95</td>\n",
              "      <td>5.MD.A.1</td>\n",
              "      <td>[ If all the pencils in the picture were lined...</td>\n",
              "    </tr>\n",
              "  </tbody>\n",
              "</table>\n",
              "<p>649 rows × 4 columns</p>\n",
              "</div>\n",
              "      <button class=\"colab-df-convert\" onclick=\"convertToInteractive('df-f799f1a9-5eb0-4f71-ba08-e3d4a2e5515f')\"\n",
              "              title=\"Convert this dataframe to an interactive table.\"\n",
              "              style=\"display:none;\">\n",
              "        \n",
              "  <svg xmlns=\"http://www.w3.org/2000/svg\" height=\"24px\"viewBox=\"0 0 24 24\"\n",
              "       width=\"24px\">\n",
              "    <path d=\"M0 0h24v24H0V0z\" fill=\"none\"/>\n",
              "    <path d=\"M18.56 5.44l.94 2.06.94-2.06 2.06-.94-2.06-.94-.94-2.06-.94 2.06-2.06.94zm-11 1L8.5 8.5l.94-2.06 2.06-.94-2.06-.94L8.5 2.5l-.94 2.06-2.06.94zm10 10l.94 2.06.94-2.06 2.06-.94-2.06-.94-.94-2.06-.94 2.06-2.06.94z\"/><path d=\"M17.41 7.96l-1.37-1.37c-.4-.4-.92-.59-1.43-.59-.52 0-1.04.2-1.43.59L10.3 9.45l-7.72 7.72c-.78.78-.78 2.05 0 2.83L4 21.41c.39.39.9.59 1.41.59.51 0 1.02-.2 1.41-.59l7.78-7.78 2.81-2.81c.8-.78.8-2.07 0-2.86zM5.41 20L4 18.59l7.72-7.72 1.47 1.35L5.41 20z\"/>\n",
              "  </svg>\n",
              "      </button>\n",
              "      \n",
              "  <style>\n",
              "    .colab-df-container {\n",
              "      display:flex;\n",
              "      flex-wrap:wrap;\n",
              "      gap: 12px;\n",
              "    }\n",
              "\n",
              "    .colab-df-convert {\n",
              "      background-color: #E8F0FE;\n",
              "      border: none;\n",
              "      border-radius: 50%;\n",
              "      cursor: pointer;\n",
              "      display: none;\n",
              "      fill: #1967D2;\n",
              "      height: 32px;\n",
              "      padding: 0 0 0 0;\n",
              "      width: 32px;\n",
              "    }\n",
              "\n",
              "    .colab-df-convert:hover {\n",
              "      background-color: #E2EBFA;\n",
              "      box-shadow: 0px 1px 2px rgba(60, 64, 67, 0.3), 0px 1px 3px 1px rgba(60, 64, 67, 0.15);\n",
              "      fill: #174EA6;\n",
              "    }\n",
              "\n",
              "    [theme=dark] .colab-df-convert {\n",
              "      background-color: #3B4455;\n",
              "      fill: #D2E3FC;\n",
              "    }\n",
              "\n",
              "    [theme=dark] .colab-df-convert:hover {\n",
              "      background-color: #434B5C;\n",
              "      box-shadow: 0px 1px 3px 1px rgba(0, 0, 0, 0.15);\n",
              "      filter: drop-shadow(0px 1px 2px rgba(0, 0, 0, 0.3));\n",
              "      fill: #FFFFFF;\n",
              "    }\n",
              "  </style>\n",
              "\n",
              "      <script>\n",
              "        const buttonEl =\n",
              "          document.querySelector('#df-f799f1a9-5eb0-4f71-ba08-e3d4a2e5515f button.colab-df-convert');\n",
              "        buttonEl.style.display =\n",
              "          google.colab.kernel.accessAllowed ? 'block' : 'none';\n",
              "\n",
              "        async function convertToInteractive(key) {\n",
              "          const element = document.querySelector('#df-f799f1a9-5eb0-4f71-ba08-e3d4a2e5515f');\n",
              "          const dataTable =\n",
              "            await google.colab.kernel.invokeFunction('convertToInteractive',\n",
              "                                                     [key], {});\n",
              "          if (!dataTable) return;\n",
              "\n",
              "          const docLinkHtml = 'Like what you see? Visit the ' +\n",
              "            '<a target=\"_blank\" href=https://colab.research.google.com/notebooks/data_table.ipynb>data table notebook</a>'\n",
              "            + ' to learn more about interactive tables.';\n",
              "          element.innerHTML = '';\n",
              "          dataTable['output_type'] = 'display_data';\n",
              "          await google.colab.output.renderOutput(dataTable, element);\n",
              "          const docLink = document.createElement('div');\n",
              "          docLink.innerHTML = docLinkHtml;\n",
              "          element.appendChild(docLink);\n",
              "        }\n",
              "      </script>\n",
              "    </div>\n",
              "  </div>\n",
              "  "
            ]
          },
          "metadata": {},
          "execution_count": 203
        }
      ]
    },
    {
      "cell_type": "code",
      "source": [
        "import pandas as pd"
      ],
      "metadata": {
        "id": "7SOx50B6TRXX"
      },
      "execution_count": 11,
      "outputs": []
    },
    {
      "cell_type": "code",
      "source": [
        "type(tdf2.iloc[0]['text'])"
      ],
      "metadata": {
        "colab": {
          "base_uri": "https://localhost:8080/"
        },
        "id": "vw8x9WP7pQVH",
        "outputId": "7d7ec7cf-24eb-4191-c393-58851102f033"
      },
      "execution_count": 196,
      "outputs": [
        {
          "output_type": "execute_result",
          "data": {
            "text/plain": [
              "list"
            ]
          },
          "metadata": {},
          "execution_count": 196
        }
      ]
    },
    {
      "cell_type": "code",
      "source": [
        "# convert text column to list\n",
        "#tdf2['text'] = tdf2['text'].apply(lambda x: eval(x))\n",
        "# split the row into multiple rows using explode\n",
        "tdf2_by_sentence = tdf2.explode('text')\n",
        "tdf2_by_sentence.to_csv(DATA_FOLDER + \"math_lang/talk_math_sentence_level.csv\")"
      ],
      "metadata": {
        "id": "ks6ygeLBTcLx"
      },
      "execution_count": 201,
      "outputs": []
    },
    {
      "cell_type": "code",
      "source": [
        "tdf2_by_sentence"
      ],
      "metadata": {
        "colab": {
          "base_uri": "https://localhost:8080/",
          "height": 530
        },
        "id": "tpH-sxEmqJXX",
        "outputId": "098744dc-9bd2-47d9-86d2-a3832b78a7dd"
      },
      "execution_count": 202,
      "outputs": [
        {
          "output_type": "execute_result",
          "data": {
            "text/plain": [
              "    grade          lesson       standard  \\\n",
              "0       K  Invitational 1             NA   \n",
              "0       K  Invitational 1             NA   \n",
              "1       1  Invitational 1  K.MD and 1.MD   \n",
              "1       1  Invitational 1  K.MD and 1.MD   \n",
              "1       1  Invitational 1  K.MD and 1.MD   \n",
              "..    ...             ...            ...   \n",
              "647     4          Day 95       4.MD.A.1   \n",
              "647     4          Day 95       4.MD.A.1   \n",
              "648     5          Day 95       5.MD.A.1   \n",
              "648     5          Day 95       5.MD.A.1   \n",
              "648     5          Day 95       5.MD.A.1   \n",
              "\n",
              "                                                  text  \n",
              "0                      What kinds of toys do you see?   \n",
              "0                What can you tell me about the toys?   \n",
              "1                            How many toys are round?   \n",
              "1                       How many have straight sides?   \n",
              "1    Do you think there are more round toys or toys...  \n",
              "..                                                 ...  \n",
              "647          Can paint brushes be measured in meters?   \n",
              "647                                          Explain.   \n",
              "648   If all the pencils in the picture were lined ...  \n",
              "648                   What is this measure in meters?   \n",
              "648                                         Explain.    \n",
              "\n",
              "[1476 rows x 4 columns]"
            ],
            "text/html": [
              "\n",
              "  <div id=\"df-4f1d09cc-386b-4d6b-b2f6-9bc3af787747\">\n",
              "    <div class=\"colab-df-container\">\n",
              "      <div>\n",
              "<style scoped>\n",
              "    .dataframe tbody tr th:only-of-type {\n",
              "        vertical-align: middle;\n",
              "    }\n",
              "\n",
              "    .dataframe tbody tr th {\n",
              "        vertical-align: top;\n",
              "    }\n",
              "\n",
              "    .dataframe thead th {\n",
              "        text-align: right;\n",
              "    }\n",
              "</style>\n",
              "<table border=\"1\" class=\"dataframe\">\n",
              "  <thead>\n",
              "    <tr style=\"text-align: right;\">\n",
              "      <th></th>\n",
              "      <th>grade</th>\n",
              "      <th>lesson</th>\n",
              "      <th>standard</th>\n",
              "      <th>text</th>\n",
              "    </tr>\n",
              "  </thead>\n",
              "  <tbody>\n",
              "    <tr>\n",
              "      <th>0</th>\n",
              "      <td>K</td>\n",
              "      <td>Invitational 1</td>\n",
              "      <td>NA</td>\n",
              "      <td>What kinds of toys do you see?</td>\n",
              "    </tr>\n",
              "    <tr>\n",
              "      <th>0</th>\n",
              "      <td>K</td>\n",
              "      <td>Invitational 1</td>\n",
              "      <td>NA</td>\n",
              "      <td>What can you tell me about the toys?</td>\n",
              "    </tr>\n",
              "    <tr>\n",
              "      <th>1</th>\n",
              "      <td>1</td>\n",
              "      <td>Invitational 1</td>\n",
              "      <td>K.MD and 1.MD</td>\n",
              "      <td>How many toys are round?</td>\n",
              "    </tr>\n",
              "    <tr>\n",
              "      <th>1</th>\n",
              "      <td>1</td>\n",
              "      <td>Invitational 1</td>\n",
              "      <td>K.MD and 1.MD</td>\n",
              "      <td>How many have straight sides?</td>\n",
              "    </tr>\n",
              "    <tr>\n",
              "      <th>1</th>\n",
              "      <td>1</td>\n",
              "      <td>Invitational 1</td>\n",
              "      <td>K.MD and 1.MD</td>\n",
              "      <td>Do you think there are more round toys or toys...</td>\n",
              "    </tr>\n",
              "    <tr>\n",
              "      <th>...</th>\n",
              "      <td>...</td>\n",
              "      <td>...</td>\n",
              "      <td>...</td>\n",
              "      <td>...</td>\n",
              "    </tr>\n",
              "    <tr>\n",
              "      <th>647</th>\n",
              "      <td>4</td>\n",
              "      <td>Day 95</td>\n",
              "      <td>4.MD.A.1</td>\n",
              "      <td>Can paint brushes be measured in meters?</td>\n",
              "    </tr>\n",
              "    <tr>\n",
              "      <th>647</th>\n",
              "      <td>4</td>\n",
              "      <td>Day 95</td>\n",
              "      <td>4.MD.A.1</td>\n",
              "      <td>Explain.</td>\n",
              "    </tr>\n",
              "    <tr>\n",
              "      <th>648</th>\n",
              "      <td>5</td>\n",
              "      <td>Day 95</td>\n",
              "      <td>5.MD.A.1</td>\n",
              "      <td>If all the pencils in the picture were lined ...</td>\n",
              "    </tr>\n",
              "    <tr>\n",
              "      <th>648</th>\n",
              "      <td>5</td>\n",
              "      <td>Day 95</td>\n",
              "      <td>5.MD.A.1</td>\n",
              "      <td>What is this measure in meters?</td>\n",
              "    </tr>\n",
              "    <tr>\n",
              "      <th>648</th>\n",
              "      <td>5</td>\n",
              "      <td>Day 95</td>\n",
              "      <td>5.MD.A.1</td>\n",
              "      <td>Explain.</td>\n",
              "    </tr>\n",
              "  </tbody>\n",
              "</table>\n",
              "<p>1476 rows × 4 columns</p>\n",
              "</div>\n",
              "      <button class=\"colab-df-convert\" onclick=\"convertToInteractive('df-4f1d09cc-386b-4d6b-b2f6-9bc3af787747')\"\n",
              "              title=\"Convert this dataframe to an interactive table.\"\n",
              "              style=\"display:none;\">\n",
              "        \n",
              "  <svg xmlns=\"http://www.w3.org/2000/svg\" height=\"24px\"viewBox=\"0 0 24 24\"\n",
              "       width=\"24px\">\n",
              "    <path d=\"M0 0h24v24H0V0z\" fill=\"none\"/>\n",
              "    <path d=\"M18.56 5.44l.94 2.06.94-2.06 2.06-.94-2.06-.94-.94-2.06-.94 2.06-2.06.94zm-11 1L8.5 8.5l.94-2.06 2.06-.94-2.06-.94L8.5 2.5l-.94 2.06-2.06.94zm10 10l.94 2.06.94-2.06 2.06-.94-2.06-.94-.94-2.06-.94 2.06-2.06.94z\"/><path d=\"M17.41 7.96l-1.37-1.37c-.4-.4-.92-.59-1.43-.59-.52 0-1.04.2-1.43.59L10.3 9.45l-7.72 7.72c-.78.78-.78 2.05 0 2.83L4 21.41c.39.39.9.59 1.41.59.51 0 1.02-.2 1.41-.59l7.78-7.78 2.81-2.81c.8-.78.8-2.07 0-2.86zM5.41 20L4 18.59l7.72-7.72 1.47 1.35L5.41 20z\"/>\n",
              "  </svg>\n",
              "      </button>\n",
              "      \n",
              "  <style>\n",
              "    .colab-df-container {\n",
              "      display:flex;\n",
              "      flex-wrap:wrap;\n",
              "      gap: 12px;\n",
              "    }\n",
              "\n",
              "    .colab-df-convert {\n",
              "      background-color: #E8F0FE;\n",
              "      border: none;\n",
              "      border-radius: 50%;\n",
              "      cursor: pointer;\n",
              "      display: none;\n",
              "      fill: #1967D2;\n",
              "      height: 32px;\n",
              "      padding: 0 0 0 0;\n",
              "      width: 32px;\n",
              "    }\n",
              "\n",
              "    .colab-df-convert:hover {\n",
              "      background-color: #E2EBFA;\n",
              "      box-shadow: 0px 1px 2px rgba(60, 64, 67, 0.3), 0px 1px 3px 1px rgba(60, 64, 67, 0.15);\n",
              "      fill: #174EA6;\n",
              "    }\n",
              "\n",
              "    [theme=dark] .colab-df-convert {\n",
              "      background-color: #3B4455;\n",
              "      fill: #D2E3FC;\n",
              "    }\n",
              "\n",
              "    [theme=dark] .colab-df-convert:hover {\n",
              "      background-color: #434B5C;\n",
              "      box-shadow: 0px 1px 3px 1px rgba(0, 0, 0, 0.15);\n",
              "      filter: drop-shadow(0px 1px 2px rgba(0, 0, 0, 0.3));\n",
              "      fill: #FFFFFF;\n",
              "    }\n",
              "  </style>\n",
              "\n",
              "      <script>\n",
              "        const buttonEl =\n",
              "          document.querySelector('#df-4f1d09cc-386b-4d6b-b2f6-9bc3af787747 button.colab-df-convert');\n",
              "        buttonEl.style.display =\n",
              "          google.colab.kernel.accessAllowed ? 'block' : 'none';\n",
              "\n",
              "        async function convertToInteractive(key) {\n",
              "          const element = document.querySelector('#df-4f1d09cc-386b-4d6b-b2f6-9bc3af787747');\n",
              "          const dataTable =\n",
              "            await google.colab.kernel.invokeFunction('convertToInteractive',\n",
              "                                                     [key], {});\n",
              "          if (!dataTable) return;\n",
              "\n",
              "          const docLinkHtml = 'Like what you see? Visit the ' +\n",
              "            '<a target=\"_blank\" href=https://colab.research.google.com/notebooks/data_table.ipynb>data table notebook</a>'\n",
              "            + ' to learn more about interactive tables.';\n",
              "          element.innerHTML = '';\n",
              "          dataTable['output_type'] = 'display_data';\n",
              "          await google.colab.output.renderOutput(dataTable, element);\n",
              "          const docLink = document.createElement('div');\n",
              "          docLink.innerHTML = docLinkHtml;\n",
              "          element.appendChild(docLink);\n",
              "        }\n",
              "      </script>\n",
              "    </div>\n",
              "  </div>\n",
              "  "
            ]
          },
          "metadata": {},
          "execution_count": 202
        }
      ]
    },
    {
      "cell_type": "markdown",
      "source": [
        "## IM text"
      ],
      "metadata": {
        "id": "zjDYCMRRdBK_"
      }
    },
    {
      "cell_type": "code",
      "source": [
        "imdf.head()"
      ],
      "metadata": {
        "id": "D51iVkloL73d"
      },
      "execution_count": null,
      "outputs": []
    },
    {
      "cell_type": "markdown",
      "source": [
        "### Decompose by sentence level"
      ],
      "metadata": {
        "id": "EmAE8lGq-fO8"
      }
    },
    {
      "cell_type": "code",
      "source": [
        "imdf['ts_text'] = imdf['ts_text'].apply(lambda x: eval(x))"
      ],
      "metadata": {
        "id": "jOOtT3ZK8qna"
      },
      "execution_count": 210,
      "outputs": []
    },
    {
      "cell_type": "code",
      "source": [
        "# decompose by sentence level\n",
        "imdf_sentence = imdf.explode('ts_text')"
      ],
      "metadata": {
        "id": "EJKr5Ah-vSDf"
      },
      "execution_count": 225,
      "outputs": []
    },
    {
      "cell_type": "code",
      "source": [
        "imdf_sentence.iloc[0]['ts_text']"
      ],
      "metadata": {
        "colab": {
          "base_uri": "https://localhost:8080/",
          "height": 53
        },
        "id": "ZALPJ3VHvugE",
        "outputId": "0b67891d-eefe-4ccd-d708-61f626fba7a7"
      },
      "execution_count": 226,
      "outputs": [
        {
          "output_type": "execute_result",
          "data": {
            "text/plain": [
              "'“What are some different ways you and your partner can work together to count the collection?” (One person can count first and then the next can count to see if they get the same amount. We can take turns moving an object and counting a number.)'"
            ],
            "application/vnd.google.colaboratory.intrinsic+json": {
              "type": "string"
            }
          },
          "metadata": {},
          "execution_count": 226
        }
      ]
    },
    {
      "cell_type": "code",
      "source": [
        "imdf_sentence.iloc[3]['ts_text']"
      ],
      "metadata": {
        "colab": {
          "base_uri": "https://localhost:8080/",
          "height": 71
        },
        "id": "GIwBvjxOv2Gx",
        "outputId": "e2e44d97-a239-4cad-ee9b-f94f5fd1318f"
      },
      "execution_count": 227,
      "outputs": [
        {
          "output_type": "execute_result",
          "data": {
            "text/plain": [
              "'“What does it look and sound like to do math together as a mathematical community?” (We talked to each other and to the teacher. We had quiet time to think. You asked us questions. We shared our ideas. We thought about the math ideas and words we knew. You were writing down our answers. You were waiting quietly until we gave the answers.)'"
            ],
            "application/vnd.google.colaboratory.intrinsic+json": {
              "type": "string"
            }
          },
          "metadata": {},
          "execution_count": 227
        }
      ]
    },
    {
      "cell_type": "code",
      "source": [
        "imdf_sentence.iloc[100]['ts_text']"
      ],
      "metadata": {
        "colab": {
          "base_uri": "https://localhost:8080/",
          "height": 71
        },
        "id": "iKoZKj-PzL-1",
        "outputId": "a00fbd96-3e07-4adf-c804-8eeca7cb9b31"
      },
      "execution_count": 244,
      "outputs": [
        {
          "output_type": "execute_result",
          "data": {
            "text/plain": [
              "'“Today we answered questions about data represented with tally marks and numbers. Which representation do you prefer? Why do you like that representation better?” (I prefer tally marks because I don’t have to use cubes or make a drawing to add the numbers together. I prefer the numbers because I don’t have to count.)'"
            ],
            "application/vnd.google.colaboratory.intrinsic+json": {
              "type": "string"
            }
          },
          "metadata": {},
          "execution_count": 244
        }
      ]
    },
    {
      "cell_type": "code",
      "source": [
        "s = re.search(r'“(.*)”\\((.*)\\)',imdf_sentence.iloc[100]['ts_text'])"
      ],
      "metadata": {
        "id": "AW96LNuy0o_5"
      },
      "execution_count": 245,
      "outputs": []
    },
    {
      "cell_type": "code",
      "source": [
        "double_quotes = re.findall(r'“(.*?)”', imdf_sentence.iloc[100]['ts_text'])"
      ],
      "metadata": {
        "id": "GFIMsbii00js"
      },
      "execution_count": 249,
      "outputs": []
    },
    {
      "cell_type": "code",
      "source": [
        "double_quotes"
      ],
      "metadata": {
        "colab": {
          "base_uri": "https://localhost:8080/"
        },
        "id": "5mGB66cz1We8",
        "outputId": "f40ec474-ac7a-456c-a2a3-bc57b7dfc338"
      },
      "execution_count": 252,
      "outputs": [
        {
          "output_type": "execute_result",
          "data": {
            "text/plain": [
              "['Today we answered questions about data represented with tally marks and numbers. Which representation do you prefer? Why do you like that representation better?']"
            ]
          },
          "metadata": {},
          "execution_count": 252
        }
      ]
    },
    {
      "cell_type": "code",
      "source": [
        "parentheses = re.findall(r'\\((.*?)\\)', imdf_sentence.iloc[100]['ts_text'])"
      ],
      "metadata": {
        "id": "6M_0Md4g0wEm"
      },
      "execution_count": 253,
      "outputs": []
    },
    {
      "cell_type": "code",
      "source": [
        "parentheses"
      ],
      "metadata": {
        "colab": {
          "base_uri": "https://localhost:8080/"
        },
        "id": "gOmY0FBr3R2Y",
        "outputId": "fc317d78-9135-46e5-ae99-b1958f96826e"
      },
      "execution_count": 264,
      "outputs": [
        {
          "output_type": "execute_result",
          "data": {
            "text/plain": [
              "['I prefer tally marks because I don’t have to use cubes or make a drawing to add the numbers together. I prefer the numbers because I don’t have to count.']"
            ]
          },
          "metadata": {},
          "execution_count": 264
        }
      ]
    },
    {
      "cell_type": "code",
      "source": [
        "imdf_sentence['teacher_text']"
      ],
      "metadata": {
        "colab": {
          "base_uri": "https://localhost:8080/"
        },
        "id": "40D3AVWk3TfH",
        "outputId": "9794a4ad-9912-4d56-f88a-df10518c4293"
      },
      "execution_count": 271,
      "outputs": [
        {
          "output_type": "execute_result",
          "data": {
            "text/plain": [
              "0        \n",
              "0        \n",
              "0        \n",
              "0        \n",
              "1        \n",
              "       ..\n",
              "2308     \n",
              "2309     \n",
              "2309     \n",
              "2310     \n",
              "2310     \n",
              "Name: teacher_text, Length: 12853, dtype: object"
            ]
          },
          "metadata": {},
          "execution_count": 271
        }
      ]
    },
    {
      "cell_type": "markdown",
      "source": [
        "### extract teacher & student text respectively into new vars"
      ],
      "metadata": {
        "id": "Lxaf-TMg-V_l"
      }
    },
    {
      "cell_type": "code",
      "source": [
        "## extract teacher & student text respectively into new vars\n",
        "from numpy import NaN\n",
        "teacher_text = []\n",
        "student_text = []\n",
        "for i in range(len(imdf_sentence)):\n",
        "  ts_text = imdf_sentence.iloc[i]['ts_text']\n",
        "  if type(ts_text) is str:\n",
        "    t_text = re.findall(r'“(.*?)”', ts_text)\n",
        "    s_text = re.findall(r'\\((.*?)\\)', ts_text)\n",
        "    if len(t_text) != 0:\n",
        "      teacher_text.append(t_text[0])\n",
        "    else:\n",
        "      teacher_text.append(NaN)\n",
        "    \n",
        "    if len(s_text) != 0:\n",
        "      student_text.append(s_text[0])\n",
        "    else:\n",
        "      student_text.append(NaN)\n",
        "  else:\n",
        "    teacher_text.append(NaN)\n",
        "    student_text.append(NaN)\n",
        "ts_text_dict = {'t_text':teacher_text, 's_text': student_text}"
      ],
      "metadata": {
        "id": "WOy3CghFrhhJ"
      },
      "execution_count": 269,
      "outputs": []
    },
    {
      "cell_type": "code",
      "source": [
        "len(ts_text_dict['t_text']) == len(imdf_sentence['ts_text'])"
      ],
      "metadata": {
        "colab": {
          "base_uri": "https://localhost:8080/"
        },
        "id": "KhrCQ3K95tTU",
        "outputId": "2b410de5-2e52-4fd7-88d7-a785b3338904"
      },
      "execution_count": 277,
      "outputs": [
        {
          "output_type": "execute_result",
          "data": {
            "text/plain": [
              "True"
            ]
          },
          "metadata": {},
          "execution_count": 277
        }
      ]
    },
    {
      "cell_type": "code",
      "source": [
        "t_texts_dt = pd.DataFrame(ts_text_dict)\n",
        "t_texts_dt.head()"
      ],
      "metadata": {
        "colab": {
          "base_uri": "https://localhost:8080/",
          "height": 206
        },
        "id": "33wxTPIruyE5",
        "outputId": "ed4dc8fc-924e-4d9e-a095-68643fcca7d0"
      },
      "execution_count": 272,
      "outputs": [
        {
          "output_type": "execute_result",
          "data": {
            "text/plain": [
              "                                              t_text  \\\n",
              "0  What are some different ways you and your part...   \n",
              "1  How did you keep track of the objects as you c...   \n",
              "2                     How did they show their count?   \n",
              "3  What does it look and sound like to do math to...   \n",
              "4  What are some different ways you and your part...   \n",
              "\n",
              "                                              s_text  \n",
              "0  One person can count first and then the next c...  \n",
              "1  We put each object in a pile after we counted ...  \n",
              "2  They drew twelve circles. They wrote the numbe...  \n",
              "3  We talked to each other and to the teacher. We...  \n",
              "4  One person can count first and then the next c...  "
            ],
            "text/html": [
              "\n",
              "  <div id=\"df-63ace600-6131-49bb-b74a-a56fee9b6bef\">\n",
              "    <div class=\"colab-df-container\">\n",
              "      <div>\n",
              "<style scoped>\n",
              "    .dataframe tbody tr th:only-of-type {\n",
              "        vertical-align: middle;\n",
              "    }\n",
              "\n",
              "    .dataframe tbody tr th {\n",
              "        vertical-align: top;\n",
              "    }\n",
              "\n",
              "    .dataframe thead th {\n",
              "        text-align: right;\n",
              "    }\n",
              "</style>\n",
              "<table border=\"1\" class=\"dataframe\">\n",
              "  <thead>\n",
              "    <tr style=\"text-align: right;\">\n",
              "      <th></th>\n",
              "      <th>t_text</th>\n",
              "      <th>s_text</th>\n",
              "    </tr>\n",
              "  </thead>\n",
              "  <tbody>\n",
              "    <tr>\n",
              "      <th>0</th>\n",
              "      <td>What are some different ways you and your part...</td>\n",
              "      <td>One person can count first and then the next c...</td>\n",
              "    </tr>\n",
              "    <tr>\n",
              "      <th>1</th>\n",
              "      <td>How did you keep track of the objects as you c...</td>\n",
              "      <td>We put each object in a pile after we counted ...</td>\n",
              "    </tr>\n",
              "    <tr>\n",
              "      <th>2</th>\n",
              "      <td>How did they show their count?</td>\n",
              "      <td>They drew twelve circles. They wrote the numbe...</td>\n",
              "    </tr>\n",
              "    <tr>\n",
              "      <th>3</th>\n",
              "      <td>What does it look and sound like to do math to...</td>\n",
              "      <td>We talked to each other and to the teacher. We...</td>\n",
              "    </tr>\n",
              "    <tr>\n",
              "      <th>4</th>\n",
              "      <td>What are some different ways you and your part...</td>\n",
              "      <td>One person can count first and then the next c...</td>\n",
              "    </tr>\n",
              "  </tbody>\n",
              "</table>\n",
              "</div>\n",
              "      <button class=\"colab-df-convert\" onclick=\"convertToInteractive('df-63ace600-6131-49bb-b74a-a56fee9b6bef')\"\n",
              "              title=\"Convert this dataframe to an interactive table.\"\n",
              "              style=\"display:none;\">\n",
              "        \n",
              "  <svg xmlns=\"http://www.w3.org/2000/svg\" height=\"24px\"viewBox=\"0 0 24 24\"\n",
              "       width=\"24px\">\n",
              "    <path d=\"M0 0h24v24H0V0z\" fill=\"none\"/>\n",
              "    <path d=\"M18.56 5.44l.94 2.06.94-2.06 2.06-.94-2.06-.94-.94-2.06-.94 2.06-2.06.94zm-11 1L8.5 8.5l.94-2.06 2.06-.94-2.06-.94L8.5 2.5l-.94 2.06-2.06.94zm10 10l.94 2.06.94-2.06 2.06-.94-2.06-.94-.94-2.06-.94 2.06-2.06.94z\"/><path d=\"M17.41 7.96l-1.37-1.37c-.4-.4-.92-.59-1.43-.59-.52 0-1.04.2-1.43.59L10.3 9.45l-7.72 7.72c-.78.78-.78 2.05 0 2.83L4 21.41c.39.39.9.59 1.41.59.51 0 1.02-.2 1.41-.59l7.78-7.78 2.81-2.81c.8-.78.8-2.07 0-2.86zM5.41 20L4 18.59l7.72-7.72 1.47 1.35L5.41 20z\"/>\n",
              "  </svg>\n",
              "      </button>\n",
              "      \n",
              "  <style>\n",
              "    .colab-df-container {\n",
              "      display:flex;\n",
              "      flex-wrap:wrap;\n",
              "      gap: 12px;\n",
              "    }\n",
              "\n",
              "    .colab-df-convert {\n",
              "      background-color: #E8F0FE;\n",
              "      border: none;\n",
              "      border-radius: 50%;\n",
              "      cursor: pointer;\n",
              "      display: none;\n",
              "      fill: #1967D2;\n",
              "      height: 32px;\n",
              "      padding: 0 0 0 0;\n",
              "      width: 32px;\n",
              "    }\n",
              "\n",
              "    .colab-df-convert:hover {\n",
              "      background-color: #E2EBFA;\n",
              "      box-shadow: 0px 1px 2px rgba(60, 64, 67, 0.3), 0px 1px 3px 1px rgba(60, 64, 67, 0.15);\n",
              "      fill: #174EA6;\n",
              "    }\n",
              "\n",
              "    [theme=dark] .colab-df-convert {\n",
              "      background-color: #3B4455;\n",
              "      fill: #D2E3FC;\n",
              "    }\n",
              "\n",
              "    [theme=dark] .colab-df-convert:hover {\n",
              "      background-color: #434B5C;\n",
              "      box-shadow: 0px 1px 3px 1px rgba(0, 0, 0, 0.15);\n",
              "      filter: drop-shadow(0px 1px 2px rgba(0, 0, 0, 0.3));\n",
              "      fill: #FFFFFF;\n",
              "    }\n",
              "  </style>\n",
              "\n",
              "      <script>\n",
              "        const buttonEl =\n",
              "          document.querySelector('#df-63ace600-6131-49bb-b74a-a56fee9b6bef button.colab-df-convert');\n",
              "        buttonEl.style.display =\n",
              "          google.colab.kernel.accessAllowed ? 'block' : 'none';\n",
              "\n",
              "        async function convertToInteractive(key) {\n",
              "          const element = document.querySelector('#df-63ace600-6131-49bb-b74a-a56fee9b6bef');\n",
              "          const dataTable =\n",
              "            await google.colab.kernel.invokeFunction('convertToInteractive',\n",
              "                                                     [key], {});\n",
              "          if (!dataTable) return;\n",
              "\n",
              "          const docLinkHtml = 'Like what you see? Visit the ' +\n",
              "            '<a target=\"_blank\" href=https://colab.research.google.com/notebooks/data_table.ipynb>data table notebook</a>'\n",
              "            + ' to learn more about interactive tables.';\n",
              "          element.innerHTML = '';\n",
              "          dataTable['output_type'] = 'display_data';\n",
              "          await google.colab.output.renderOutput(dataTable, element);\n",
              "          const docLink = document.createElement('div');\n",
              "          docLink.innerHTML = docLinkHtml;\n",
              "          element.appendChild(docLink);\n",
              "        }\n",
              "      </script>\n",
              "    </div>\n",
              "  </div>\n",
              "  "
            ]
          },
          "metadata": {},
          "execution_count": 272
        }
      ]
    },
    {
      "cell_type": "markdown",
      "source": [
        "### Merge with main data"
      ],
      "metadata": {
        "id": "WK2f0N8X-kR7"
      }
    },
    {
      "cell_type": "code",
      "source": [
        "t_texts_dt.reset_index(inplace=True, drop=True)"
      ],
      "metadata": {
        "id": "_xH0bHF783l9"
      },
      "execution_count": 289,
      "outputs": []
    },
    {
      "cell_type": "code",
      "source": [
        "imdf_sub = imdf_sentence[['grade','lesson','standard','ts_text']] # get a subset by selecting a few columns"
      ],
      "metadata": {
        "id": "w4wNl0h79NMx"
      },
      "execution_count": 287,
      "outputs": []
    },
    {
      "cell_type": "code",
      "source": [
        "imdf_sub.reset_index(inplace=True, drop=True)"
      ],
      "metadata": {
        "id": "0tyFq2US9czC"
      },
      "execution_count": 291,
      "outputs": []
    },
    {
      "cell_type": "code",
      "source": [
        "imdf_sentence_level = pd.concat([t_texts_dt, imdf_sub],\n",
        "          axis=1, # axis = 0 binding rows, = 1 bind by cols\n",
        "          #how = 'inner'\n",
        "          ignore_index=True) "
      ],
      "metadata": {
        "id": "qcR3jki55czS"
      },
      "execution_count": 293,
      "outputs": []
    },
    {
      "cell_type": "code",
      "source": [
        "imdf_sentence_level.columns = ['index','teacher_text','student_text','grade','lesson','standard','ts_text']"
      ],
      "metadata": {
        "id": "6eCbqC_39253"
      },
      "execution_count": 295,
      "outputs": []
    },
    {
      "cell_type": "code",
      "source": [
        "imdf_sentence_level"
      ],
      "metadata": {
        "colab": {
          "base_uri": "https://localhost:8080/",
          "height": 811
        },
        "id": "V6tVl9dc5mvX",
        "outputId": "2f7096d1-fc1c-4a9e-8e40-956db9999919"
      },
      "execution_count": 297,
      "outputs": [
        {
          "output_type": "execute_result",
          "data": {
            "text/plain": [
              "       index                                       teacher_text  \\\n",
              "0          0  What are some different ways you and your part...   \n",
              "1          1  How did you keep track of the objects as you c...   \n",
              "2          2                     How did they show their count?   \n",
              "3          3  What does it look and sound like to do math to...   \n",
              "4          4  What are some different ways you and your part...   \n",
              "...      ...                                                ...   \n",
              "12848  12848  What were the most important things about your...   \n",
              "12849  12849  What did the writer of this activity have to p...   \n",
              "12850  12850  What were the most important things about your...   \n",
              "12851  12851  What did the writer of this activity have to p...   \n",
              "12852  12852  What were the most important things about your...   \n",
              "\n",
              "                                            student_text  grade     lesson  \\\n",
              "0      One person can count first and then the next c...      1   Lesson 1   \n",
              "1      We put each object in a pile after we counted ...      1   Lesson 1   \n",
              "2      They drew twelve circles. They wrote the numbe...      1   Lesson 1   \n",
              "3      We talked to each other and to the teacher. We...      1   Lesson 1   \n",
              "4      One person can count first and then the next c...      1   Lesson 1   \n",
              "...                                                  ...    ...        ...   \n",
              "12848  I was able to get three different shapes where...      5  Lesson 18   \n",
              "12849  the number of sides, the types of angles or co...      5  Lesson 18   \n",
              "12850  I was able to get three different shapes where...      5  Lesson 18   \n",
              "12851  the number of sides, the types of angles or co...      5  Lesson 18   \n",
              "12852  I was able to get three different shapes where...      5  Lesson 18   \n",
              "\n",
              "       standard                                            ts_text  \n",
              "0      1.OA.C.5  “What are some different ways you and your par...  \n",
              "1      1.OA.C.5  “How did you keep track of the objects as you ...  \n",
              "2      1.OA.C.5  “How did they show their count?” (They drew tw...  \n",
              "3      1.OA.C.5  “What does it look and sound like to do math t...  \n",
              "4      1.OA.C.5  “What are some different ways you and your par...  \n",
              "...         ...                                                ...  \n",
              "12848  5.MD.C.3  “What were the most important things about you...  \n",
              "12849  5.MD.C.3  “What did the writer of this activity have to ...  \n",
              "12850  5.MD.C.3  “What were the most important things about you...  \n",
              "12851  5.MD.C.3  “What did the writer of this activity have to ...  \n",
              "12852  5.MD.C.3  “What were the most important things about you...  \n",
              "\n",
              "[12853 rows x 7 columns]"
            ],
            "text/html": [
              "\n",
              "  <div id=\"df-2ed3c5b6-6e4c-4181-bcee-43573228e610\">\n",
              "    <div class=\"colab-df-container\">\n",
              "      <div>\n",
              "<style scoped>\n",
              "    .dataframe tbody tr th:only-of-type {\n",
              "        vertical-align: middle;\n",
              "    }\n",
              "\n",
              "    .dataframe tbody tr th {\n",
              "        vertical-align: top;\n",
              "    }\n",
              "\n",
              "    .dataframe thead th {\n",
              "        text-align: right;\n",
              "    }\n",
              "</style>\n",
              "<table border=\"1\" class=\"dataframe\">\n",
              "  <thead>\n",
              "    <tr style=\"text-align: right;\">\n",
              "      <th></th>\n",
              "      <th>index</th>\n",
              "      <th>teacher_text</th>\n",
              "      <th>student_text</th>\n",
              "      <th>grade</th>\n",
              "      <th>lesson</th>\n",
              "      <th>standard</th>\n",
              "      <th>ts_text</th>\n",
              "    </tr>\n",
              "  </thead>\n",
              "  <tbody>\n",
              "    <tr>\n",
              "      <th>0</th>\n",
              "      <td>0</td>\n",
              "      <td>What are some different ways you and your part...</td>\n",
              "      <td>One person can count first and then the next c...</td>\n",
              "      <td>1</td>\n",
              "      <td>Lesson 1</td>\n",
              "      <td>1.OA.C.5</td>\n",
              "      <td>“What are some different ways you and your par...</td>\n",
              "    </tr>\n",
              "    <tr>\n",
              "      <th>1</th>\n",
              "      <td>1</td>\n",
              "      <td>How did you keep track of the objects as you c...</td>\n",
              "      <td>We put each object in a pile after we counted ...</td>\n",
              "      <td>1</td>\n",
              "      <td>Lesson 1</td>\n",
              "      <td>1.OA.C.5</td>\n",
              "      <td>“How did you keep track of the objects as you ...</td>\n",
              "    </tr>\n",
              "    <tr>\n",
              "      <th>2</th>\n",
              "      <td>2</td>\n",
              "      <td>How did they show their count?</td>\n",
              "      <td>They drew twelve circles. They wrote the numbe...</td>\n",
              "      <td>1</td>\n",
              "      <td>Lesson 1</td>\n",
              "      <td>1.OA.C.5</td>\n",
              "      <td>“How did they show their count?” (They drew tw...</td>\n",
              "    </tr>\n",
              "    <tr>\n",
              "      <th>3</th>\n",
              "      <td>3</td>\n",
              "      <td>What does it look and sound like to do math to...</td>\n",
              "      <td>We talked to each other and to the teacher. We...</td>\n",
              "      <td>1</td>\n",
              "      <td>Lesson 1</td>\n",
              "      <td>1.OA.C.5</td>\n",
              "      <td>“What does it look and sound like to do math t...</td>\n",
              "    </tr>\n",
              "    <tr>\n",
              "      <th>4</th>\n",
              "      <td>4</td>\n",
              "      <td>What are some different ways you and your part...</td>\n",
              "      <td>One person can count first and then the next c...</td>\n",
              "      <td>1</td>\n",
              "      <td>Lesson 1</td>\n",
              "      <td>1.OA.C.5</td>\n",
              "      <td>“What are some different ways you and your par...</td>\n",
              "    </tr>\n",
              "    <tr>\n",
              "      <th>...</th>\n",
              "      <td>...</td>\n",
              "      <td>...</td>\n",
              "      <td>...</td>\n",
              "      <td>...</td>\n",
              "      <td>...</td>\n",
              "      <td>...</td>\n",
              "      <td>...</td>\n",
              "    </tr>\n",
              "    <tr>\n",
              "      <th>12848</th>\n",
              "      <td>12848</td>\n",
              "      <td>What were the most important things about your...</td>\n",
              "      <td>I was able to get three different shapes where...</td>\n",
              "      <td>5</td>\n",
              "      <td>Lesson 18</td>\n",
              "      <td>5.MD.C.3</td>\n",
              "      <td>“What were the most important things about you...</td>\n",
              "    </tr>\n",
              "    <tr>\n",
              "      <th>12849</th>\n",
              "      <td>12849</td>\n",
              "      <td>What did the writer of this activity have to p...</td>\n",
              "      <td>the number of sides, the types of angles or co...</td>\n",
              "      <td>5</td>\n",
              "      <td>Lesson 18</td>\n",
              "      <td>5.MD.C.3</td>\n",
              "      <td>“What did the writer of this activity have to ...</td>\n",
              "    </tr>\n",
              "    <tr>\n",
              "      <th>12850</th>\n",
              "      <td>12850</td>\n",
              "      <td>What were the most important things about your...</td>\n",
              "      <td>I was able to get three different shapes where...</td>\n",
              "      <td>5</td>\n",
              "      <td>Lesson 18</td>\n",
              "      <td>5.MD.C.3</td>\n",
              "      <td>“What were the most important things about you...</td>\n",
              "    </tr>\n",
              "    <tr>\n",
              "      <th>12851</th>\n",
              "      <td>12851</td>\n",
              "      <td>What did the writer of this activity have to p...</td>\n",
              "      <td>the number of sides, the types of angles or co...</td>\n",
              "      <td>5</td>\n",
              "      <td>Lesson 18</td>\n",
              "      <td>5.MD.C.3</td>\n",
              "      <td>“What did the writer of this activity have to ...</td>\n",
              "    </tr>\n",
              "    <tr>\n",
              "      <th>12852</th>\n",
              "      <td>12852</td>\n",
              "      <td>What were the most important things about your...</td>\n",
              "      <td>I was able to get three different shapes where...</td>\n",
              "      <td>5</td>\n",
              "      <td>Lesson 18</td>\n",
              "      <td>5.MD.C.3</td>\n",
              "      <td>“What were the most important things about you...</td>\n",
              "    </tr>\n",
              "  </tbody>\n",
              "</table>\n",
              "<p>12853 rows × 7 columns</p>\n",
              "</div>\n",
              "      <button class=\"colab-df-convert\" onclick=\"convertToInteractive('df-2ed3c5b6-6e4c-4181-bcee-43573228e610')\"\n",
              "              title=\"Convert this dataframe to an interactive table.\"\n",
              "              style=\"display:none;\">\n",
              "        \n",
              "  <svg xmlns=\"http://www.w3.org/2000/svg\" height=\"24px\"viewBox=\"0 0 24 24\"\n",
              "       width=\"24px\">\n",
              "    <path d=\"M0 0h24v24H0V0z\" fill=\"none\"/>\n",
              "    <path d=\"M18.56 5.44l.94 2.06.94-2.06 2.06-.94-2.06-.94-.94-2.06-.94 2.06-2.06.94zm-11 1L8.5 8.5l.94-2.06 2.06-.94-2.06-.94L8.5 2.5l-.94 2.06-2.06.94zm10 10l.94 2.06.94-2.06 2.06-.94-2.06-.94-.94-2.06-.94 2.06-2.06.94z\"/><path d=\"M17.41 7.96l-1.37-1.37c-.4-.4-.92-.59-1.43-.59-.52 0-1.04.2-1.43.59L10.3 9.45l-7.72 7.72c-.78.78-.78 2.05 0 2.83L4 21.41c.39.39.9.59 1.41.59.51 0 1.02-.2 1.41-.59l7.78-7.78 2.81-2.81c.8-.78.8-2.07 0-2.86zM5.41 20L4 18.59l7.72-7.72 1.47 1.35L5.41 20z\"/>\n",
              "  </svg>\n",
              "      </button>\n",
              "      \n",
              "  <style>\n",
              "    .colab-df-container {\n",
              "      display:flex;\n",
              "      flex-wrap:wrap;\n",
              "      gap: 12px;\n",
              "    }\n",
              "\n",
              "    .colab-df-convert {\n",
              "      background-color: #E8F0FE;\n",
              "      border: none;\n",
              "      border-radius: 50%;\n",
              "      cursor: pointer;\n",
              "      display: none;\n",
              "      fill: #1967D2;\n",
              "      height: 32px;\n",
              "      padding: 0 0 0 0;\n",
              "      width: 32px;\n",
              "    }\n",
              "\n",
              "    .colab-df-convert:hover {\n",
              "      background-color: #E2EBFA;\n",
              "      box-shadow: 0px 1px 2px rgba(60, 64, 67, 0.3), 0px 1px 3px 1px rgba(60, 64, 67, 0.15);\n",
              "      fill: #174EA6;\n",
              "    }\n",
              "\n",
              "    [theme=dark] .colab-df-convert {\n",
              "      background-color: #3B4455;\n",
              "      fill: #D2E3FC;\n",
              "    }\n",
              "\n",
              "    [theme=dark] .colab-df-convert:hover {\n",
              "      background-color: #434B5C;\n",
              "      box-shadow: 0px 1px 3px 1px rgba(0, 0, 0, 0.15);\n",
              "      filter: drop-shadow(0px 1px 2px rgba(0, 0, 0, 0.3));\n",
              "      fill: #FFFFFF;\n",
              "    }\n",
              "  </style>\n",
              "\n",
              "      <script>\n",
              "        const buttonEl =\n",
              "          document.querySelector('#df-2ed3c5b6-6e4c-4181-bcee-43573228e610 button.colab-df-convert');\n",
              "        buttonEl.style.display =\n",
              "          google.colab.kernel.accessAllowed ? 'block' : 'none';\n",
              "\n",
              "        async function convertToInteractive(key) {\n",
              "          const element = document.querySelector('#df-2ed3c5b6-6e4c-4181-bcee-43573228e610');\n",
              "          const dataTable =\n",
              "            await google.colab.kernel.invokeFunction('convertToInteractive',\n",
              "                                                     [key], {});\n",
              "          if (!dataTable) return;\n",
              "\n",
              "          const docLinkHtml = 'Like what you see? Visit the ' +\n",
              "            '<a target=\"_blank\" href=https://colab.research.google.com/notebooks/data_table.ipynb>data table notebook</a>'\n",
              "            + ' to learn more about interactive tables.';\n",
              "          element.innerHTML = '';\n",
              "          dataTable['output_type'] = 'display_data';\n",
              "          await google.colab.output.renderOutput(dataTable, element);\n",
              "          const docLink = document.createElement('div');\n",
              "          docLink.innerHTML = docLinkHtml;\n",
              "          element.appendChild(docLink);\n",
              "        }\n",
              "      </script>\n",
              "    </div>\n",
              "  </div>\n",
              "  "
            ]
          },
          "metadata": {},
          "execution_count": 297
        }
      ]
    },
    {
      "cell_type": "code",
      "source": [
        "imdf_sentence_level.to_csv(DATA_FOLDER + 'math_lang/imdf_sentence_level.csv')"
      ],
      "metadata": {
        "id": "yQ_ZcB3Q-Nj3"
      },
      "execution_count": 298,
      "outputs": []
    },
    {
      "cell_type": "markdown",
      "source": [
        "## Engage NY"
      ],
      "metadata": {
        "id": "peBWkxdrIpqI"
      }
    },
    {
      "cell_type": "code",
      "source": [
        "edf"
      ],
      "metadata": {
        "id": "CT2FkJk5I0SG"
      },
      "execution_count": null,
      "outputs": []
    },
    {
      "cell_type": "code",
      "source": [
        "edf.info()"
      ],
      "metadata": {
        "colab": {
          "base_uri": "https://localhost:8080/"
        },
        "id": "VRF6KkeYItxD",
        "outputId": "995bd807-4a77-406c-d40c-5266cddc3fe7"
      },
      "execution_count": 310,
      "outputs": [
        {
          "output_type": "stream",
          "name": "stdout",
          "text": [
            "<class 'pandas.core.frame.DataFrame'>\n",
            "RangeIndex: 5873 entries, 0 to 5872\n",
            "Data columns (total 10 columns):\n",
            " #   Column       Non-Null Count  Dtype \n",
            "---  ------       --------------  ----- \n",
            " 0   Unnamed: 0   5873 non-null   int64 \n",
            " 1   grade        5873 non-null   object\n",
            " 2   module       5873 non-null   object\n",
            " 3   topic        5873 non-null   object\n",
            " 4   lesson       5873 non-null   int64 \n",
            " 5   objective    5836 non-null   object\n",
            " 6   lesson_part  5873 non-null   object\n",
            " 7   standard     5873 non-null   object\n",
            " 8   text_type    5873 non-null   object\n",
            " 9   text         5873 non-null   object\n",
            "dtypes: int64(2), object(8)\n",
            "memory usage: 459.0+ KB\n"
          ]
        }
      ]
    },
    {
      "cell_type": "code",
      "source": [
        "edf['grade'].unique()"
      ],
      "metadata": {
        "colab": {
          "base_uri": "https://localhost:8080/"
        },
        "id": "rNhEt8jII2Yb",
        "outputId": "1efa5f9d-93d3-4f23-e9bc-8f8a8d2c2d3e"
      },
      "execution_count": 312,
      "outputs": [
        {
          "output_type": "execute_result",
          "data": {
            "text/plain": [
              "array(['g4', 'g5', 'g3', 'g6'], dtype=object)"
            ]
          },
          "metadata": {},
          "execution_count": 312
        }
      ]
    },
    {
      "cell_type": "code",
      "source": [
        "edf['grade'] = edf['grade'].map(lambda x: x.lstrip('g')) # remove all g in grade\n",
        "# check levels again\n",
        "edf['grade'].unique()             "
      ],
      "metadata": {
        "colab": {
          "base_uri": "https://localhost:8080/"
        },
        "id": "GWpOpLL2JK-M",
        "outputId": "4dc15876-5bd4-4264-b614-5ec3cb6e5780"
      },
      "execution_count": 314,
      "outputs": [
        {
          "output_type": "execute_result",
          "data": {
            "text/plain": [
              "array(['4', '5', '3', '6'], dtype=object)"
            ]
          },
          "metadata": {},
          "execution_count": 314
        }
      ]
    },
    {
      "cell_type": "code",
      "source": [
        "# get a dialogue subset\n",
        "edf_talk = edf[edf['text_type']=='ts_dialogue'][['grade','standard','lesson_part','text']] \n",
        "# reset index\n",
        "edf_talk.reset_index(inplace=True, drop=True)"
      ],
      "metadata": {
        "id": "MpTkc5zKJbq8"
      },
      "execution_count": 329,
      "outputs": []
    },
    {
      "cell_type": "code",
      "source": [
        "# change text variable to list\n",
        "edf_talk['text'] = edf_talk['text'].apply(lambda x: eval(x))\n",
        "edf_talk['text'][0]"
      ],
      "metadata": {
        "colab": {
          "base_uri": "https://localhost:8080/"
        },
        "id": "omqlA2mTKYVo",
        "outputId": "ecc4ec20-a0e3-4479-bdd3-af35d4dd3f65"
      },
      "execution_count": 331,
      "outputs": [
        {
          "output_type": "execute_result",
          "data": {
            "text/plain": [
              "[['T:',\n",
              "  '(Project place value chart to the thousands.)  Show 4 ones as place value disks.  Write the number below it.'],\n",
              " ['S:', '(Draw 4 ones disks and write 4 below it.) '],\n",
              " ['T:', 'Show 4 tens disks, and write the number below it.'],\n",
              " ['S:', '(Draw 4 tens disks and write 4 at the bottom of the tens column.)'],\n",
              " ['T:', 'Say the number in unit form.'],\n",
              " ['S:', '4 tens 4 ones.'],\n",
              " ['T:', 'Say the number in standard form.'],\n",
              " ['S:', '44.']]"
            ]
          },
          "metadata": {},
          "execution_count": 331
        }
      ]
    },
    {
      "cell_type": "code",
      "source": [
        "edf_talk_sentence = edf_talk.explode('text')\n",
        "edf_talk_sentence.reset_index(inplace=True, drop=True)"
      ],
      "metadata": {
        "id": "SVCrNq4JKqtY"
      },
      "execution_count": 341,
      "outputs": []
    },
    {
      "cell_type": "code",
      "source": [
        "edf_talk_sentence['text'][0]"
      ],
      "metadata": {
        "colab": {
          "base_uri": "https://localhost:8080/"
        },
        "id": "j4fygbiONTHS",
        "outputId": "45819205-69e7-409d-aaef-961738597a5b"
      },
      "execution_count": 342,
      "outputs": [
        {
          "output_type": "execute_result",
          "data": {
            "text/plain": [
              "['T:',\n",
              " '(Project place value chart to the thousands.)  Show 4 ones as place value disks.  Write the number below it.']"
            ]
          },
          "metadata": {},
          "execution_count": 342
        }
      ]
    },
    {
      "cell_type": "code",
      "source": [
        "edf_talk_sentence['text'][1]"
      ],
      "metadata": {
        "colab": {
          "base_uri": "https://localhost:8080/"
        },
        "id": "FjIQ62q5NjJT",
        "outputId": "46fa868d-1953-451f-b77c-7bc3ac9dcce2"
      },
      "execution_count": 343,
      "outputs": [
        {
          "output_type": "execute_result",
          "data": {
            "text/plain": [
              "['S:', '(Draw 4 ones disks and write 4 below it.) ']"
            ]
          },
          "metadata": {},
          "execution_count": 343
        }
      ]
    },
    {
      "cell_type": "code",
      "source": [
        "edf_talk_sentence['text'][1][0][:2]"
      ],
      "metadata": {
        "colab": {
          "base_uri": "https://localhost:8080/",
          "height": 35
        },
        "id": "1c_3SGYlOKuY",
        "outputId": "8c98ad83-5e6b-4da0-cbbd-aa79dc934911"
      },
      "execution_count": 351,
      "outputs": [
        {
          "output_type": "execute_result",
          "data": {
            "text/plain": [
              "'S:'"
            ],
            "application/vnd.google.colaboratory.intrinsic+json": {
              "type": "string"
            }
          },
          "metadata": {},
          "execution_count": 351
        }
      ]
    },
    {
      "cell_type": "code",
      "source": [
        "edf_talk_sentence['text'][30258]"
      ],
      "metadata": {
        "colab": {
          "base_uri": "https://localhost:8080/"
        },
        "id": "5v-pd195N1i7",
        "outputId": "325276c8-9360-4baf-e4e0-0958b6b04e87"
      },
      "execution_count": 348,
      "outputs": [
        {
          "output_type": "execute_result",
          "data": {
            "text/plain": [
              "['Ms. Johnson and Ms. Siple were folding report cards to send home to parents.  The ratio of the number of report cards Ms. Johnson folded to the number of report cards Ms. Siple folded is .  At the end of the day, Ms. Johnson and Ms. Siple folded a total of  report cards.  How many did each person fold? ']"
            ]
          },
          "metadata": {},
          "execution_count": 348
        }
      ]
    },
    {
      "cell_type": "code",
      "source": [
        "edf_talk_sentence['text'][30258][0][:2]"
      ],
      "metadata": {
        "colab": {
          "base_uri": "https://localhost:8080/",
          "height": 35
        },
        "id": "D24HvGDAOEq5",
        "outputId": "348b2724-3cd9-4374-c683-b38dc031cf91"
      },
      "execution_count": 349,
      "outputs": [
        {
          "output_type": "execute_result",
          "data": {
            "text/plain": [
              "'Ms'"
            ],
            "application/vnd.google.colaboratory.intrinsic+json": {
              "type": "string"
            }
          },
          "metadata": {},
          "execution_count": 349
        }
      ]
    },
    {
      "cell_type": "code",
      "source": [
        "edf_talk_sentence['talk_source'] = NaN\n",
        "edf_talk_sentence['clean_text'] = NaN"
      ],
      "metadata": {
        "id": "5DCt_tsbQuMM"
      },
      "execution_count": 378,
      "outputs": []
    },
    {
      "cell_type": "code",
      "source": [
        "edf_talk_sentence"
      ],
      "metadata": {
        "colab": {
          "base_uri": "https://localhost:8080/",
          "height": 780
        },
        "id": "xXR_d003Qzzu",
        "outputId": "6f5c6284-0d2f-4e9d-ce44-4b8e21f8a5b4"
      },
      "execution_count": 377,
      "outputs": [
        {
          "output_type": "execute_result",
          "data": {
            "text/plain": [
              "      grade standard  lesson_part  \\\n",
              "0         4  4.NBT.2  Place Value   \n",
              "1         4  4.NBT.2  Place Value   \n",
              "2         4  4.NBT.2  Place Value   \n",
              "3         4  4.NBT.2  Place Value   \n",
              "4         4  4.NBT.2  Place Value   \n",
              "...     ...      ...          ...   \n",
              "30258     6     None      Closing   \n",
              "30259     6     None      Closing   \n",
              "30260     6     None      Closing   \n",
              "30261     6     None      Closing   \n",
              "30262     6     None      Closing   \n",
              "\n",
              "                                                    text  \\\n",
              "0      [T:, (Project place value chart to the thousan...   \n",
              "1       [S:, (Draw 4 ones disks and write 4 below it.) ]   \n",
              "2      [T:, Show 4 tens disks, and write the number b...   \n",
              "3      [S:, (Draw 4 tens disks and write 4 at the bot...   \n",
              "4                     [T:, Say the number in unit form.]   \n",
              "...                                                  ...   \n",
              "30258  [Ms. Johnson and Ms. Siple were folding report...   \n",
              "30259  [Ms. Johnson folded  report cards, and Ms. Sip...   \n",
              "30260  [At a country concert, the ratio of the number...   \n",
              "30261         [There are  boys at the country concert. ]   \n",
              "30262  [Explain how tape diagrams can be helpful in s...   \n",
              "\n",
              "                                            teacher_talk  \\\n",
              "0      (Project place value chart to the thousands.) ...   \n",
              "1                                                    NaN   \n",
              "2      Show 4 tens disks, and write the number below it.   \n",
              "3                                                    NaN   \n",
              "4                           Say the number in unit form.   \n",
              "...                                                  ...   \n",
              "30258                                                NaN   \n",
              "30259                                                NaN   \n",
              "30260                                                NaN   \n",
              "30261                                                NaN   \n",
              "30262                                                NaN   \n",
              "\n",
              "                                            student_talk  talk_source  \n",
              "0                                                    NaN          NaN  \n",
              "1             (Draw 4 ones disks and write 4 below it.)           NaN  \n",
              "2                                                    NaN          NaN  \n",
              "3      (Draw 4 tens disks and write 4 at the bottom o...          NaN  \n",
              "4                                                    NaN          NaN  \n",
              "...                                                  ...          ...  \n",
              "30258                                                NaN          NaN  \n",
              "30259                                                NaN          NaN  \n",
              "30260                                                NaN          NaN  \n",
              "30261                                                NaN          NaN  \n",
              "30262                                                NaN          NaN  \n",
              "\n",
              "[30263 rows x 7 columns]"
            ],
            "text/html": [
              "\n",
              "  <div id=\"df-b67a1cbf-9dd5-495f-8d9b-ef383bc557fe\">\n",
              "    <div class=\"colab-df-container\">\n",
              "      <div>\n",
              "<style scoped>\n",
              "    .dataframe tbody tr th:only-of-type {\n",
              "        vertical-align: middle;\n",
              "    }\n",
              "\n",
              "    .dataframe tbody tr th {\n",
              "        vertical-align: top;\n",
              "    }\n",
              "\n",
              "    .dataframe thead th {\n",
              "        text-align: right;\n",
              "    }\n",
              "</style>\n",
              "<table border=\"1\" class=\"dataframe\">\n",
              "  <thead>\n",
              "    <tr style=\"text-align: right;\">\n",
              "      <th></th>\n",
              "      <th>grade</th>\n",
              "      <th>standard</th>\n",
              "      <th>lesson_part</th>\n",
              "      <th>text</th>\n",
              "      <th>teacher_talk</th>\n",
              "      <th>student_talk</th>\n",
              "      <th>talk_source</th>\n",
              "    </tr>\n",
              "  </thead>\n",
              "  <tbody>\n",
              "    <tr>\n",
              "      <th>0</th>\n",
              "      <td>4</td>\n",
              "      <td>4.NBT.2</td>\n",
              "      <td>Place Value</td>\n",
              "      <td>[T:, (Project place value chart to the thousan...</td>\n",
              "      <td>(Project place value chart to the thousands.) ...</td>\n",
              "      <td>NaN</td>\n",
              "      <td>NaN</td>\n",
              "    </tr>\n",
              "    <tr>\n",
              "      <th>1</th>\n",
              "      <td>4</td>\n",
              "      <td>4.NBT.2</td>\n",
              "      <td>Place Value</td>\n",
              "      <td>[S:, (Draw 4 ones disks and write 4 below it.) ]</td>\n",
              "      <td>NaN</td>\n",
              "      <td>(Draw 4 ones disks and write 4 below it.)</td>\n",
              "      <td>NaN</td>\n",
              "    </tr>\n",
              "    <tr>\n",
              "      <th>2</th>\n",
              "      <td>4</td>\n",
              "      <td>4.NBT.2</td>\n",
              "      <td>Place Value</td>\n",
              "      <td>[T:, Show 4 tens disks, and write the number b...</td>\n",
              "      <td>Show 4 tens disks, and write the number below it.</td>\n",
              "      <td>NaN</td>\n",
              "      <td>NaN</td>\n",
              "    </tr>\n",
              "    <tr>\n",
              "      <th>3</th>\n",
              "      <td>4</td>\n",
              "      <td>4.NBT.2</td>\n",
              "      <td>Place Value</td>\n",
              "      <td>[S:, (Draw 4 tens disks and write 4 at the bot...</td>\n",
              "      <td>NaN</td>\n",
              "      <td>(Draw 4 tens disks and write 4 at the bottom o...</td>\n",
              "      <td>NaN</td>\n",
              "    </tr>\n",
              "    <tr>\n",
              "      <th>4</th>\n",
              "      <td>4</td>\n",
              "      <td>4.NBT.2</td>\n",
              "      <td>Place Value</td>\n",
              "      <td>[T:, Say the number in unit form.]</td>\n",
              "      <td>Say the number in unit form.</td>\n",
              "      <td>NaN</td>\n",
              "      <td>NaN</td>\n",
              "    </tr>\n",
              "    <tr>\n",
              "      <th>...</th>\n",
              "      <td>...</td>\n",
              "      <td>...</td>\n",
              "      <td>...</td>\n",
              "      <td>...</td>\n",
              "      <td>...</td>\n",
              "      <td>...</td>\n",
              "      <td>...</td>\n",
              "    </tr>\n",
              "    <tr>\n",
              "      <th>30258</th>\n",
              "      <td>6</td>\n",
              "      <td>None</td>\n",
              "      <td>Closing</td>\n",
              "      <td>[Ms. Johnson and Ms. Siple were folding report...</td>\n",
              "      <td>NaN</td>\n",
              "      <td>NaN</td>\n",
              "      <td>NaN</td>\n",
              "    </tr>\n",
              "    <tr>\n",
              "      <th>30259</th>\n",
              "      <td>6</td>\n",
              "      <td>None</td>\n",
              "      <td>Closing</td>\n",
              "      <td>[Ms. Johnson folded  report cards, and Ms. Sip...</td>\n",
              "      <td>NaN</td>\n",
              "      <td>NaN</td>\n",
              "      <td>NaN</td>\n",
              "    </tr>\n",
              "    <tr>\n",
              "      <th>30260</th>\n",
              "      <td>6</td>\n",
              "      <td>None</td>\n",
              "      <td>Closing</td>\n",
              "      <td>[At a country concert, the ratio of the number...</td>\n",
              "      <td>NaN</td>\n",
              "      <td>NaN</td>\n",
              "      <td>NaN</td>\n",
              "    </tr>\n",
              "    <tr>\n",
              "      <th>30261</th>\n",
              "      <td>6</td>\n",
              "      <td>None</td>\n",
              "      <td>Closing</td>\n",
              "      <td>[There are  boys at the country concert. ]</td>\n",
              "      <td>NaN</td>\n",
              "      <td>NaN</td>\n",
              "      <td>NaN</td>\n",
              "    </tr>\n",
              "    <tr>\n",
              "      <th>30262</th>\n",
              "      <td>6</td>\n",
              "      <td>None</td>\n",
              "      <td>Closing</td>\n",
              "      <td>[Explain how tape diagrams can be helpful in s...</td>\n",
              "      <td>NaN</td>\n",
              "      <td>NaN</td>\n",
              "      <td>NaN</td>\n",
              "    </tr>\n",
              "  </tbody>\n",
              "</table>\n",
              "<p>30263 rows × 7 columns</p>\n",
              "</div>\n",
              "      <button class=\"colab-df-convert\" onclick=\"convertToInteractive('df-b67a1cbf-9dd5-495f-8d9b-ef383bc557fe')\"\n",
              "              title=\"Convert this dataframe to an interactive table.\"\n",
              "              style=\"display:none;\">\n",
              "        \n",
              "  <svg xmlns=\"http://www.w3.org/2000/svg\" height=\"24px\"viewBox=\"0 0 24 24\"\n",
              "       width=\"24px\">\n",
              "    <path d=\"M0 0h24v24H0V0z\" fill=\"none\"/>\n",
              "    <path d=\"M18.56 5.44l.94 2.06.94-2.06 2.06-.94-2.06-.94-.94-2.06-.94 2.06-2.06.94zm-11 1L8.5 8.5l.94-2.06 2.06-.94-2.06-.94L8.5 2.5l-.94 2.06-2.06.94zm10 10l.94 2.06.94-2.06 2.06-.94-2.06-.94-.94-2.06-.94 2.06-2.06.94z\"/><path d=\"M17.41 7.96l-1.37-1.37c-.4-.4-.92-.59-1.43-.59-.52 0-1.04.2-1.43.59L10.3 9.45l-7.72 7.72c-.78.78-.78 2.05 0 2.83L4 21.41c.39.39.9.59 1.41.59.51 0 1.02-.2 1.41-.59l7.78-7.78 2.81-2.81c.8-.78.8-2.07 0-2.86zM5.41 20L4 18.59l7.72-7.72 1.47 1.35L5.41 20z\"/>\n",
              "  </svg>\n",
              "      </button>\n",
              "      \n",
              "  <style>\n",
              "    .colab-df-container {\n",
              "      display:flex;\n",
              "      flex-wrap:wrap;\n",
              "      gap: 12px;\n",
              "    }\n",
              "\n",
              "    .colab-df-convert {\n",
              "      background-color: #E8F0FE;\n",
              "      border: none;\n",
              "      border-radius: 50%;\n",
              "      cursor: pointer;\n",
              "      display: none;\n",
              "      fill: #1967D2;\n",
              "      height: 32px;\n",
              "      padding: 0 0 0 0;\n",
              "      width: 32px;\n",
              "    }\n",
              "\n",
              "    .colab-df-convert:hover {\n",
              "      background-color: #E2EBFA;\n",
              "      box-shadow: 0px 1px 2px rgba(60, 64, 67, 0.3), 0px 1px 3px 1px rgba(60, 64, 67, 0.15);\n",
              "      fill: #174EA6;\n",
              "    }\n",
              "\n",
              "    [theme=dark] .colab-df-convert {\n",
              "      background-color: #3B4455;\n",
              "      fill: #D2E3FC;\n",
              "    }\n",
              "\n",
              "    [theme=dark] .colab-df-convert:hover {\n",
              "      background-color: #434B5C;\n",
              "      box-shadow: 0px 1px 3px 1px rgba(0, 0, 0, 0.15);\n",
              "      filter: drop-shadow(0px 1px 2px rgba(0, 0, 0, 0.3));\n",
              "      fill: #FFFFFF;\n",
              "    }\n",
              "  </style>\n",
              "\n",
              "      <script>\n",
              "        const buttonEl =\n",
              "          document.querySelector('#df-b67a1cbf-9dd5-495f-8d9b-ef383bc557fe button.colab-df-convert');\n",
              "        buttonEl.style.display =\n",
              "          google.colab.kernel.accessAllowed ? 'block' : 'none';\n",
              "\n",
              "        async function convertToInteractive(key) {\n",
              "          const element = document.querySelector('#df-b67a1cbf-9dd5-495f-8d9b-ef383bc557fe');\n",
              "          const dataTable =\n",
              "            await google.colab.kernel.invokeFunction('convertToInteractive',\n",
              "                                                     [key], {});\n",
              "          if (!dataTable) return;\n",
              "\n",
              "          const docLinkHtml = 'Like what you see? Visit the ' +\n",
              "            '<a target=\"_blank\" href=https://colab.research.google.com/notebooks/data_table.ipynb>data table notebook</a>'\n",
              "            + ' to learn more about interactive tables.';\n",
              "          element.innerHTML = '';\n",
              "          dataTable['output_type'] = 'display_data';\n",
              "          await google.colab.output.renderOutput(dataTable, element);\n",
              "          const docLink = document.createElement('div');\n",
              "          docLink.innerHTML = docLinkHtml;\n",
              "          element.appendChild(docLink);\n",
              "        }\n",
              "      </script>\n",
              "    </div>\n",
              "  </div>\n",
              "  "
            ]
          },
          "metadata": {},
          "execution_count": 377
        }
      ]
    },
    {
      "cell_type": "markdown",
      "source": [
        "### Extract text based on teacher or student & remove instructions"
      ],
      "metadata": {
        "id": "XJV9ZWUJU1xO"
      }
    },
    {
      "cell_type": "code",
      "source": [
        " for i in range(len(edf_talk_sentence)):\n",
        "  curr_text = edf_talk_sentence['text'][i]\n",
        "  # start with T:\n",
        "  if curr_text[0][:2] == 'T:':\n",
        "    if len(curr_text) < 2 or len(curr_text[1]) <2 :\n",
        "      continue\n",
        "    else:\n",
        "      edf_talk_sentence['talk_source'][i] = 'teacher_text'\n",
        "      # need to remove every substrings within parentheses --> those are instructions for movement\n",
        "      if '(' and ')' in curr_text[1]:\n",
        "        t_talk, instruction = extract_paren_substring(curr_text[1])\n",
        "        edf_talk_sentence['clean_text'][i] = t_talk\n",
        "      else:\n",
        "        edf_talk_sentence['clean_text'][i] = curr_text[1]\n",
        "  # start with S:\n",
        "  elif curr_text[0][:2] == 'S:':\n",
        "    if len(curr_text) < 2 or len(curr_text[1]) <2 :\n",
        "      continue\n",
        "    else:\n",
        "      edf_talk_sentence['talk_source'][i] = 'student_text'\n",
        "      if '(' and ')' in curr_text[1]:\n",
        "        t_talk, instruction = extract_paren_substring(curr_text[1])\n",
        "        edf_talk_sentence['clean_text'][i] = t_talk\n",
        "      else:\n",
        "        edf_talk_sentence['clean_text'][i] = curr_text[1]\n",
        "  # anything else just continue"
      ],
      "metadata": {
        "id": "KxkTKuZkNlck"
      },
      "execution_count": 383,
      "outputs": []
    },
    {
      "cell_type": "code",
      "source": [
        "edf_talk_sentence = edf_talk_sentence.drop(columns=['teacher_talk', 'student_talk'])"
      ],
      "metadata": {
        "id": "V9_771LkRdRR"
      },
      "execution_count": 387,
      "outputs": []
    },
    {
      "cell_type": "code",
      "source": [
        "edf_talk_sentence['talk_source'].unique()"
      ],
      "metadata": {
        "colab": {
          "base_uri": "https://localhost:8080/"
        },
        "id": "DU9IHVbxY41B",
        "outputId": "3bfdc706-f53d-49dd-8034-e3cda3caf2b5"
      },
      "execution_count": 391,
      "outputs": [
        {
          "output_type": "execute_result",
          "data": {
            "text/plain": [
              "array(['teacher_text', 'student_text', nan], dtype=object)"
            ]
          },
          "metadata": {},
          "execution_count": 391
        }
      ]
    },
    {
      "cell_type": "code",
      "source": [
        "edf_talk_sentence.to_csv(DATA_FOLDER + \"math_lang/edf_talk_sentence.csv\")\n",
        "files.download(DATA_FOLDER +'math_lang/edf_talk_sentence.csv')"
      ],
      "metadata": {
        "colab": {
          "base_uri": "https://localhost:8080/",
          "height": 17
        },
        "id": "Moe9DjxzVAeb",
        "outputId": "d6066a07-acf3-4b0f-c462-073833202ef8"
      },
      "execution_count": 390,
      "outputs": [
        {
          "output_type": "display_data",
          "data": {
            "text/plain": [
              "<IPython.core.display.Javascript object>"
            ],
            "application/javascript": [
              "\n",
              "    async function download(id, filename, size) {\n",
              "      if (!google.colab.kernel.accessAllowed) {\n",
              "        return;\n",
              "      }\n",
              "      const div = document.createElement('div');\n",
              "      const label = document.createElement('label');\n",
              "      label.textContent = `Downloading \"${filename}\": `;\n",
              "      div.appendChild(label);\n",
              "      const progress = document.createElement('progress');\n",
              "      progress.max = size;\n",
              "      div.appendChild(progress);\n",
              "      document.body.appendChild(div);\n",
              "\n",
              "      const buffers = [];\n",
              "      let downloaded = 0;\n",
              "\n",
              "      const channel = await google.colab.kernel.comms.open(id);\n",
              "      // Send a message to notify the kernel that we're ready.\n",
              "      channel.send({})\n",
              "\n",
              "      for await (const message of channel.messages) {\n",
              "        // Send a message to notify the kernel that we're ready.\n",
              "        channel.send({})\n",
              "        if (message.buffers) {\n",
              "          for (const buffer of message.buffers) {\n",
              "            buffers.push(buffer);\n",
              "            downloaded += buffer.byteLength;\n",
              "            progress.value = downloaded;\n",
              "          }\n",
              "        }\n",
              "      }\n",
              "      const blob = new Blob(buffers, {type: 'application/binary'});\n",
              "      const a = document.createElement('a');\n",
              "      a.href = window.URL.createObjectURL(blob);\n",
              "      a.download = filename;\n",
              "      div.appendChild(a);\n",
              "      a.click();\n",
              "      div.remove();\n",
              "    }\n",
              "  "
            ]
          },
          "metadata": {}
        },
        {
          "output_type": "display_data",
          "data": {
            "text/plain": [
              "<IPython.core.display.Javascript object>"
            ],
            "application/javascript": [
              "download(\"download_e8bad1f6-4cd8-4259-8c6e-7bef54d3fe39\", \"edf_talk_sentence.csv\", 5805516)"
            ]
          },
          "metadata": {}
        }
      ]
    },
    {
      "cell_type": "code",
      "source": [
        "edf_talk_sentence"
      ],
      "metadata": {
        "colab": {
          "base_uri": "https://localhost:8080/",
          "height": 624
        },
        "id": "sjqltjQPf8eO",
        "outputId": "f88dbb68-d85f-4889-d45d-b98709a7c444"
      },
      "execution_count": 421,
      "outputs": [
        {
          "output_type": "execute_result",
          "data": {
            "text/plain": [
              "      grade standard  lesson_part  \\\n",
              "0         4  4.NBT.2  Place Value   \n",
              "1         4  4.NBT.2  Place Value   \n",
              "2         4  4.NBT.2  Place Value   \n",
              "3         4  4.NBT.2  Place Value   \n",
              "4         4  4.NBT.2  Place Value   \n",
              "...     ...      ...          ...   \n",
              "30258     6     None      Closing   \n",
              "30259     6     None      Closing   \n",
              "30260     6     None      Closing   \n",
              "30261     6     None      Closing   \n",
              "30262     6     None      Closing   \n",
              "\n",
              "                                                    text   talk_source  \\\n",
              "0      [T:, (Project place value chart to the thousan...  teacher_text   \n",
              "1       [S:, (Draw 4 ones disks and write 4 below it.) ]  student_text   \n",
              "2      [T:, Show 4 tens disks, and write the number b...  teacher_text   \n",
              "3      [S:, (Draw 4 tens disks and write 4 at the bot...  student_text   \n",
              "4                     [T:, Say the number in unit form.]  teacher_text   \n",
              "...                                                  ...           ...   \n",
              "30258  [Ms. Johnson and Ms. Siple were folding report...           NaN   \n",
              "30259  [Ms. Johnson folded  report cards, and Ms. Sip...           NaN   \n",
              "30260  [At a country concert, the ratio of the number...           NaN   \n",
              "30261         [There are  boys at the country concert. ]           NaN   \n",
              "30262  [Explain how tape diagrams can be helpful in s...           NaN   \n",
              "\n",
              "                                              clean_text  \n",
              "0        Show 4 ones as place value disks.  Write the...  \n",
              "1                                                         \n",
              "2      Show 4 tens disks, and write the number below it.  \n",
              "3                                                         \n",
              "4                           Say the number in unit form.  \n",
              "...                                                  ...  \n",
              "30258                                                NaN  \n",
              "30259                                                NaN  \n",
              "30260                                                NaN  \n",
              "30261                                                NaN  \n",
              "30262                                                NaN  \n",
              "\n",
              "[30263 rows x 6 columns]"
            ],
            "text/html": [
              "\n",
              "  <div id=\"df-5c876937-db32-431c-b8ee-7cbb74200ca4\">\n",
              "    <div class=\"colab-df-container\">\n",
              "      <div>\n",
              "<style scoped>\n",
              "    .dataframe tbody tr th:only-of-type {\n",
              "        vertical-align: middle;\n",
              "    }\n",
              "\n",
              "    .dataframe tbody tr th {\n",
              "        vertical-align: top;\n",
              "    }\n",
              "\n",
              "    .dataframe thead th {\n",
              "        text-align: right;\n",
              "    }\n",
              "</style>\n",
              "<table border=\"1\" class=\"dataframe\">\n",
              "  <thead>\n",
              "    <tr style=\"text-align: right;\">\n",
              "      <th></th>\n",
              "      <th>grade</th>\n",
              "      <th>standard</th>\n",
              "      <th>lesson_part</th>\n",
              "      <th>text</th>\n",
              "      <th>talk_source</th>\n",
              "      <th>clean_text</th>\n",
              "    </tr>\n",
              "  </thead>\n",
              "  <tbody>\n",
              "    <tr>\n",
              "      <th>0</th>\n",
              "      <td>4</td>\n",
              "      <td>4.NBT.2</td>\n",
              "      <td>Place Value</td>\n",
              "      <td>[T:, (Project place value chart to the thousan...</td>\n",
              "      <td>teacher_text</td>\n",
              "      <td>Show 4 ones as place value disks.  Write the...</td>\n",
              "    </tr>\n",
              "    <tr>\n",
              "      <th>1</th>\n",
              "      <td>4</td>\n",
              "      <td>4.NBT.2</td>\n",
              "      <td>Place Value</td>\n",
              "      <td>[S:, (Draw 4 ones disks and write 4 below it.) ]</td>\n",
              "      <td>student_text</td>\n",
              "      <td></td>\n",
              "    </tr>\n",
              "    <tr>\n",
              "      <th>2</th>\n",
              "      <td>4</td>\n",
              "      <td>4.NBT.2</td>\n",
              "      <td>Place Value</td>\n",
              "      <td>[T:, Show 4 tens disks, and write the number b...</td>\n",
              "      <td>teacher_text</td>\n",
              "      <td>Show 4 tens disks, and write the number below it.</td>\n",
              "    </tr>\n",
              "    <tr>\n",
              "      <th>3</th>\n",
              "      <td>4</td>\n",
              "      <td>4.NBT.2</td>\n",
              "      <td>Place Value</td>\n",
              "      <td>[S:, (Draw 4 tens disks and write 4 at the bot...</td>\n",
              "      <td>student_text</td>\n",
              "      <td></td>\n",
              "    </tr>\n",
              "    <tr>\n",
              "      <th>4</th>\n",
              "      <td>4</td>\n",
              "      <td>4.NBT.2</td>\n",
              "      <td>Place Value</td>\n",
              "      <td>[T:, Say the number in unit form.]</td>\n",
              "      <td>teacher_text</td>\n",
              "      <td>Say the number in unit form.</td>\n",
              "    </tr>\n",
              "    <tr>\n",
              "      <th>...</th>\n",
              "      <td>...</td>\n",
              "      <td>...</td>\n",
              "      <td>...</td>\n",
              "      <td>...</td>\n",
              "      <td>...</td>\n",
              "      <td>...</td>\n",
              "    </tr>\n",
              "    <tr>\n",
              "      <th>30258</th>\n",
              "      <td>6</td>\n",
              "      <td>None</td>\n",
              "      <td>Closing</td>\n",
              "      <td>[Ms. Johnson and Ms. Siple were folding report...</td>\n",
              "      <td>NaN</td>\n",
              "      <td>NaN</td>\n",
              "    </tr>\n",
              "    <tr>\n",
              "      <th>30259</th>\n",
              "      <td>6</td>\n",
              "      <td>None</td>\n",
              "      <td>Closing</td>\n",
              "      <td>[Ms. Johnson folded  report cards, and Ms. Sip...</td>\n",
              "      <td>NaN</td>\n",
              "      <td>NaN</td>\n",
              "    </tr>\n",
              "    <tr>\n",
              "      <th>30260</th>\n",
              "      <td>6</td>\n",
              "      <td>None</td>\n",
              "      <td>Closing</td>\n",
              "      <td>[At a country concert, the ratio of the number...</td>\n",
              "      <td>NaN</td>\n",
              "      <td>NaN</td>\n",
              "    </tr>\n",
              "    <tr>\n",
              "      <th>30261</th>\n",
              "      <td>6</td>\n",
              "      <td>None</td>\n",
              "      <td>Closing</td>\n",
              "      <td>[There are  boys at the country concert. ]</td>\n",
              "      <td>NaN</td>\n",
              "      <td>NaN</td>\n",
              "    </tr>\n",
              "    <tr>\n",
              "      <th>30262</th>\n",
              "      <td>6</td>\n",
              "      <td>None</td>\n",
              "      <td>Closing</td>\n",
              "      <td>[Explain how tape diagrams can be helpful in s...</td>\n",
              "      <td>NaN</td>\n",
              "      <td>NaN</td>\n",
              "    </tr>\n",
              "  </tbody>\n",
              "</table>\n",
              "<p>30263 rows × 6 columns</p>\n",
              "</div>\n",
              "      <button class=\"colab-df-convert\" onclick=\"convertToInteractive('df-5c876937-db32-431c-b8ee-7cbb74200ca4')\"\n",
              "              title=\"Convert this dataframe to an interactive table.\"\n",
              "              style=\"display:none;\">\n",
              "        \n",
              "  <svg xmlns=\"http://www.w3.org/2000/svg\" height=\"24px\"viewBox=\"0 0 24 24\"\n",
              "       width=\"24px\">\n",
              "    <path d=\"M0 0h24v24H0V0z\" fill=\"none\"/>\n",
              "    <path d=\"M18.56 5.44l.94 2.06.94-2.06 2.06-.94-2.06-.94-.94-2.06-.94 2.06-2.06.94zm-11 1L8.5 8.5l.94-2.06 2.06-.94-2.06-.94L8.5 2.5l-.94 2.06-2.06.94zm10 10l.94 2.06.94-2.06 2.06-.94-2.06-.94-.94-2.06-.94 2.06-2.06.94z\"/><path d=\"M17.41 7.96l-1.37-1.37c-.4-.4-.92-.59-1.43-.59-.52 0-1.04.2-1.43.59L10.3 9.45l-7.72 7.72c-.78.78-.78 2.05 0 2.83L4 21.41c.39.39.9.59 1.41.59.51 0 1.02-.2 1.41-.59l7.78-7.78 2.81-2.81c.8-.78.8-2.07 0-2.86zM5.41 20L4 18.59l7.72-7.72 1.47 1.35L5.41 20z\"/>\n",
              "  </svg>\n",
              "      </button>\n",
              "      \n",
              "  <style>\n",
              "    .colab-df-container {\n",
              "      display:flex;\n",
              "      flex-wrap:wrap;\n",
              "      gap: 12px;\n",
              "    }\n",
              "\n",
              "    .colab-df-convert {\n",
              "      background-color: #E8F0FE;\n",
              "      border: none;\n",
              "      border-radius: 50%;\n",
              "      cursor: pointer;\n",
              "      display: none;\n",
              "      fill: #1967D2;\n",
              "      height: 32px;\n",
              "      padding: 0 0 0 0;\n",
              "      width: 32px;\n",
              "    }\n",
              "\n",
              "    .colab-df-convert:hover {\n",
              "      background-color: #E2EBFA;\n",
              "      box-shadow: 0px 1px 2px rgba(60, 64, 67, 0.3), 0px 1px 3px 1px rgba(60, 64, 67, 0.15);\n",
              "      fill: #174EA6;\n",
              "    }\n",
              "\n",
              "    [theme=dark] .colab-df-convert {\n",
              "      background-color: #3B4455;\n",
              "      fill: #D2E3FC;\n",
              "    }\n",
              "\n",
              "    [theme=dark] .colab-df-convert:hover {\n",
              "      background-color: #434B5C;\n",
              "      box-shadow: 0px 1px 3px 1px rgba(0, 0, 0, 0.15);\n",
              "      filter: drop-shadow(0px 1px 2px rgba(0, 0, 0, 0.3));\n",
              "      fill: #FFFFFF;\n",
              "    }\n",
              "  </style>\n",
              "\n",
              "      <script>\n",
              "        const buttonEl =\n",
              "          document.querySelector('#df-5c876937-db32-431c-b8ee-7cbb74200ca4 button.colab-df-convert');\n",
              "        buttonEl.style.display =\n",
              "          google.colab.kernel.accessAllowed ? 'block' : 'none';\n",
              "\n",
              "        async function convertToInteractive(key) {\n",
              "          const element = document.querySelector('#df-5c876937-db32-431c-b8ee-7cbb74200ca4');\n",
              "          const dataTable =\n",
              "            await google.colab.kernel.invokeFunction('convertToInteractive',\n",
              "                                                     [key], {});\n",
              "          if (!dataTable) return;\n",
              "\n",
              "          const docLinkHtml = 'Like what you see? Visit the ' +\n",
              "            '<a target=\"_blank\" href=https://colab.research.google.com/notebooks/data_table.ipynb>data table notebook</a>'\n",
              "            + ' to learn more about interactive tables.';\n",
              "          element.innerHTML = '';\n",
              "          dataTable['output_type'] = 'display_data';\n",
              "          await google.colab.output.renderOutput(dataTable, element);\n",
              "          const docLink = document.createElement('div');\n",
              "          docLink.innerHTML = docLinkHtml;\n",
              "          element.appendChild(docLink);\n",
              "        }\n",
              "      </script>\n",
              "    </div>\n",
              "  </div>\n",
              "  "
            ]
          },
          "metadata": {},
          "execution_count": 421
        }
      ]
    },
    {
      "cell_type": "markdown",
      "source": [
        "## SFDF"
      ],
      "metadata": {
        "id": "rDiUsD4m-oxI"
      }
    },
    {
      "cell_type": "code",
      "source": [
        "sfdf.info()"
      ],
      "metadata": {
        "colab": {
          "base_uri": "https://localhost:8080/"
        },
        "id": "cMoBvlMqLnzI",
        "outputId": "40544268-36c6-4ca0-e43e-92943aa7442d"
      },
      "execution_count": 17,
      "outputs": [
        {
          "output_type": "stream",
          "name": "stdout",
          "text": [
            "<class 'pandas.core.frame.DataFrame'>\n",
            "RangeIndex: 66 entries, 0 to 65\n",
            "Data columns (total 7 columns):\n",
            " #   Column        Non-Null Count  Dtype \n",
            "---  ------        --------------  ----- \n",
            " 0   Unnamed: 0    66 non-null     object\n",
            " 1   grade         66 non-null     object\n",
            " 2   lesson        66 non-null     object\n",
            " 3   objective     66 non-null     object\n",
            " 4   description   66 non-null     object\n",
            " 5   teacher_talk  62 non-null     object\n",
            " 6   student_talk  53 non-null     object\n",
            "dtypes: object(7)\n",
            "memory usage: 3.7+ KB\n"
          ]
        }
      ]
    },
    {
      "cell_type": "code",
      "source": [
        "# check unique values grade has\n",
        "sfdf['grade'].unique()"
      ],
      "metadata": {
        "colab": {
          "base_uri": "https://localhost:8080/"
        },
        "id": "QfOMT2Ca9NOb",
        "outputId": "c4f87b94-e84b-46be-f266-f482cf98bdf4"
      },
      "execution_count": 18,
      "outputs": [
        {
          "output_type": "execute_result",
          "data": {
            "text/plain": [
              "array(['4', 'unit 4', 'unit 5', 'unit 3', 'unit 2', 'grade 4'],\n",
              "      dtype=object)"
            ]
          },
          "metadata": {},
          "execution_count": 18
        }
      ]
    },
    {
      "cell_type": "code",
      "source": [
        "sfdf['grade'] = sfdf['grade'].replace(['grade 4','unit 4'], '4')\n",
        "sfdf['grade'] = sfdf['grade'].replace(['unit 5'], '5')\n",
        "sfdf['grade'] = sfdf['grade'].replace(['unit 3'], '3')\n",
        "sfdf['grade'] = sfdf['grade'].replace(['unit 2'], '2')\n",
        "# check unique values grade has after replacing\n",
        "sfdf['grade'].unique()"
      ],
      "metadata": {
        "colab": {
          "base_uri": "https://localhost:8080/"
        },
        "id": "62Z3vELMHjSO",
        "outputId": "3fd02d13-76e8-41c0-e803-09f863130eed"
      },
      "execution_count": 19,
      "outputs": [
        {
          "output_type": "execute_result",
          "data": {
            "text/plain": [
              "array(['4', '5', '3', '2'], dtype=object)"
            ]
          },
          "metadata": {},
          "execution_count": 19
        }
      ]
    },
    {
      "cell_type": "code",
      "source": [
        "sfdf['student_talk'][0]"
      ],
      "metadata": {
        "colab": {
          "base_uri": "https://localhost:8080/",
          "height": 143
        },
        "id": "6DswcqYsIgSL",
        "outputId": "401f9f71-c403-4e56-92f6-4f354da431a5"
      },
      "execution_count": 20,
      "outputs": [
        {
          "output_type": "execute_result",
          "data": {
            "text/plain": [
              "'Anticipated Student Responses:\\nI saw 4 dots in a line going down, then 3 dots in a line going down. 4 + 3 is 7, then 2 more dots in a line going down, 2 + 7 = 9. Then the last dot alone is 1, and 1 + 9 = 10.  4 + 3 + 2 + 1 = 10\\nI saw a group of 4 in a diamond on the right. Then I saw leftover was 3 dots on the top left and 3 dots on the bottom left. So I added 3 + 3 + 4 which is 6 + 4, which is 10. 3 + 3 + 4 = 10\\nI saw a triangle of three dots on the right, the top left, and the bottom left. So I thought of 3 groups of 3 which is 9, then added the one in the middle which is 10.\\n3 + 3 + 3 + 1 = 10 or (3 x 3) + 1 = 10'"
            ],
            "application/vnd.google.colaboratory.intrinsic+json": {
              "type": "string"
            }
          },
          "metadata": {},
          "execution_count": 20
        }
      ]
    },
    {
      "cell_type": "code",
      "source": [
        "# remove all the Question/Prompt: | Ask: | Question: from text strings\n",
        "for i in range(len(sfdf)):\n",
        "  text = sfdf['teacher_talk'][i]\n",
        "  if text is not NaN:\n",
        "    sfdf['teacher_talk'][i] = re.sub(r'(Question/Prompt:\\s|Ask:\\s|Question:\\s)', '', text)"
      ],
      "metadata": {
        "id": "iE0fYyGGdGGL"
      },
      "execution_count": 25,
      "outputs": []
    },
    {
      "cell_type": "code",
      "source": [
        "sfdf[['teacher_talk']]"
      ],
      "metadata": {
        "colab": {
          "base_uri": "https://localhost:8080/",
          "height": 1283
        },
        "id": "nqAgEdqne83L",
        "outputId": "62ee89de-4398-403b-99ca-6ba28aac4ca8"
      },
      "execution_count": 26,
      "outputs": [
        {
          "output_type": "execute_result",
          "data": {
            "text/plain": [
              "                                         teacher_talk\n",
              "0   How many dots do you see? How do you see them?...\n",
              "1   Description: Ask students Which amount is grea...\n",
              "2   How many ___ do you see? How do you see them? ...\n",
              "3   How many ___ do you see? How do you see them? ...\n",
              "4                      Which one doesn’t belong? Why?\n",
              "..                                                ...\n",
              "61  What expression might go with this number line...\n",
              "62                                                NaN\n",
              "63  Where does each number go in this diagram?\\nAb...\n",
              "64  Where does each number go in this diagram?\\nWi...\n",
              "65  Will the quotient be greater or less than the ...\n",
              "\n",
              "[66 rows x 1 columns]"
            ],
            "text/html": [
              "\n",
              "  <div id=\"df-3c3e13c3-b565-4b66-8135-074f4d8baa7a\">\n",
              "    <div class=\"colab-df-container\">\n",
              "      <div>\n",
              "<style scoped>\n",
              "    .dataframe tbody tr th:only-of-type {\n",
              "        vertical-align: middle;\n",
              "    }\n",
              "\n",
              "    .dataframe tbody tr th {\n",
              "        vertical-align: top;\n",
              "    }\n",
              "\n",
              "    .dataframe thead th {\n",
              "        text-align: right;\n",
              "    }\n",
              "</style>\n",
              "<table border=\"1\" class=\"dataframe\">\n",
              "  <thead>\n",
              "    <tr style=\"text-align: right;\">\n",
              "      <th></th>\n",
              "      <th>teacher_talk</th>\n",
              "    </tr>\n",
              "  </thead>\n",
              "  <tbody>\n",
              "    <tr>\n",
              "      <th>0</th>\n",
              "      <td>How many dots do you see? How do you see them?...</td>\n",
              "    </tr>\n",
              "    <tr>\n",
              "      <th>1</th>\n",
              "      <td>Description: Ask students Which amount is grea...</td>\n",
              "    </tr>\n",
              "    <tr>\n",
              "      <th>2</th>\n",
              "      <td>How many ___ do you see? How do you see them? ...</td>\n",
              "    </tr>\n",
              "    <tr>\n",
              "      <th>3</th>\n",
              "      <td>How many ___ do you see? How do you see them? ...</td>\n",
              "    </tr>\n",
              "    <tr>\n",
              "      <th>4</th>\n",
              "      <td>Which one doesn’t belong? Why?</td>\n",
              "    </tr>\n",
              "    <tr>\n",
              "      <th>...</th>\n",
              "      <td>...</td>\n",
              "    </tr>\n",
              "    <tr>\n",
              "      <th>61</th>\n",
              "      <td>What expression might go with this number line...</td>\n",
              "    </tr>\n",
              "    <tr>\n",
              "      <th>62</th>\n",
              "      <td>NaN</td>\n",
              "    </tr>\n",
              "    <tr>\n",
              "      <th>63</th>\n",
              "      <td>Where does each number go in this diagram?\\nAb...</td>\n",
              "    </tr>\n",
              "    <tr>\n",
              "      <th>64</th>\n",
              "      <td>Where does each number go in this diagram?\\nWi...</td>\n",
              "    </tr>\n",
              "    <tr>\n",
              "      <th>65</th>\n",
              "      <td>Will the quotient be greater or less than the ...</td>\n",
              "    </tr>\n",
              "  </tbody>\n",
              "</table>\n",
              "<p>66 rows × 1 columns</p>\n",
              "</div>\n",
              "      <button class=\"colab-df-convert\" onclick=\"convertToInteractive('df-3c3e13c3-b565-4b66-8135-074f4d8baa7a')\"\n",
              "              title=\"Convert this dataframe to an interactive table.\"\n",
              "              style=\"display:none;\">\n",
              "        \n",
              "  <svg xmlns=\"http://www.w3.org/2000/svg\" height=\"24px\"viewBox=\"0 0 24 24\"\n",
              "       width=\"24px\">\n",
              "    <path d=\"M0 0h24v24H0V0z\" fill=\"none\"/>\n",
              "    <path d=\"M18.56 5.44l.94 2.06.94-2.06 2.06-.94-2.06-.94-.94-2.06-.94 2.06-2.06.94zm-11 1L8.5 8.5l.94-2.06 2.06-.94-2.06-.94L8.5 2.5l-.94 2.06-2.06.94zm10 10l.94 2.06.94-2.06 2.06-.94-2.06-.94-.94-2.06-.94 2.06-2.06.94z\"/><path d=\"M17.41 7.96l-1.37-1.37c-.4-.4-.92-.59-1.43-.59-.52 0-1.04.2-1.43.59L10.3 9.45l-7.72 7.72c-.78.78-.78 2.05 0 2.83L4 21.41c.39.39.9.59 1.41.59.51 0 1.02-.2 1.41-.59l7.78-7.78 2.81-2.81c.8-.78.8-2.07 0-2.86zM5.41 20L4 18.59l7.72-7.72 1.47 1.35L5.41 20z\"/>\n",
              "  </svg>\n",
              "      </button>\n",
              "      \n",
              "  <style>\n",
              "    .colab-df-container {\n",
              "      display:flex;\n",
              "      flex-wrap:wrap;\n",
              "      gap: 12px;\n",
              "    }\n",
              "\n",
              "    .colab-df-convert {\n",
              "      background-color: #E8F0FE;\n",
              "      border: none;\n",
              "      border-radius: 50%;\n",
              "      cursor: pointer;\n",
              "      display: none;\n",
              "      fill: #1967D2;\n",
              "      height: 32px;\n",
              "      padding: 0 0 0 0;\n",
              "      width: 32px;\n",
              "    }\n",
              "\n",
              "    .colab-df-convert:hover {\n",
              "      background-color: #E2EBFA;\n",
              "      box-shadow: 0px 1px 2px rgba(60, 64, 67, 0.3), 0px 1px 3px 1px rgba(60, 64, 67, 0.15);\n",
              "      fill: #174EA6;\n",
              "    }\n",
              "\n",
              "    [theme=dark] .colab-df-convert {\n",
              "      background-color: #3B4455;\n",
              "      fill: #D2E3FC;\n",
              "    }\n",
              "\n",
              "    [theme=dark] .colab-df-convert:hover {\n",
              "      background-color: #434B5C;\n",
              "      box-shadow: 0px 1px 3px 1px rgba(0, 0, 0, 0.15);\n",
              "      filter: drop-shadow(0px 1px 2px rgba(0, 0, 0, 0.3));\n",
              "      fill: #FFFFFF;\n",
              "    }\n",
              "  </style>\n",
              "\n",
              "      <script>\n",
              "        const buttonEl =\n",
              "          document.querySelector('#df-3c3e13c3-b565-4b66-8135-074f4d8baa7a button.colab-df-convert');\n",
              "        buttonEl.style.display =\n",
              "          google.colab.kernel.accessAllowed ? 'block' : 'none';\n",
              "\n",
              "        async function convertToInteractive(key) {\n",
              "          const element = document.querySelector('#df-3c3e13c3-b565-4b66-8135-074f4d8baa7a');\n",
              "          const dataTable =\n",
              "            await google.colab.kernel.invokeFunction('convertToInteractive',\n",
              "                                                     [key], {});\n",
              "          if (!dataTable) return;\n",
              "\n",
              "          const docLinkHtml = 'Like what you see? Visit the ' +\n",
              "            '<a target=\"_blank\" href=https://colab.research.google.com/notebooks/data_table.ipynb>data table notebook</a>'\n",
              "            + ' to learn more about interactive tables.';\n",
              "          element.innerHTML = '';\n",
              "          dataTable['output_type'] = 'display_data';\n",
              "          await google.colab.output.renderOutput(dataTable, element);\n",
              "          const docLink = document.createElement('div');\n",
              "          docLink.innerHTML = docLinkHtml;\n",
              "          element.appendChild(docLink);\n",
              "        }\n",
              "      </script>\n",
              "    </div>\n",
              "  </div>\n",
              "  "
            ]
          },
          "metadata": {},
          "execution_count": 26
        }
      ]
    },
    {
      "cell_type": "markdown",
      "source": [
        "## SSDF"
      ],
      "metadata": {
        "id": "v--d_bitgbiq"
      }
    },
    {
      "cell_type": "code",
      "source": [
        "ssdf[['text']]"
      ],
      "metadata": {
        "colab": {
          "base_uri": "https://localhost:8080/",
          "height": 1002
        },
        "id": "01eIipvXgeKT",
        "outputId": "d6288b91-6c18-4708-841a-fbf2321aa885"
      },
      "execution_count": 423,
      "outputs": [
        {
          "output_type": "execute_result",
          "data": {
            "text/plain": [
              "                                                  text\n",
              "0                    Count to 100 by ones and by tens.\n",
              "1    Count forward beginning from a given number wi...\n",
              "2    Write numbers from 0 to 20. Represent a number...\n",
              "3    Understand the relationship between numbers an...\n",
              "4    Count to answer \"how many?\" questions about as...\n",
              "..                                                 ...\n",
              "326  Draw construct, and describe geometrical figur...\n",
              "327  Solve real-life and mathematical problems invo...\n",
              "328  Understand congruence and similarity using phy...\n",
              "329      Understand and apply the Pythagorean Theorem.\n",
              "330  Solve real-world and mathematical problems inv...\n",
              "\n",
              "[331 rows x 1 columns]"
            ],
            "text/html": [
              "\n",
              "  <div id=\"df-728766b6-80e4-409c-867f-71720a6e846c\">\n",
              "    <div class=\"colab-df-container\">\n",
              "      <div>\n",
              "<style scoped>\n",
              "    .dataframe tbody tr th:only-of-type {\n",
              "        vertical-align: middle;\n",
              "    }\n",
              "\n",
              "    .dataframe tbody tr th {\n",
              "        vertical-align: top;\n",
              "    }\n",
              "\n",
              "    .dataframe thead th {\n",
              "        text-align: right;\n",
              "    }\n",
              "</style>\n",
              "<table border=\"1\" class=\"dataframe\">\n",
              "  <thead>\n",
              "    <tr style=\"text-align: right;\">\n",
              "      <th></th>\n",
              "      <th>text</th>\n",
              "    </tr>\n",
              "  </thead>\n",
              "  <tbody>\n",
              "    <tr>\n",
              "      <th>0</th>\n",
              "      <td>Count to 100 by ones and by tens.</td>\n",
              "    </tr>\n",
              "    <tr>\n",
              "      <th>1</th>\n",
              "      <td>Count forward beginning from a given number wi...</td>\n",
              "    </tr>\n",
              "    <tr>\n",
              "      <th>2</th>\n",
              "      <td>Write numbers from 0 to 20. Represent a number...</td>\n",
              "    </tr>\n",
              "    <tr>\n",
              "      <th>3</th>\n",
              "      <td>Understand the relationship between numbers an...</td>\n",
              "    </tr>\n",
              "    <tr>\n",
              "      <th>4</th>\n",
              "      <td>Count to answer \"how many?\" questions about as...</td>\n",
              "    </tr>\n",
              "    <tr>\n",
              "      <th>...</th>\n",
              "      <td>...</td>\n",
              "    </tr>\n",
              "    <tr>\n",
              "      <th>326</th>\n",
              "      <td>Draw construct, and describe geometrical figur...</td>\n",
              "    </tr>\n",
              "    <tr>\n",
              "      <th>327</th>\n",
              "      <td>Solve real-life and mathematical problems invo...</td>\n",
              "    </tr>\n",
              "    <tr>\n",
              "      <th>328</th>\n",
              "      <td>Understand congruence and similarity using phy...</td>\n",
              "    </tr>\n",
              "    <tr>\n",
              "      <th>329</th>\n",
              "      <td>Understand and apply the Pythagorean Theorem.</td>\n",
              "    </tr>\n",
              "    <tr>\n",
              "      <th>330</th>\n",
              "      <td>Solve real-world and mathematical problems inv...</td>\n",
              "    </tr>\n",
              "  </tbody>\n",
              "</table>\n",
              "<p>331 rows × 1 columns</p>\n",
              "</div>\n",
              "      <button class=\"colab-df-convert\" onclick=\"convertToInteractive('df-728766b6-80e4-409c-867f-71720a6e846c')\"\n",
              "              title=\"Convert this dataframe to an interactive table.\"\n",
              "              style=\"display:none;\">\n",
              "        \n",
              "  <svg xmlns=\"http://www.w3.org/2000/svg\" height=\"24px\"viewBox=\"0 0 24 24\"\n",
              "       width=\"24px\">\n",
              "    <path d=\"M0 0h24v24H0V0z\" fill=\"none\"/>\n",
              "    <path d=\"M18.56 5.44l.94 2.06.94-2.06 2.06-.94-2.06-.94-.94-2.06-.94 2.06-2.06.94zm-11 1L8.5 8.5l.94-2.06 2.06-.94-2.06-.94L8.5 2.5l-.94 2.06-2.06.94zm10 10l.94 2.06.94-2.06 2.06-.94-2.06-.94-.94-2.06-.94 2.06-2.06.94z\"/><path d=\"M17.41 7.96l-1.37-1.37c-.4-.4-.92-.59-1.43-.59-.52 0-1.04.2-1.43.59L10.3 9.45l-7.72 7.72c-.78.78-.78 2.05 0 2.83L4 21.41c.39.39.9.59 1.41.59.51 0 1.02-.2 1.41-.59l7.78-7.78 2.81-2.81c.8-.78.8-2.07 0-2.86zM5.41 20L4 18.59l7.72-7.72 1.47 1.35L5.41 20z\"/>\n",
              "  </svg>\n",
              "      </button>\n",
              "      \n",
              "  <style>\n",
              "    .colab-df-container {\n",
              "      display:flex;\n",
              "      flex-wrap:wrap;\n",
              "      gap: 12px;\n",
              "    }\n",
              "\n",
              "    .colab-df-convert {\n",
              "      background-color: #E8F0FE;\n",
              "      border: none;\n",
              "      border-radius: 50%;\n",
              "      cursor: pointer;\n",
              "      display: none;\n",
              "      fill: #1967D2;\n",
              "      height: 32px;\n",
              "      padding: 0 0 0 0;\n",
              "      width: 32px;\n",
              "    }\n",
              "\n",
              "    .colab-df-convert:hover {\n",
              "      background-color: #E2EBFA;\n",
              "      box-shadow: 0px 1px 2px rgba(60, 64, 67, 0.3), 0px 1px 3px 1px rgba(60, 64, 67, 0.15);\n",
              "      fill: #174EA6;\n",
              "    }\n",
              "\n",
              "    [theme=dark] .colab-df-convert {\n",
              "      background-color: #3B4455;\n",
              "      fill: #D2E3FC;\n",
              "    }\n",
              "\n",
              "    [theme=dark] .colab-df-convert:hover {\n",
              "      background-color: #434B5C;\n",
              "      box-shadow: 0px 1px 3px 1px rgba(0, 0, 0, 0.15);\n",
              "      filter: drop-shadow(0px 1px 2px rgba(0, 0, 0, 0.3));\n",
              "      fill: #FFFFFF;\n",
              "    }\n",
              "  </style>\n",
              "\n",
              "      <script>\n",
              "        const buttonEl =\n",
              "          document.querySelector('#df-728766b6-80e4-409c-867f-71720a6e846c button.colab-df-convert');\n",
              "        buttonEl.style.display =\n",
              "          google.colab.kernel.accessAllowed ? 'block' : 'none';\n",
              "\n",
              "        async function convertToInteractive(key) {\n",
              "          const element = document.querySelector('#df-728766b6-80e4-409c-867f-71720a6e846c');\n",
              "          const dataTable =\n",
              "            await google.colab.kernel.invokeFunction('convertToInteractive',\n",
              "                                                     [key], {});\n",
              "          if (!dataTable) return;\n",
              "\n",
              "          const docLinkHtml = 'Like what you see? Visit the ' +\n",
              "            '<a target=\"_blank\" href=https://colab.research.google.com/notebooks/data_table.ipynb>data table notebook</a>'\n",
              "            + ' to learn more about interactive tables.';\n",
              "          element.innerHTML = '';\n",
              "          dataTable['output_type'] = 'display_data';\n",
              "          await google.colab.output.renderOutput(dataTable, element);\n",
              "          const docLink = document.createElement('div');\n",
              "          docLink.innerHTML = docLinkHtml;\n",
              "          element.appendChild(docLink);\n",
              "        }\n",
              "      </script>\n",
              "    </div>\n",
              "  </div>\n",
              "  "
            ]
          },
          "metadata": {},
          "execution_count": 423
        }
      ]
    },
    {
      "cell_type": "markdown",
      "source": [
        "# Building Elementary Discourse Math Language Corpus\n",
        "\n",
        "Pre-processing steps needed:\n",
        "\n",
        "1. NER tagging & normalization\n",
        "2. Stopwords removal\n",
        "3. Lowercase normalization\n",
        "4. Punctuation removal"
      ],
      "metadata": {
        "id": "08eFwlQ5vs2y"
      }
    },
    {
      "cell_type": "markdown",
      "source": [
        "### Merging datasets"
      ],
      "metadata": {
        "id": "CUYyGC_D_sX3"
      }
    },
    {
      "cell_type": "code",
      "source": [
        "imdf_sentence_level = pd.read_csv(DATA_FOLDER + \"math_lang/imdf_sentence_level.csv\") \n",
        "talk_math_sentence_level = pd.read_csv(DATA_FOLDER + \"math_lang/talk_math_sentence_level.csv\") \n",
        "edf_talk_sentence = pd.read_csv(DATA_FOLDER + \"math_lang/edf_talk_sentence.csv\")\n",
        "sfdf = pd.read_csv(DATA_FOLDER + \"SFUSD/sfusd_mathtalks.csv\")\n",
        "ssdf = pd.read_csv(DATA_FOLDER + \"ccss_text.csv\") "
      ],
      "metadata": {
        "id": "3v2vCdpyw_JM"
      },
      "execution_count": 6,
      "outputs": []
    },
    {
      "cell_type": "code",
      "source": [
        "math_df1_t = imdf_sentence_level[['grade','teacher_text']]\n",
        "math_df1_s = imdf_sentence_level[['grade','student_text']]"
      ],
      "metadata": {
        "id": "CsMJJdsQxxJq"
      },
      "execution_count": 9,
      "outputs": []
    },
    {
      "cell_type": "code",
      "source": [
        "math_df1_t['talk_source'] = 'teacher_text'\n",
        "math_df1_s['talk_source'] = 'student_text'"
      ],
      "metadata": {
        "colab": {
          "base_uri": "https://localhost:8080/"
        },
        "id": "a4bcfmuNyH2X",
        "outputId": "6a1c6674-63e9-4e38-cc62-a1560ffce129"
      },
      "execution_count": 27,
      "outputs": [
        {
          "output_type": "stream",
          "name": "stderr",
          "text": [
            "<ipython-input-27-8be96c115e83>:1: SettingWithCopyWarning: \n",
            "A value is trying to be set on a copy of a slice from a DataFrame.\n",
            "Try using .loc[row_indexer,col_indexer] = value instead\n",
            "\n",
            "See the caveats in the documentation: https://pandas.pydata.org/pandas-docs/stable/user_guide/indexing.html#returning-a-view-versus-a-copy\n",
            "  math_df1_t['talk_source'] = 'teacher_text'\n",
            "<ipython-input-27-8be96c115e83>:2: SettingWithCopyWarning: \n",
            "A value is trying to be set on a copy of a slice from a DataFrame.\n",
            "Try using .loc[row_indexer,col_indexer] = value instead\n",
            "\n",
            "See the caveats in the documentation: https://pandas.pydata.org/pandas-docs/stable/user_guide/indexing.html#returning-a-view-versus-a-copy\n",
            "  math_df1_s['talk_source'] = 'student_text'\n"
          ]
        }
      ]
    },
    {
      "cell_type": "code",
      "source": [
        "math_df1_s.info()"
      ],
      "metadata": {
        "colab": {
          "base_uri": "https://localhost:8080/"
        },
        "id": "Jn5Z-8j3z2I8",
        "outputId": "16fa3310-ad3b-4bb5-cdf0-b23400678742"
      },
      "execution_count": 33,
      "outputs": [
        {
          "output_type": "stream",
          "name": "stdout",
          "text": [
            "<class 'pandas.core.frame.DataFrame'>\n",
            "RangeIndex: 12853 entries, 0 to 12852\n",
            "Data columns (total 3 columns):\n",
            " #   Column        Non-Null Count  Dtype \n",
            "---  ------        --------------  ----- \n",
            " 0   grade         12853 non-null  int64 \n",
            " 1   student_text  12788 non-null  object\n",
            " 2   talk_source   12853 non-null  object\n",
            "dtypes: int64(1), object(2)\n",
            "memory usage: 301.4+ KB\n"
          ]
        }
      ]
    },
    {
      "cell_type": "code",
      "source": [
        "math_df1_s.columns = ['grade','text','talk_source']\n",
        "math_df1_t.columns = ['grade','text','talk_source']"
      ],
      "metadata": {
        "id": "xcWZgyGFzpbF"
      },
      "execution_count": 35,
      "outputs": []
    },
    {
      "cell_type": "code",
      "source": [
        "# merge student and teacher text together\n",
        "math_df1 = pd.concat([math_df1_s, math_df1_t], axis = 0)\n",
        "math_df1"
      ],
      "metadata": {
        "colab": {
          "base_uri": "https://localhost:8080/",
          "height": 424
        },
        "id": "oUY4m7P-0BMd",
        "outputId": "37f6c3b7-f8fb-4e14-ce98-19804db5cda0"
      },
      "execution_count": 36,
      "outputs": [
        {
          "output_type": "execute_result",
          "data": {
            "text/plain": [
              "       grade                                               text   talk_source\n",
              "0          1  One person can count first and then the next c...  student_text\n",
              "1          1  We put each object in a pile after we counted ...  student_text\n",
              "2          1  They drew twelve circles. They wrote the numbe...  student_text\n",
              "3          1  We talked to each other and to the teacher. We...  student_text\n",
              "4          1  One person can count first and then the next c...  student_text\n",
              "...      ...                                                ...           ...\n",
              "12848      5  What were the most important things about your...  teacher_text\n",
              "12849      5  What did the writer of this activity have to p...  teacher_text\n",
              "12850      5  What were the most important things about your...  teacher_text\n",
              "12851      5  What did the writer of this activity have to p...  teacher_text\n",
              "12852      5  What were the most important things about your...  teacher_text\n",
              "\n",
              "[25706 rows x 3 columns]"
            ],
            "text/html": [
              "\n",
              "  <div id=\"df-40796cce-f30c-47d9-82f8-f75a16f5b44a\">\n",
              "    <div class=\"colab-df-container\">\n",
              "      <div>\n",
              "<style scoped>\n",
              "    .dataframe tbody tr th:only-of-type {\n",
              "        vertical-align: middle;\n",
              "    }\n",
              "\n",
              "    .dataframe tbody tr th {\n",
              "        vertical-align: top;\n",
              "    }\n",
              "\n",
              "    .dataframe thead th {\n",
              "        text-align: right;\n",
              "    }\n",
              "</style>\n",
              "<table border=\"1\" class=\"dataframe\">\n",
              "  <thead>\n",
              "    <tr style=\"text-align: right;\">\n",
              "      <th></th>\n",
              "      <th>grade</th>\n",
              "      <th>text</th>\n",
              "      <th>talk_source</th>\n",
              "    </tr>\n",
              "  </thead>\n",
              "  <tbody>\n",
              "    <tr>\n",
              "      <th>0</th>\n",
              "      <td>1</td>\n",
              "      <td>One person can count first and then the next c...</td>\n",
              "      <td>student_text</td>\n",
              "    </tr>\n",
              "    <tr>\n",
              "      <th>1</th>\n",
              "      <td>1</td>\n",
              "      <td>We put each object in a pile after we counted ...</td>\n",
              "      <td>student_text</td>\n",
              "    </tr>\n",
              "    <tr>\n",
              "      <th>2</th>\n",
              "      <td>1</td>\n",
              "      <td>They drew twelve circles. They wrote the numbe...</td>\n",
              "      <td>student_text</td>\n",
              "    </tr>\n",
              "    <tr>\n",
              "      <th>3</th>\n",
              "      <td>1</td>\n",
              "      <td>We talked to each other and to the teacher. We...</td>\n",
              "      <td>student_text</td>\n",
              "    </tr>\n",
              "    <tr>\n",
              "      <th>4</th>\n",
              "      <td>1</td>\n",
              "      <td>One person can count first and then the next c...</td>\n",
              "      <td>student_text</td>\n",
              "    </tr>\n",
              "    <tr>\n",
              "      <th>...</th>\n",
              "      <td>...</td>\n",
              "      <td>...</td>\n",
              "      <td>...</td>\n",
              "    </tr>\n",
              "    <tr>\n",
              "      <th>12848</th>\n",
              "      <td>5</td>\n",
              "      <td>What were the most important things about your...</td>\n",
              "      <td>teacher_text</td>\n",
              "    </tr>\n",
              "    <tr>\n",
              "      <th>12849</th>\n",
              "      <td>5</td>\n",
              "      <td>What did the writer of this activity have to p...</td>\n",
              "      <td>teacher_text</td>\n",
              "    </tr>\n",
              "    <tr>\n",
              "      <th>12850</th>\n",
              "      <td>5</td>\n",
              "      <td>What were the most important things about your...</td>\n",
              "      <td>teacher_text</td>\n",
              "    </tr>\n",
              "    <tr>\n",
              "      <th>12851</th>\n",
              "      <td>5</td>\n",
              "      <td>What did the writer of this activity have to p...</td>\n",
              "      <td>teacher_text</td>\n",
              "    </tr>\n",
              "    <tr>\n",
              "      <th>12852</th>\n",
              "      <td>5</td>\n",
              "      <td>What were the most important things about your...</td>\n",
              "      <td>teacher_text</td>\n",
              "    </tr>\n",
              "  </tbody>\n",
              "</table>\n",
              "<p>25706 rows × 3 columns</p>\n",
              "</div>\n",
              "      <button class=\"colab-df-convert\" onclick=\"convertToInteractive('df-40796cce-f30c-47d9-82f8-f75a16f5b44a')\"\n",
              "              title=\"Convert this dataframe to an interactive table.\"\n",
              "              style=\"display:none;\">\n",
              "        \n",
              "  <svg xmlns=\"http://www.w3.org/2000/svg\" height=\"24px\"viewBox=\"0 0 24 24\"\n",
              "       width=\"24px\">\n",
              "    <path d=\"M0 0h24v24H0V0z\" fill=\"none\"/>\n",
              "    <path d=\"M18.56 5.44l.94 2.06.94-2.06 2.06-.94-2.06-.94-.94-2.06-.94 2.06-2.06.94zm-11 1L8.5 8.5l.94-2.06 2.06-.94-2.06-.94L8.5 2.5l-.94 2.06-2.06.94zm10 10l.94 2.06.94-2.06 2.06-.94-2.06-.94-.94-2.06-.94 2.06-2.06.94z\"/><path d=\"M17.41 7.96l-1.37-1.37c-.4-.4-.92-.59-1.43-.59-.52 0-1.04.2-1.43.59L10.3 9.45l-7.72 7.72c-.78.78-.78 2.05 0 2.83L4 21.41c.39.39.9.59 1.41.59.51 0 1.02-.2 1.41-.59l7.78-7.78 2.81-2.81c.8-.78.8-2.07 0-2.86zM5.41 20L4 18.59l7.72-7.72 1.47 1.35L5.41 20z\"/>\n",
              "  </svg>\n",
              "      </button>\n",
              "      \n",
              "  <style>\n",
              "    .colab-df-container {\n",
              "      display:flex;\n",
              "      flex-wrap:wrap;\n",
              "      gap: 12px;\n",
              "    }\n",
              "\n",
              "    .colab-df-convert {\n",
              "      background-color: #E8F0FE;\n",
              "      border: none;\n",
              "      border-radius: 50%;\n",
              "      cursor: pointer;\n",
              "      display: none;\n",
              "      fill: #1967D2;\n",
              "      height: 32px;\n",
              "      padding: 0 0 0 0;\n",
              "      width: 32px;\n",
              "    }\n",
              "\n",
              "    .colab-df-convert:hover {\n",
              "      background-color: #E2EBFA;\n",
              "      box-shadow: 0px 1px 2px rgba(60, 64, 67, 0.3), 0px 1px 3px 1px rgba(60, 64, 67, 0.15);\n",
              "      fill: #174EA6;\n",
              "    }\n",
              "\n",
              "    [theme=dark] .colab-df-convert {\n",
              "      background-color: #3B4455;\n",
              "      fill: #D2E3FC;\n",
              "    }\n",
              "\n",
              "    [theme=dark] .colab-df-convert:hover {\n",
              "      background-color: #434B5C;\n",
              "      box-shadow: 0px 1px 3px 1px rgba(0, 0, 0, 0.15);\n",
              "      filter: drop-shadow(0px 1px 2px rgba(0, 0, 0, 0.3));\n",
              "      fill: #FFFFFF;\n",
              "    }\n",
              "  </style>\n",
              "\n",
              "      <script>\n",
              "        const buttonEl =\n",
              "          document.querySelector('#df-40796cce-f30c-47d9-82f8-f75a16f5b44a button.colab-df-convert');\n",
              "        buttonEl.style.display =\n",
              "          google.colab.kernel.accessAllowed ? 'block' : 'none';\n",
              "\n",
              "        async function convertToInteractive(key) {\n",
              "          const element = document.querySelector('#df-40796cce-f30c-47d9-82f8-f75a16f5b44a');\n",
              "          const dataTable =\n",
              "            await google.colab.kernel.invokeFunction('convertToInteractive',\n",
              "                                                     [key], {});\n",
              "          if (!dataTable) return;\n",
              "\n",
              "          const docLinkHtml = 'Like what you see? Visit the ' +\n",
              "            '<a target=\"_blank\" href=https://colab.research.google.com/notebooks/data_table.ipynb>data table notebook</a>'\n",
              "            + ' to learn more about interactive tables.';\n",
              "          element.innerHTML = '';\n",
              "          dataTable['output_type'] = 'display_data';\n",
              "          await google.colab.output.renderOutput(dataTable, element);\n",
              "          const docLink = document.createElement('div');\n",
              "          docLink.innerHTML = docLinkHtml;\n",
              "          element.appendChild(docLink);\n",
              "        }\n",
              "      </script>\n",
              "    </div>\n",
              "  </div>\n",
              "  "
            ]
          },
          "metadata": {},
          "execution_count": 36
        }
      ]
    },
    {
      "cell_type": "code",
      "source": [
        "# check grade level\n",
        "math_df1['grade'].unique()"
      ],
      "metadata": {
        "colab": {
          "base_uri": "https://localhost:8080/"
        },
        "id": "004f6tDD0pbE",
        "outputId": "1a2ff285-d829-43b4-c09d-d0ba6f7c3e3b"
      },
      "execution_count": 39,
      "outputs": [
        {
          "output_type": "execute_result",
          "data": {
            "text/plain": [
              "array([1, 2, 3, 4, 5])"
            ]
          },
          "metadata": {},
          "execution_count": 39
        }
      ]
    },
    {
      "cell_type": "code",
      "source": [
        "talk_math_sentence_level['talk_source'] = 'teacher_text'\n",
        "talk_math_sentence_level.info()"
      ],
      "metadata": {
        "colab": {
          "base_uri": "https://localhost:8080/"
        },
        "id": "sZRsDWj9yPf-",
        "outputId": "f7aa7334-93f7-4e22-9b24-87f36198de75"
      },
      "execution_count": 38,
      "outputs": [
        {
          "output_type": "stream",
          "name": "stdout",
          "text": [
            "<class 'pandas.core.frame.DataFrame'>\n",
            "RangeIndex: 1476 entries, 0 to 1475\n",
            "Data columns (total 6 columns):\n",
            " #   Column       Non-Null Count  Dtype \n",
            "---  ------       --------------  ----- \n",
            " 0   Unnamed: 0   1476 non-null   int64 \n",
            " 1   grade        1476 non-null   object\n",
            " 2   lesson       1476 non-null   object\n",
            " 3   standard     1364 non-null   object\n",
            " 4   text         1476 non-null   object\n",
            " 5   talk_source  1476 non-null   object\n",
            "dtypes: int64(1), object(5)\n",
            "memory usage: 69.3+ KB\n"
          ]
        }
      ]
    },
    {
      "cell_type": "code",
      "source": [
        "# check grade level\n",
        "talk_math_sentence_level['grade'].unique()"
      ],
      "metadata": {
        "colab": {
          "base_uri": "https://localhost:8080/"
        },
        "id": "6XzdXY0y0iaI",
        "outputId": "97464b89-46cf-43d2-fe29-16d7520ff9cd"
      },
      "execution_count": 40,
      "outputs": [
        {
          "output_type": "execute_result",
          "data": {
            "text/plain": [
              "array(['K', '1', '2', '3', '4', '5'], dtype=object)"
            ]
          },
          "metadata": {},
          "execution_count": 40
        }
      ]
    },
    {
      "cell_type": "code",
      "source": [
        "talk_math_sentence_level['text']"
      ],
      "metadata": {
        "colab": {
          "base_uri": "https://localhost:8080/"
        },
        "id": "-odYeecL07UY",
        "outputId": "2bc52d10-261d-4bfb-9023-f0364b256104"
      },
      "execution_count": 41,
      "outputs": [
        {
          "output_type": "execute_result",
          "data": {
            "text/plain": [
              "0                         What kinds of toys do you see? \n",
              "1                   What can you tell me about the toys? \n",
              "2                               How many toys are round? \n",
              "3                          How many have straight sides? \n",
              "4       Do you think there are more round toys or toys...\n",
              "                              ...                        \n",
              "1471            Can paint brushes be measured in meters? \n",
              "1472                                            Explain. \n",
              "1473     If all the pencils in the picture were lined ...\n",
              "1474                     What is this measure in meters? \n",
              "1475                                           Explain.  \n",
              "Name: text, Length: 1476, dtype: object"
            ]
          },
          "metadata": {},
          "execution_count": 41
        }
      ]
    },
    {
      "cell_type": "code",
      "source": [
        "# combine with previous data\n",
        "math_df2 = pd.concat([math_df1, \n",
        "                      talk_math_sentence_level[['grade','text','talk_source']]],\n",
        "                     axis = 0)"
      ],
      "metadata": {
        "id": "rUCd2zfL1m42"
      },
      "execution_count": 44,
      "outputs": []
    },
    {
      "cell_type": "code",
      "source": [
        "math_df2"
      ],
      "metadata": {
        "colab": {
          "base_uri": "https://localhost:8080/",
          "height": 424
        },
        "id": "XJI5DWsu13G9",
        "outputId": "75dc9555-6688-4b27-8b7d-8a43f006d5f3"
      },
      "execution_count": 45,
      "outputs": [
        {
          "output_type": "execute_result",
          "data": {
            "text/plain": [
              "     grade                                               text   talk_source\n",
              "0        1  One person can count first and then the next c...  student_text\n",
              "1        1  We put each object in a pile after we counted ...  student_text\n",
              "2        1  They drew twelve circles. They wrote the numbe...  student_text\n",
              "3        1  We talked to each other and to the teacher. We...  student_text\n",
              "4        1  One person can count first and then the next c...  student_text\n",
              "...    ...                                                ...           ...\n",
              "1471     4          Can paint brushes be measured in meters?   teacher_text\n",
              "1472     4                                          Explain.   teacher_text\n",
              "1473     5   If all the pencils in the picture were lined ...  teacher_text\n",
              "1474     5                   What is this measure in meters?   teacher_text\n",
              "1475     5                                         Explain.    teacher_text\n",
              "\n",
              "[27182 rows x 3 columns]"
            ],
            "text/html": [
              "\n",
              "  <div id=\"df-c6921fcb-f337-415c-950f-33a4449c5d20\">\n",
              "    <div class=\"colab-df-container\">\n",
              "      <div>\n",
              "<style scoped>\n",
              "    .dataframe tbody tr th:only-of-type {\n",
              "        vertical-align: middle;\n",
              "    }\n",
              "\n",
              "    .dataframe tbody tr th {\n",
              "        vertical-align: top;\n",
              "    }\n",
              "\n",
              "    .dataframe thead th {\n",
              "        text-align: right;\n",
              "    }\n",
              "</style>\n",
              "<table border=\"1\" class=\"dataframe\">\n",
              "  <thead>\n",
              "    <tr style=\"text-align: right;\">\n",
              "      <th></th>\n",
              "      <th>grade</th>\n",
              "      <th>text</th>\n",
              "      <th>talk_source</th>\n",
              "    </tr>\n",
              "  </thead>\n",
              "  <tbody>\n",
              "    <tr>\n",
              "      <th>0</th>\n",
              "      <td>1</td>\n",
              "      <td>One person can count first and then the next c...</td>\n",
              "      <td>student_text</td>\n",
              "    </tr>\n",
              "    <tr>\n",
              "      <th>1</th>\n",
              "      <td>1</td>\n",
              "      <td>We put each object in a pile after we counted ...</td>\n",
              "      <td>student_text</td>\n",
              "    </tr>\n",
              "    <tr>\n",
              "      <th>2</th>\n",
              "      <td>1</td>\n",
              "      <td>They drew twelve circles. They wrote the numbe...</td>\n",
              "      <td>student_text</td>\n",
              "    </tr>\n",
              "    <tr>\n",
              "      <th>3</th>\n",
              "      <td>1</td>\n",
              "      <td>We talked to each other and to the teacher. We...</td>\n",
              "      <td>student_text</td>\n",
              "    </tr>\n",
              "    <tr>\n",
              "      <th>4</th>\n",
              "      <td>1</td>\n",
              "      <td>One person can count first and then the next c...</td>\n",
              "      <td>student_text</td>\n",
              "    </tr>\n",
              "    <tr>\n",
              "      <th>...</th>\n",
              "      <td>...</td>\n",
              "      <td>...</td>\n",
              "      <td>...</td>\n",
              "    </tr>\n",
              "    <tr>\n",
              "      <th>1471</th>\n",
              "      <td>4</td>\n",
              "      <td>Can paint brushes be measured in meters?</td>\n",
              "      <td>teacher_text</td>\n",
              "    </tr>\n",
              "    <tr>\n",
              "      <th>1472</th>\n",
              "      <td>4</td>\n",
              "      <td>Explain.</td>\n",
              "      <td>teacher_text</td>\n",
              "    </tr>\n",
              "    <tr>\n",
              "      <th>1473</th>\n",
              "      <td>5</td>\n",
              "      <td>If all the pencils in the picture were lined ...</td>\n",
              "      <td>teacher_text</td>\n",
              "    </tr>\n",
              "    <tr>\n",
              "      <th>1474</th>\n",
              "      <td>5</td>\n",
              "      <td>What is this measure in meters?</td>\n",
              "      <td>teacher_text</td>\n",
              "    </tr>\n",
              "    <tr>\n",
              "      <th>1475</th>\n",
              "      <td>5</td>\n",
              "      <td>Explain.</td>\n",
              "      <td>teacher_text</td>\n",
              "    </tr>\n",
              "  </tbody>\n",
              "</table>\n",
              "<p>27182 rows × 3 columns</p>\n",
              "</div>\n",
              "      <button class=\"colab-df-convert\" onclick=\"convertToInteractive('df-c6921fcb-f337-415c-950f-33a4449c5d20')\"\n",
              "              title=\"Convert this dataframe to an interactive table.\"\n",
              "              style=\"display:none;\">\n",
              "        \n",
              "  <svg xmlns=\"http://www.w3.org/2000/svg\" height=\"24px\"viewBox=\"0 0 24 24\"\n",
              "       width=\"24px\">\n",
              "    <path d=\"M0 0h24v24H0V0z\" fill=\"none\"/>\n",
              "    <path d=\"M18.56 5.44l.94 2.06.94-2.06 2.06-.94-2.06-.94-.94-2.06-.94 2.06-2.06.94zm-11 1L8.5 8.5l.94-2.06 2.06-.94-2.06-.94L8.5 2.5l-.94 2.06-2.06.94zm10 10l.94 2.06.94-2.06 2.06-.94-2.06-.94-.94-2.06-.94 2.06-2.06.94z\"/><path d=\"M17.41 7.96l-1.37-1.37c-.4-.4-.92-.59-1.43-.59-.52 0-1.04.2-1.43.59L10.3 9.45l-7.72 7.72c-.78.78-.78 2.05 0 2.83L4 21.41c.39.39.9.59 1.41.59.51 0 1.02-.2 1.41-.59l7.78-7.78 2.81-2.81c.8-.78.8-2.07 0-2.86zM5.41 20L4 18.59l7.72-7.72 1.47 1.35L5.41 20z\"/>\n",
              "  </svg>\n",
              "      </button>\n",
              "      \n",
              "  <style>\n",
              "    .colab-df-container {\n",
              "      display:flex;\n",
              "      flex-wrap:wrap;\n",
              "      gap: 12px;\n",
              "    }\n",
              "\n",
              "    .colab-df-convert {\n",
              "      background-color: #E8F0FE;\n",
              "      border: none;\n",
              "      border-radius: 50%;\n",
              "      cursor: pointer;\n",
              "      display: none;\n",
              "      fill: #1967D2;\n",
              "      height: 32px;\n",
              "      padding: 0 0 0 0;\n",
              "      width: 32px;\n",
              "    }\n",
              "\n",
              "    .colab-df-convert:hover {\n",
              "      background-color: #E2EBFA;\n",
              "      box-shadow: 0px 1px 2px rgba(60, 64, 67, 0.3), 0px 1px 3px 1px rgba(60, 64, 67, 0.15);\n",
              "      fill: #174EA6;\n",
              "    }\n",
              "\n",
              "    [theme=dark] .colab-df-convert {\n",
              "      background-color: #3B4455;\n",
              "      fill: #D2E3FC;\n",
              "    }\n",
              "\n",
              "    [theme=dark] .colab-df-convert:hover {\n",
              "      background-color: #434B5C;\n",
              "      box-shadow: 0px 1px 3px 1px rgba(0, 0, 0, 0.15);\n",
              "      filter: drop-shadow(0px 1px 2px rgba(0, 0, 0, 0.3));\n",
              "      fill: #FFFFFF;\n",
              "    }\n",
              "  </style>\n",
              "\n",
              "      <script>\n",
              "        const buttonEl =\n",
              "          document.querySelector('#df-c6921fcb-f337-415c-950f-33a4449c5d20 button.colab-df-convert');\n",
              "        buttonEl.style.display =\n",
              "          google.colab.kernel.accessAllowed ? 'block' : 'none';\n",
              "\n",
              "        async function convertToInteractive(key) {\n",
              "          const element = document.querySelector('#df-c6921fcb-f337-415c-950f-33a4449c5d20');\n",
              "          const dataTable =\n",
              "            await google.colab.kernel.invokeFunction('convertToInteractive',\n",
              "                                                     [key], {});\n",
              "          if (!dataTable) return;\n",
              "\n",
              "          const docLinkHtml = 'Like what you see? Visit the ' +\n",
              "            '<a target=\"_blank\" href=https://colab.research.google.com/notebooks/data_table.ipynb>data table notebook</a>'\n",
              "            + ' to learn more about interactive tables.';\n",
              "          element.innerHTML = '';\n",
              "          dataTable['output_type'] = 'display_data';\n",
              "          await google.colab.output.renderOutput(dataTable, element);\n",
              "          const docLink = document.createElement('div');\n",
              "          docLink.innerHTML = docLinkHtml;\n",
              "          element.appendChild(docLink);\n",
              "        }\n",
              "      </script>\n",
              "    </div>\n",
              "  </div>\n",
              "  "
            ]
          },
          "metadata": {},
          "execution_count": 45
        }
      ]
    },
    {
      "cell_type": "code",
      "source": [
        "# check grade level\n",
        "edf_talk_sentence['grade'].unique()\n",
        "# don't include grade 6 for now\n",
        "edf_talk_sentence = edf_talk_sentence[edf_talk_sentence['grade'] != 6]\n",
        "# check grade level again\n",
        "edf_talk_sentence['grade'].unique()"
      ],
      "metadata": {
        "colab": {
          "base_uri": "https://localhost:8080/"
        },
        "id": "qiK6TDV3035g",
        "outputId": "918d9558-94c6-4fca-bf93-9ee9bcf2f4fc"
      },
      "execution_count": 43,
      "outputs": [
        {
          "output_type": "execute_result",
          "data": {
            "text/plain": [
              "array([4, 5, 3])"
            ]
          },
          "metadata": {},
          "execution_count": 43
        }
      ]
    },
    {
      "cell_type": "code",
      "source": [
        "edf_talk_sentence.info()"
      ],
      "metadata": {
        "colab": {
          "base_uri": "https://localhost:8080/"
        },
        "id": "uK77hGC52cIK",
        "outputId": "6fa84c51-66d7-418a-b82a-091bc771a5af"
      },
      "execution_count": 49,
      "outputs": [
        {
          "output_type": "stream",
          "name": "stdout",
          "text": [
            "<class 'pandas.core.frame.DataFrame'>\n",
            "Int64Index: 30075 entries, 0 to 30074\n",
            "Data columns (total 7 columns):\n",
            " #   Column       Non-Null Count  Dtype \n",
            "---  ------       --------------  ----- \n",
            " 0   Unnamed: 0   30075 non-null  int64 \n",
            " 1   grade        30075 non-null  int64 \n",
            " 2   standard     30075 non-null  object\n",
            " 3   lesson_part  30075 non-null  object\n",
            " 4   text         30075 non-null  object\n",
            " 5   talk_source  23045 non-null  object\n",
            " 6   clean_text   20503 non-null  object\n",
            "dtypes: int64(2), object(5)\n",
            "memory usage: 1.8+ MB\n"
          ]
        }
      ]
    },
    {
      "cell_type": "code",
      "source": [
        "edf_sub = edf_talk_sentence[['grade','clean_text','talk_source']].dropna()"
      ],
      "metadata": {
        "id": "3at-XOAsyfgN"
      },
      "execution_count": 62,
      "outputs": []
    },
    {
      "cell_type": "code",
      "source": [
        "# create a new row storing the length of text\n",
        "edf_sub['txt_length'] = edf_sub.clean_text.str.len()\n",
        "\n",
        "# drop rows that len(clean_text) < 5\n",
        "edf_sub = edf_sub[edf_sub['txt_length'] > 5]\n",
        "\n",
        "# reset index\n",
        "edf_sub.reset_index(inplace=True, drop=True)"
      ],
      "metadata": {
        "id": "2ICIRgCk3T1P"
      },
      "execution_count": 63,
      "outputs": []
    },
    {
      "cell_type": "code",
      "source": [
        "edf_sub.columns = ['grade','text','talk_source','txt_length']\n",
        "edf_sub.head()"
      ],
      "metadata": {
        "colab": {
          "base_uri": "https://localhost:8080/",
          "height": 206
        },
        "id": "hkBG4lV04Q76",
        "outputId": "0fb1ed4a-1b2f-42d9-e19e-4cd6539e348b"
      },
      "execution_count": 68,
      "outputs": [
        {
          "output_type": "execute_result",
          "data": {
            "text/plain": [
              "   grade                                               text   talk_source  \\\n",
              "0      4    Show 4 ones as place value disks.  Write the...  teacher_text   \n",
              "1      4  Show 4 tens disks, and write the number below it.  teacher_text   \n",
              "2      4                       Say the number in unit form.  teacher_text   \n",
              "3      4                                     4 tens 4 ones.  student_text   \n",
              "4      4                   Say the number in standard form.  teacher_text   \n",
              "\n",
              "   txt_length  \n",
              "0          63  \n",
              "1          49  \n",
              "2          28  \n",
              "3          14  \n",
              "4          32  "
            ],
            "text/html": [
              "\n",
              "  <div id=\"df-645d4a61-e5ce-4732-b013-2ef7a62aa4f8\">\n",
              "    <div class=\"colab-df-container\">\n",
              "      <div>\n",
              "<style scoped>\n",
              "    .dataframe tbody tr th:only-of-type {\n",
              "        vertical-align: middle;\n",
              "    }\n",
              "\n",
              "    .dataframe tbody tr th {\n",
              "        vertical-align: top;\n",
              "    }\n",
              "\n",
              "    .dataframe thead th {\n",
              "        text-align: right;\n",
              "    }\n",
              "</style>\n",
              "<table border=\"1\" class=\"dataframe\">\n",
              "  <thead>\n",
              "    <tr style=\"text-align: right;\">\n",
              "      <th></th>\n",
              "      <th>grade</th>\n",
              "      <th>text</th>\n",
              "      <th>talk_source</th>\n",
              "      <th>txt_length</th>\n",
              "    </tr>\n",
              "  </thead>\n",
              "  <tbody>\n",
              "    <tr>\n",
              "      <th>0</th>\n",
              "      <td>4</td>\n",
              "      <td>Show 4 ones as place value disks.  Write the...</td>\n",
              "      <td>teacher_text</td>\n",
              "      <td>63</td>\n",
              "    </tr>\n",
              "    <tr>\n",
              "      <th>1</th>\n",
              "      <td>4</td>\n",
              "      <td>Show 4 tens disks, and write the number below it.</td>\n",
              "      <td>teacher_text</td>\n",
              "      <td>49</td>\n",
              "    </tr>\n",
              "    <tr>\n",
              "      <th>2</th>\n",
              "      <td>4</td>\n",
              "      <td>Say the number in unit form.</td>\n",
              "      <td>teacher_text</td>\n",
              "      <td>28</td>\n",
              "    </tr>\n",
              "    <tr>\n",
              "      <th>3</th>\n",
              "      <td>4</td>\n",
              "      <td>4 tens 4 ones.</td>\n",
              "      <td>student_text</td>\n",
              "      <td>14</td>\n",
              "    </tr>\n",
              "    <tr>\n",
              "      <th>4</th>\n",
              "      <td>4</td>\n",
              "      <td>Say the number in standard form.</td>\n",
              "      <td>teacher_text</td>\n",
              "      <td>32</td>\n",
              "    </tr>\n",
              "  </tbody>\n",
              "</table>\n",
              "</div>\n",
              "      <button class=\"colab-df-convert\" onclick=\"convertToInteractive('df-645d4a61-e5ce-4732-b013-2ef7a62aa4f8')\"\n",
              "              title=\"Convert this dataframe to an interactive table.\"\n",
              "              style=\"display:none;\">\n",
              "        \n",
              "  <svg xmlns=\"http://www.w3.org/2000/svg\" height=\"24px\"viewBox=\"0 0 24 24\"\n",
              "       width=\"24px\">\n",
              "    <path d=\"M0 0h24v24H0V0z\" fill=\"none\"/>\n",
              "    <path d=\"M18.56 5.44l.94 2.06.94-2.06 2.06-.94-2.06-.94-.94-2.06-.94 2.06-2.06.94zm-11 1L8.5 8.5l.94-2.06 2.06-.94-2.06-.94L8.5 2.5l-.94 2.06-2.06.94zm10 10l.94 2.06.94-2.06 2.06-.94-2.06-.94-.94-2.06-.94 2.06-2.06.94z\"/><path d=\"M17.41 7.96l-1.37-1.37c-.4-.4-.92-.59-1.43-.59-.52 0-1.04.2-1.43.59L10.3 9.45l-7.72 7.72c-.78.78-.78 2.05 0 2.83L4 21.41c.39.39.9.59 1.41.59.51 0 1.02-.2 1.41-.59l7.78-7.78 2.81-2.81c.8-.78.8-2.07 0-2.86zM5.41 20L4 18.59l7.72-7.72 1.47 1.35L5.41 20z\"/>\n",
              "  </svg>\n",
              "      </button>\n",
              "      \n",
              "  <style>\n",
              "    .colab-df-container {\n",
              "      display:flex;\n",
              "      flex-wrap:wrap;\n",
              "      gap: 12px;\n",
              "    }\n",
              "\n",
              "    .colab-df-convert {\n",
              "      background-color: #E8F0FE;\n",
              "      border: none;\n",
              "      border-radius: 50%;\n",
              "      cursor: pointer;\n",
              "      display: none;\n",
              "      fill: #1967D2;\n",
              "      height: 32px;\n",
              "      padding: 0 0 0 0;\n",
              "      width: 32px;\n",
              "    }\n",
              "\n",
              "    .colab-df-convert:hover {\n",
              "      background-color: #E2EBFA;\n",
              "      box-shadow: 0px 1px 2px rgba(60, 64, 67, 0.3), 0px 1px 3px 1px rgba(60, 64, 67, 0.15);\n",
              "      fill: #174EA6;\n",
              "    }\n",
              "\n",
              "    [theme=dark] .colab-df-convert {\n",
              "      background-color: #3B4455;\n",
              "      fill: #D2E3FC;\n",
              "    }\n",
              "\n",
              "    [theme=dark] .colab-df-convert:hover {\n",
              "      background-color: #434B5C;\n",
              "      box-shadow: 0px 1px 3px 1px rgba(0, 0, 0, 0.15);\n",
              "      filter: drop-shadow(0px 1px 2px rgba(0, 0, 0, 0.3));\n",
              "      fill: #FFFFFF;\n",
              "    }\n",
              "  </style>\n",
              "\n",
              "      <script>\n",
              "        const buttonEl =\n",
              "          document.querySelector('#df-645d4a61-e5ce-4732-b013-2ef7a62aa4f8 button.colab-df-convert');\n",
              "        buttonEl.style.display =\n",
              "          google.colab.kernel.accessAllowed ? 'block' : 'none';\n",
              "\n",
              "        async function convertToInteractive(key) {\n",
              "          const element = document.querySelector('#df-645d4a61-e5ce-4732-b013-2ef7a62aa4f8');\n",
              "          const dataTable =\n",
              "            await google.colab.kernel.invokeFunction('convertToInteractive',\n",
              "                                                     [key], {});\n",
              "          if (!dataTable) return;\n",
              "\n",
              "          const docLinkHtml = 'Like what you see? Visit the ' +\n",
              "            '<a target=\"_blank\" href=https://colab.research.google.com/notebooks/data_table.ipynb>data table notebook</a>'\n",
              "            + ' to learn more about interactive tables.';\n",
              "          element.innerHTML = '';\n",
              "          dataTable['output_type'] = 'display_data';\n",
              "          await google.colab.output.renderOutput(dataTable, element);\n",
              "          const docLink = document.createElement('div');\n",
              "          docLink.innerHTML = docLinkHtml;\n",
              "          element.appendChild(docLink);\n",
              "        }\n",
              "      </script>\n",
              "    </div>\n",
              "  </div>\n",
              "  "
            ]
          },
          "metadata": {},
          "execution_count": 68
        }
      ]
    },
    {
      "cell_type": "code",
      "source": [
        "# merge it with math_df2\n",
        "math_df = pd.concat([math_df2,\n",
        "                     edf_sub[['grade','text','talk_source']]],\n",
        "                    axis = 0,\n",
        "                    ignore_index = True)\n",
        "math_df"
      ],
      "metadata": {
        "id": "e355lK7T2iwO"
      },
      "execution_count": null,
      "outputs": []
    },
    {
      "cell_type": "code",
      "source": [
        "# check string length\n",
        "math_df['txt_length'] = math_df.text.str.len()"
      ],
      "metadata": {
        "id": "tkDwU3Wk4loh"
      },
      "execution_count": 72,
      "outputs": []
    },
    {
      "cell_type": "code",
      "source": [
        "math_df[math_df['txt_length']< 10] \n",
        "# well I think these can be considered as noise and remove :)"
      ],
      "metadata": {
        "colab": {
          "base_uri": "https://localhost:8080/",
          "height": 332
        },
        "id": "PpAYvE784xSd",
        "outputId": "28d95d12-cec8-4c9a-ccb9-967279ac0074"
      },
      "execution_count": 74,
      "outputs": [
        {
          "output_type": "execute_result",
          "data": {
            "text/plain": [
              "      grade       text   talk_source  txt_length\n",
              "159       1   \\(6 + 2\\  student_text         8.0\n",
              "167       1   \\(6 + 2\\  student_text         8.0\n",
              "175       1   \\(6 + 2\\  student_text         8.0\n",
              "183       1   \\(6 + 2\\  student_text         8.0\n",
              "292       1          4  student_text         1.0\n",
              "...     ...        ...           ...         ...\n",
              "46239     3  12 tiles.  student_text         9.0\n",
              "46241     3    6 twos.  student_text         7.0\n",
              "46253     3  7 threes.  student_text         9.0\n",
              "46264     3  4 inches!  student_text         9.0\n",
              "46271     3    4 rows.  student_text         7.0\n",
              "\n",
              "[2035 rows x 4 columns]"
            ],
            "text/html": [
              "\n",
              "  <div id=\"df-bb198224-06db-4a31-bf5b-287559a50a64\">\n",
              "    <div class=\"colab-df-container\">\n",
              "      <div>\n",
              "<style scoped>\n",
              "    .dataframe tbody tr th:only-of-type {\n",
              "        vertical-align: middle;\n",
              "    }\n",
              "\n",
              "    .dataframe tbody tr th {\n",
              "        vertical-align: top;\n",
              "    }\n",
              "\n",
              "    .dataframe thead th {\n",
              "        text-align: right;\n",
              "    }\n",
              "</style>\n",
              "<table border=\"1\" class=\"dataframe\">\n",
              "  <thead>\n",
              "    <tr style=\"text-align: right;\">\n",
              "      <th></th>\n",
              "      <th>grade</th>\n",
              "      <th>text</th>\n",
              "      <th>talk_source</th>\n",
              "      <th>txt_length</th>\n",
              "    </tr>\n",
              "  </thead>\n",
              "  <tbody>\n",
              "    <tr>\n",
              "      <th>159</th>\n",
              "      <td>1</td>\n",
              "      <td>\\(6 + 2\\</td>\n",
              "      <td>student_text</td>\n",
              "      <td>8.0</td>\n",
              "    </tr>\n",
              "    <tr>\n",
              "      <th>167</th>\n",
              "      <td>1</td>\n",
              "      <td>\\(6 + 2\\</td>\n",
              "      <td>student_text</td>\n",
              "      <td>8.0</td>\n",
              "    </tr>\n",
              "    <tr>\n",
              "      <th>175</th>\n",
              "      <td>1</td>\n",
              "      <td>\\(6 + 2\\</td>\n",
              "      <td>student_text</td>\n",
              "      <td>8.0</td>\n",
              "    </tr>\n",
              "    <tr>\n",
              "      <th>183</th>\n",
              "      <td>1</td>\n",
              "      <td>\\(6 + 2\\</td>\n",
              "      <td>student_text</td>\n",
              "      <td>8.0</td>\n",
              "    </tr>\n",
              "    <tr>\n",
              "      <th>292</th>\n",
              "      <td>1</td>\n",
              "      <td>4</td>\n",
              "      <td>student_text</td>\n",
              "      <td>1.0</td>\n",
              "    </tr>\n",
              "    <tr>\n",
              "      <th>...</th>\n",
              "      <td>...</td>\n",
              "      <td>...</td>\n",
              "      <td>...</td>\n",
              "      <td>...</td>\n",
              "    </tr>\n",
              "    <tr>\n",
              "      <th>46239</th>\n",
              "      <td>3</td>\n",
              "      <td>12 tiles.</td>\n",
              "      <td>student_text</td>\n",
              "      <td>9.0</td>\n",
              "    </tr>\n",
              "    <tr>\n",
              "      <th>46241</th>\n",
              "      <td>3</td>\n",
              "      <td>6 twos.</td>\n",
              "      <td>student_text</td>\n",
              "      <td>7.0</td>\n",
              "    </tr>\n",
              "    <tr>\n",
              "      <th>46253</th>\n",
              "      <td>3</td>\n",
              "      <td>7 threes.</td>\n",
              "      <td>student_text</td>\n",
              "      <td>9.0</td>\n",
              "    </tr>\n",
              "    <tr>\n",
              "      <th>46264</th>\n",
              "      <td>3</td>\n",
              "      <td>4 inches!</td>\n",
              "      <td>student_text</td>\n",
              "      <td>9.0</td>\n",
              "    </tr>\n",
              "    <tr>\n",
              "      <th>46271</th>\n",
              "      <td>3</td>\n",
              "      <td>4 rows.</td>\n",
              "      <td>student_text</td>\n",
              "      <td>7.0</td>\n",
              "    </tr>\n",
              "  </tbody>\n",
              "</table>\n",
              "<p>2035 rows × 4 columns</p>\n",
              "</div>\n",
              "      <button class=\"colab-df-convert\" onclick=\"convertToInteractive('df-bb198224-06db-4a31-bf5b-287559a50a64')\"\n",
              "              title=\"Convert this dataframe to an interactive table.\"\n",
              "              style=\"display:none;\">\n",
              "        \n",
              "  <svg xmlns=\"http://www.w3.org/2000/svg\" height=\"24px\"viewBox=\"0 0 24 24\"\n",
              "       width=\"24px\">\n",
              "    <path d=\"M0 0h24v24H0V0z\" fill=\"none\"/>\n",
              "    <path d=\"M18.56 5.44l.94 2.06.94-2.06 2.06-.94-2.06-.94-.94-2.06-.94 2.06-2.06.94zm-11 1L8.5 8.5l.94-2.06 2.06-.94-2.06-.94L8.5 2.5l-.94 2.06-2.06.94zm10 10l.94 2.06.94-2.06 2.06-.94-2.06-.94-.94-2.06-.94 2.06-2.06.94z\"/><path d=\"M17.41 7.96l-1.37-1.37c-.4-.4-.92-.59-1.43-.59-.52 0-1.04.2-1.43.59L10.3 9.45l-7.72 7.72c-.78.78-.78 2.05 0 2.83L4 21.41c.39.39.9.59 1.41.59.51 0 1.02-.2 1.41-.59l7.78-7.78 2.81-2.81c.8-.78.8-2.07 0-2.86zM5.41 20L4 18.59l7.72-7.72 1.47 1.35L5.41 20z\"/>\n",
              "  </svg>\n",
              "      </button>\n",
              "      \n",
              "  <style>\n",
              "    .colab-df-container {\n",
              "      display:flex;\n",
              "      flex-wrap:wrap;\n",
              "      gap: 12px;\n",
              "    }\n",
              "\n",
              "    .colab-df-convert {\n",
              "      background-color: #E8F0FE;\n",
              "      border: none;\n",
              "      border-radius: 50%;\n",
              "      cursor: pointer;\n",
              "      display: none;\n",
              "      fill: #1967D2;\n",
              "      height: 32px;\n",
              "      padding: 0 0 0 0;\n",
              "      width: 32px;\n",
              "    }\n",
              "\n",
              "    .colab-df-convert:hover {\n",
              "      background-color: #E2EBFA;\n",
              "      box-shadow: 0px 1px 2px rgba(60, 64, 67, 0.3), 0px 1px 3px 1px rgba(60, 64, 67, 0.15);\n",
              "      fill: #174EA6;\n",
              "    }\n",
              "\n",
              "    [theme=dark] .colab-df-convert {\n",
              "      background-color: #3B4455;\n",
              "      fill: #D2E3FC;\n",
              "    }\n",
              "\n",
              "    [theme=dark] .colab-df-convert:hover {\n",
              "      background-color: #434B5C;\n",
              "      box-shadow: 0px 1px 3px 1px rgba(0, 0, 0, 0.15);\n",
              "      filter: drop-shadow(0px 1px 2px rgba(0, 0, 0, 0.3));\n",
              "      fill: #FFFFFF;\n",
              "    }\n",
              "  </style>\n",
              "\n",
              "      <script>\n",
              "        const buttonEl =\n",
              "          document.querySelector('#df-bb198224-06db-4a31-bf5b-287559a50a64 button.colab-df-convert');\n",
              "        buttonEl.style.display =\n",
              "          google.colab.kernel.accessAllowed ? 'block' : 'none';\n",
              "\n",
              "        async function convertToInteractive(key) {\n",
              "          const element = document.querySelector('#df-bb198224-06db-4a31-bf5b-287559a50a64');\n",
              "          const dataTable =\n",
              "            await google.colab.kernel.invokeFunction('convertToInteractive',\n",
              "                                                     [key], {});\n",
              "          if (!dataTable) return;\n",
              "\n",
              "          const docLinkHtml = 'Like what you see? Visit the ' +\n",
              "            '<a target=\"_blank\" href=https://colab.research.google.com/notebooks/data_table.ipynb>data table notebook</a>'\n",
              "            + ' to learn more about interactive tables.';\n",
              "          element.innerHTML = '';\n",
              "          dataTable['output_type'] = 'display_data';\n",
              "          await google.colab.output.renderOutput(dataTable, element);\n",
              "          const docLink = document.createElement('div');\n",
              "          docLink.innerHTML = docLinkHtml;\n",
              "          element.appendChild(docLink);\n",
              "        }\n",
              "      </script>\n",
              "    </div>\n",
              "  </div>\n",
              "  "
            ]
          },
          "metadata": {},
          "execution_count": 74
        }
      ]
    },
    {
      "cell_type": "code",
      "source": [
        "math_df[math_df['txt_length'] < 15]"
      ],
      "metadata": {
        "colab": {
          "base_uri": "https://localhost:8080/",
          "height": 396
        },
        "id": "oK8205HV5kJg",
        "outputId": "9a63fb78-6222-4dac-94ab-f980f704e3d0"
      },
      "execution_count": 78,
      "outputs": [
        {
          "output_type": "execute_result",
          "data": {
            "text/plain": [
              "      grade            text   talk_source  txt_length\n",
              "216       1    \\(4 + 2 = 6\\  student_text        12.0\n",
              "220       1    \\(4 + 2 = 6\\  student_text        12.0\n",
              "224       1    \\(4 + 2 = 6\\  student_text        12.0\n",
              "254       1   \\(3 + 7 = 10\\  student_text        13.0\n",
              "256       1    \\(3 + 4 = 7\\  student_text        12.0\n",
              "...     ...             ...           ...         ...\n",
              "46214     3  Square inches!  student_text        14.0\n",
              "46231     3  2 × 4 = 1 × 8.  student_text        14.0\n",
              "46281     3     4 × 7 = 28.  student_text        11.0\n",
              "46290     3     6 × 8 = 48.  student_text        11.0\n",
              "46298     3  9 centimeters!  student_text        14.0\n",
              "\n",
              "[1713 rows x 4 columns]"
            ],
            "text/html": [
              "\n",
              "  <div id=\"df-78556c13-e675-4a8d-bd87-b63b1dfe5847\">\n",
              "    <div class=\"colab-df-container\">\n",
              "      <div>\n",
              "<style scoped>\n",
              "    .dataframe tbody tr th:only-of-type {\n",
              "        vertical-align: middle;\n",
              "    }\n",
              "\n",
              "    .dataframe tbody tr th {\n",
              "        vertical-align: top;\n",
              "    }\n",
              "\n",
              "    .dataframe thead th {\n",
              "        text-align: right;\n",
              "    }\n",
              "</style>\n",
              "<table border=\"1\" class=\"dataframe\">\n",
              "  <thead>\n",
              "    <tr style=\"text-align: right;\">\n",
              "      <th></th>\n",
              "      <th>grade</th>\n",
              "      <th>text</th>\n",
              "      <th>talk_source</th>\n",
              "      <th>txt_length</th>\n",
              "    </tr>\n",
              "  </thead>\n",
              "  <tbody>\n",
              "    <tr>\n",
              "      <th>216</th>\n",
              "      <td>1</td>\n",
              "      <td>\\(4 + 2 = 6\\</td>\n",
              "      <td>student_text</td>\n",
              "      <td>12.0</td>\n",
              "    </tr>\n",
              "    <tr>\n",
              "      <th>220</th>\n",
              "      <td>1</td>\n",
              "      <td>\\(4 + 2 = 6\\</td>\n",
              "      <td>student_text</td>\n",
              "      <td>12.0</td>\n",
              "    </tr>\n",
              "    <tr>\n",
              "      <th>224</th>\n",
              "      <td>1</td>\n",
              "      <td>\\(4 + 2 = 6\\</td>\n",
              "      <td>student_text</td>\n",
              "      <td>12.0</td>\n",
              "    </tr>\n",
              "    <tr>\n",
              "      <th>254</th>\n",
              "      <td>1</td>\n",
              "      <td>\\(3 + 7 = 10\\</td>\n",
              "      <td>student_text</td>\n",
              "      <td>13.0</td>\n",
              "    </tr>\n",
              "    <tr>\n",
              "      <th>256</th>\n",
              "      <td>1</td>\n",
              "      <td>\\(3 + 4 = 7\\</td>\n",
              "      <td>student_text</td>\n",
              "      <td>12.0</td>\n",
              "    </tr>\n",
              "    <tr>\n",
              "      <th>...</th>\n",
              "      <td>...</td>\n",
              "      <td>...</td>\n",
              "      <td>...</td>\n",
              "      <td>...</td>\n",
              "    </tr>\n",
              "    <tr>\n",
              "      <th>46214</th>\n",
              "      <td>3</td>\n",
              "      <td>Square inches!</td>\n",
              "      <td>student_text</td>\n",
              "      <td>14.0</td>\n",
              "    </tr>\n",
              "    <tr>\n",
              "      <th>46231</th>\n",
              "      <td>3</td>\n",
              "      <td>2 × 4 = 1 × 8.</td>\n",
              "      <td>student_text</td>\n",
              "      <td>14.0</td>\n",
              "    </tr>\n",
              "    <tr>\n",
              "      <th>46281</th>\n",
              "      <td>3</td>\n",
              "      <td>4 × 7 = 28.</td>\n",
              "      <td>student_text</td>\n",
              "      <td>11.0</td>\n",
              "    </tr>\n",
              "    <tr>\n",
              "      <th>46290</th>\n",
              "      <td>3</td>\n",
              "      <td>6 × 8 = 48.</td>\n",
              "      <td>student_text</td>\n",
              "      <td>11.0</td>\n",
              "    </tr>\n",
              "    <tr>\n",
              "      <th>46298</th>\n",
              "      <td>3</td>\n",
              "      <td>9 centimeters!</td>\n",
              "      <td>student_text</td>\n",
              "      <td>14.0</td>\n",
              "    </tr>\n",
              "  </tbody>\n",
              "</table>\n",
              "<p>1713 rows × 4 columns</p>\n",
              "</div>\n",
              "      <button class=\"colab-df-convert\" onclick=\"convertToInteractive('df-78556c13-e675-4a8d-bd87-b63b1dfe5847')\"\n",
              "              title=\"Convert this dataframe to an interactive table.\"\n",
              "              style=\"display:none;\">\n",
              "        \n",
              "  <svg xmlns=\"http://www.w3.org/2000/svg\" height=\"24px\"viewBox=\"0 0 24 24\"\n",
              "       width=\"24px\">\n",
              "    <path d=\"M0 0h24v24H0V0z\" fill=\"none\"/>\n",
              "    <path d=\"M18.56 5.44l.94 2.06.94-2.06 2.06-.94-2.06-.94-.94-2.06-.94 2.06-2.06.94zm-11 1L8.5 8.5l.94-2.06 2.06-.94-2.06-.94L8.5 2.5l-.94 2.06-2.06.94zm10 10l.94 2.06.94-2.06 2.06-.94-2.06-.94-.94-2.06-.94 2.06-2.06.94z\"/><path d=\"M17.41 7.96l-1.37-1.37c-.4-.4-.92-.59-1.43-.59-.52 0-1.04.2-1.43.59L10.3 9.45l-7.72 7.72c-.78.78-.78 2.05 0 2.83L4 21.41c.39.39.9.59 1.41.59.51 0 1.02-.2 1.41-.59l7.78-7.78 2.81-2.81c.8-.78.8-2.07 0-2.86zM5.41 20L4 18.59l7.72-7.72 1.47 1.35L5.41 20z\"/>\n",
              "  </svg>\n",
              "      </button>\n",
              "      \n",
              "  <style>\n",
              "    .colab-df-container {\n",
              "      display:flex;\n",
              "      flex-wrap:wrap;\n",
              "      gap: 12px;\n",
              "    }\n",
              "\n",
              "    .colab-df-convert {\n",
              "      background-color: #E8F0FE;\n",
              "      border: none;\n",
              "      border-radius: 50%;\n",
              "      cursor: pointer;\n",
              "      display: none;\n",
              "      fill: #1967D2;\n",
              "      height: 32px;\n",
              "      padding: 0 0 0 0;\n",
              "      width: 32px;\n",
              "    }\n",
              "\n",
              "    .colab-df-convert:hover {\n",
              "      background-color: #E2EBFA;\n",
              "      box-shadow: 0px 1px 2px rgba(60, 64, 67, 0.3), 0px 1px 3px 1px rgba(60, 64, 67, 0.15);\n",
              "      fill: #174EA6;\n",
              "    }\n",
              "\n",
              "    [theme=dark] .colab-df-convert {\n",
              "      background-color: #3B4455;\n",
              "      fill: #D2E3FC;\n",
              "    }\n",
              "\n",
              "    [theme=dark] .colab-df-convert:hover {\n",
              "      background-color: #434B5C;\n",
              "      box-shadow: 0px 1px 3px 1px rgba(0, 0, 0, 0.15);\n",
              "      filter: drop-shadow(0px 1px 2px rgba(0, 0, 0, 0.3));\n",
              "      fill: #FFFFFF;\n",
              "    }\n",
              "  </style>\n",
              "\n",
              "      <script>\n",
              "        const buttonEl =\n",
              "          document.querySelector('#df-78556c13-e675-4a8d-bd87-b63b1dfe5847 button.colab-df-convert');\n",
              "        buttonEl.style.display =\n",
              "          google.colab.kernel.accessAllowed ? 'block' : 'none';\n",
              "\n",
              "        async function convertToInteractive(key) {\n",
              "          const element = document.querySelector('#df-78556c13-e675-4a8d-bd87-b63b1dfe5847');\n",
              "          const dataTable =\n",
              "            await google.colab.kernel.invokeFunction('convertToInteractive',\n",
              "                                                     [key], {});\n",
              "          if (!dataTable) return;\n",
              "\n",
              "          const docLinkHtml = 'Like what you see? Visit the ' +\n",
              "            '<a target=\"_blank\" href=https://colab.research.google.com/notebooks/data_table.ipynb>data table notebook</a>'\n",
              "            + ' to learn more about interactive tables.';\n",
              "          element.innerHTML = '';\n",
              "          dataTable['output_type'] = 'display_data';\n",
              "          await google.colab.output.renderOutput(dataTable, element);\n",
              "          const docLink = document.createElement('div');\n",
              "          docLink.innerHTML = docLinkHtml;\n",
              "          element.appendChild(docLink);\n",
              "        }\n",
              "      </script>\n",
              "    </div>\n",
              "  </div>\n",
              "  "
            ]
          },
          "metadata": {},
          "execution_count": 78
        }
      ]
    },
    {
      "cell_type": "code",
      "source": [
        "math_df3 = math_df[math_df['txt_length'] > 15] "
      ],
      "metadata": {
        "id": "l7QXwDV76PRT"
      },
      "execution_count": 79,
      "outputs": []
    },
    {
      "cell_type": "code",
      "source": [
        "math_df3[math_df3['txt_length'] < 20]"
      ],
      "metadata": {
        "colab": {
          "base_uri": "https://localhost:8080/",
          "height": 655
        },
        "id": "0hOntWSh6Qw2",
        "outputId": "9407c8f3-3218-4703-a635-455c1fdceace"
      },
      "execution_count": 80,
      "outputs": [
        {
          "output_type": "execute_result",
          "data": {
            "text/plain": [
              "      grade                 text   talk_source  txt_length\n",
              "417       1  False. \\(4 + 2 = 6\\  student_text        19.0\n",
              "422       1  False. \\(4 + 2 = 6\\  student_text        19.0\n",
              "427       1  False. \\(4 + 2 = 6\\  student_text        19.0\n",
              "519       1    If \\(10 + 4 = 14\\  student_text        17.0\n",
              "526       1    If \\(10 + 4 = 14\\  student_text        17.0\n",
              "...     ...                  ...           ...         ...\n",
              "46112     3     36 square units!  student_text        16.0\n",
              "46141     3     5, 7, 8, and 10.  student_text        16.0\n",
              "46220     3    What is the area?  teacher_text        17.0\n",
              "46221     3     8 square inches!  student_text        16.0\n",
              "46295     3     How do you know?  teacher_text        16.0\n",
              "\n",
              "[1086 rows x 4 columns]"
            ],
            "text/html": [
              "\n",
              "  <div id=\"df-df2c9bc6-f669-43dd-842f-2e4bb610145b\">\n",
              "    <div class=\"colab-df-container\">\n",
              "      <div>\n",
              "<style scoped>\n",
              "    .dataframe tbody tr th:only-of-type {\n",
              "        vertical-align: middle;\n",
              "    }\n",
              "\n",
              "    .dataframe tbody tr th {\n",
              "        vertical-align: top;\n",
              "    }\n",
              "\n",
              "    .dataframe thead th {\n",
              "        text-align: right;\n",
              "    }\n",
              "</style>\n",
              "<table border=\"1\" class=\"dataframe\">\n",
              "  <thead>\n",
              "    <tr style=\"text-align: right;\">\n",
              "      <th></th>\n",
              "      <th>grade</th>\n",
              "      <th>text</th>\n",
              "      <th>talk_source</th>\n",
              "      <th>txt_length</th>\n",
              "    </tr>\n",
              "  </thead>\n",
              "  <tbody>\n",
              "    <tr>\n",
              "      <th>417</th>\n",
              "      <td>1</td>\n",
              "      <td>False. \\(4 + 2 = 6\\</td>\n",
              "      <td>student_text</td>\n",
              "      <td>19.0</td>\n",
              "    </tr>\n",
              "    <tr>\n",
              "      <th>422</th>\n",
              "      <td>1</td>\n",
              "      <td>False. \\(4 + 2 = 6\\</td>\n",
              "      <td>student_text</td>\n",
              "      <td>19.0</td>\n",
              "    </tr>\n",
              "    <tr>\n",
              "      <th>427</th>\n",
              "      <td>1</td>\n",
              "      <td>False. \\(4 + 2 = 6\\</td>\n",
              "      <td>student_text</td>\n",
              "      <td>19.0</td>\n",
              "    </tr>\n",
              "    <tr>\n",
              "      <th>519</th>\n",
              "      <td>1</td>\n",
              "      <td>If \\(10 + 4 = 14\\</td>\n",
              "      <td>student_text</td>\n",
              "      <td>17.0</td>\n",
              "    </tr>\n",
              "    <tr>\n",
              "      <th>526</th>\n",
              "      <td>1</td>\n",
              "      <td>If \\(10 + 4 = 14\\</td>\n",
              "      <td>student_text</td>\n",
              "      <td>17.0</td>\n",
              "    </tr>\n",
              "    <tr>\n",
              "      <th>...</th>\n",
              "      <td>...</td>\n",
              "      <td>...</td>\n",
              "      <td>...</td>\n",
              "      <td>...</td>\n",
              "    </tr>\n",
              "    <tr>\n",
              "      <th>46112</th>\n",
              "      <td>3</td>\n",
              "      <td>36 square units!</td>\n",
              "      <td>student_text</td>\n",
              "      <td>16.0</td>\n",
              "    </tr>\n",
              "    <tr>\n",
              "      <th>46141</th>\n",
              "      <td>3</td>\n",
              "      <td>5, 7, 8, and 10.</td>\n",
              "      <td>student_text</td>\n",
              "      <td>16.0</td>\n",
              "    </tr>\n",
              "    <tr>\n",
              "      <th>46220</th>\n",
              "      <td>3</td>\n",
              "      <td>What is the area?</td>\n",
              "      <td>teacher_text</td>\n",
              "      <td>17.0</td>\n",
              "    </tr>\n",
              "    <tr>\n",
              "      <th>46221</th>\n",
              "      <td>3</td>\n",
              "      <td>8 square inches!</td>\n",
              "      <td>student_text</td>\n",
              "      <td>16.0</td>\n",
              "    </tr>\n",
              "    <tr>\n",
              "      <th>46295</th>\n",
              "      <td>3</td>\n",
              "      <td>How do you know?</td>\n",
              "      <td>teacher_text</td>\n",
              "      <td>16.0</td>\n",
              "    </tr>\n",
              "  </tbody>\n",
              "</table>\n",
              "<p>1086 rows × 4 columns</p>\n",
              "</div>\n",
              "      <button class=\"colab-df-convert\" onclick=\"convertToInteractive('df-df2c9bc6-f669-43dd-842f-2e4bb610145b')\"\n",
              "              title=\"Convert this dataframe to an interactive table.\"\n",
              "              style=\"display:none;\">\n",
              "        \n",
              "  <svg xmlns=\"http://www.w3.org/2000/svg\" height=\"24px\"viewBox=\"0 0 24 24\"\n",
              "       width=\"24px\">\n",
              "    <path d=\"M0 0h24v24H0V0z\" fill=\"none\"/>\n",
              "    <path d=\"M18.56 5.44l.94 2.06.94-2.06 2.06-.94-2.06-.94-.94-2.06-.94 2.06-2.06.94zm-11 1L8.5 8.5l.94-2.06 2.06-.94-2.06-.94L8.5 2.5l-.94 2.06-2.06.94zm10 10l.94 2.06.94-2.06 2.06-.94-2.06-.94-.94-2.06-.94 2.06-2.06.94z\"/><path d=\"M17.41 7.96l-1.37-1.37c-.4-.4-.92-.59-1.43-.59-.52 0-1.04.2-1.43.59L10.3 9.45l-7.72 7.72c-.78.78-.78 2.05 0 2.83L4 21.41c.39.39.9.59 1.41.59.51 0 1.02-.2 1.41-.59l7.78-7.78 2.81-2.81c.8-.78.8-2.07 0-2.86zM5.41 20L4 18.59l7.72-7.72 1.47 1.35L5.41 20z\"/>\n",
              "  </svg>\n",
              "      </button>\n",
              "      \n",
              "  <style>\n",
              "    .colab-df-container {\n",
              "      display:flex;\n",
              "      flex-wrap:wrap;\n",
              "      gap: 12px;\n",
              "    }\n",
              "\n",
              "    .colab-df-convert {\n",
              "      background-color: #E8F0FE;\n",
              "      border: none;\n",
              "      border-radius: 50%;\n",
              "      cursor: pointer;\n",
              "      display: none;\n",
              "      fill: #1967D2;\n",
              "      height: 32px;\n",
              "      padding: 0 0 0 0;\n",
              "      width: 32px;\n",
              "    }\n",
              "\n",
              "    .colab-df-convert:hover {\n",
              "      background-color: #E2EBFA;\n",
              "      box-shadow: 0px 1px 2px rgba(60, 64, 67, 0.3), 0px 1px 3px 1px rgba(60, 64, 67, 0.15);\n",
              "      fill: #174EA6;\n",
              "    }\n",
              "\n",
              "    [theme=dark] .colab-df-convert {\n",
              "      background-color: #3B4455;\n",
              "      fill: #D2E3FC;\n",
              "    }\n",
              "\n",
              "    [theme=dark] .colab-df-convert:hover {\n",
              "      background-color: #434B5C;\n",
              "      box-shadow: 0px 1px 3px 1px rgba(0, 0, 0, 0.15);\n",
              "      filter: drop-shadow(0px 1px 2px rgba(0, 0, 0, 0.3));\n",
              "      fill: #FFFFFF;\n",
              "    }\n",
              "  </style>\n",
              "\n",
              "      <script>\n",
              "        const buttonEl =\n",
              "          document.querySelector('#df-df2c9bc6-f669-43dd-842f-2e4bb610145b button.colab-df-convert');\n",
              "        buttonEl.style.display =\n",
              "          google.colab.kernel.accessAllowed ? 'block' : 'none';\n",
              "\n",
              "        async function convertToInteractive(key) {\n",
              "          const element = document.querySelector('#df-df2c9bc6-f669-43dd-842f-2e4bb610145b');\n",
              "          const dataTable =\n",
              "            await google.colab.kernel.invokeFunction('convertToInteractive',\n",
              "                                                     [key], {});\n",
              "          if (!dataTable) return;\n",
              "\n",
              "          const docLinkHtml = 'Like what you see? Visit the ' +\n",
              "            '<a target=\"_blank\" href=https://colab.research.google.com/notebooks/data_table.ipynb>data table notebook</a>'\n",
              "            + ' to learn more about interactive tables.';\n",
              "          element.innerHTML = '';\n",
              "          dataTable['output_type'] = 'display_data';\n",
              "          await google.colab.output.renderOutput(dataTable, element);\n",
              "          const docLink = document.createElement('div');\n",
              "          docLink.innerHTML = docLinkHtml;\n",
              "          element.appendChild(docLink);\n",
              "        }\n",
              "      </script>\n",
              "    </div>\n",
              "  </div>\n",
              "  "
            ]
          },
          "metadata": {},
          "execution_count": 80
        }
      ]
    },
    {
      "cell_type": "code",
      "source": [
        "from google.colab import files\n",
        "math_df3.to_csv(\"math_df3.csv\")\n",
        "files.download('math_df3.csv')"
      ],
      "metadata": {
        "colab": {
          "base_uri": "https://localhost:8080/",
          "height": 17
        },
        "id": "XppjtsRb6_B6",
        "outputId": "45a875cf-f526-4dde-decd-27eed8ac8b2f"
      },
      "execution_count": 82,
      "outputs": [
        {
          "output_type": "display_data",
          "data": {
            "text/plain": [
              "<IPython.core.display.Javascript object>"
            ],
            "application/javascript": [
              "\n",
              "    async function download(id, filename, size) {\n",
              "      if (!google.colab.kernel.accessAllowed) {\n",
              "        return;\n",
              "      }\n",
              "      const div = document.createElement('div');\n",
              "      const label = document.createElement('label');\n",
              "      label.textContent = `Downloading \"${filename}\": `;\n",
              "      div.appendChild(label);\n",
              "      const progress = document.createElement('progress');\n",
              "      progress.max = size;\n",
              "      div.appendChild(progress);\n",
              "      document.body.appendChild(div);\n",
              "\n",
              "      const buffers = [];\n",
              "      let downloaded = 0;\n",
              "\n",
              "      const channel = await google.colab.kernel.comms.open(id);\n",
              "      // Send a message to notify the kernel that we're ready.\n",
              "      channel.send({})\n",
              "\n",
              "      for await (const message of channel.messages) {\n",
              "        // Send a message to notify the kernel that we're ready.\n",
              "        channel.send({})\n",
              "        if (message.buffers) {\n",
              "          for (const buffer of message.buffers) {\n",
              "            buffers.push(buffer);\n",
              "            downloaded += buffer.byteLength;\n",
              "            progress.value = downloaded;\n",
              "          }\n",
              "        }\n",
              "      }\n",
              "      const blob = new Blob(buffers, {type: 'application/binary'});\n",
              "      const a = document.createElement('a');\n",
              "      a.href = window.URL.createObjectURL(blob);\n",
              "      a.download = filename;\n",
              "      div.appendChild(a);\n",
              "      a.click();\n",
              "      div.remove();\n",
              "    }\n",
              "  "
            ]
          },
          "metadata": {}
        },
        {
          "output_type": "display_data",
          "data": {
            "text/plain": [
              "<IPython.core.display.Javascript object>"
            ],
            "application/javascript": [
              "download(\"download_052f970b-0b31-4f78-ab03-f35276e95546\", \"math_df3.csv\", 4777702)"
            ]
          },
          "metadata": {}
        }
      ]
    },
    {
      "cell_type": "markdown",
      "source": [
        "### Remove useless stuff\n",
        "\n",
        "e.g. \n",
        "How do you know?\n",
        "what did you do?\n",
        "\n",
        "- incomplete sentences/expressions (maybe)\n",
        "  - e.g. cross each other\n",
        "\n",
        "- remove duplicates 18238 duplicates \n",
        "\n",
        "- non-math \n",
        "  - e.g. how do you know? what did you do?"
      ],
      "metadata": {
        "id": "ZvEQyElC7bxD"
      }
    },
    {
      "cell_type": "markdown",
      "source": [],
      "metadata": {
        "id": "QIUTSUhk-l7E"
      }
    }
  ]
}